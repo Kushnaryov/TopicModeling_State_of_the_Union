{
 "cells": [
  {
   "cell_type": "markdown",
   "metadata": {},
   "source": [
    "# Topic modeling of the Annual Messages to Congress on the State of the Union."
   ]
  },
  {
   "cell_type": "markdown",
   "metadata": {},
   "source": [
    "## Data"
   ]
  },
  {
   "cell_type": "markdown",
   "metadata": {},
   "source": [
    "All the speeches transcriptions was taken from the [American Presidency Project](https://www.presidency.ucsb.edu/documents/presidential-documents-archive-guidebook/annual-messages-congress-the-state-the-union). \n",
    "\n",
    "Corpus is consists of annualy messages to congress from the first one in 1790 except one year - 1933, when speech was not deliverred neither as a written message, nor as a speech, and additional 6 speeches of Richard Nixon in 1973.\n",
    "\n",
    "The scrapping algorythm you can find at *data* folder"
   ]
  },
  {
   "cell_type": "code",
   "execution_count": 1,
   "metadata": {},
   "outputs": [],
   "source": [
    "import pickle\n",
    "data = pickle.load(open('data/data.pkl', 'rb'))"
   ]
  },
  {
   "cell_type": "code",
   "execution_count": 2,
   "metadata": {},
   "outputs": [
    {
     "data": {
      "text/html": [
       "<div>\n",
       "<style scoped>\n",
       "    .dataframe tbody tr th:only-of-type {\n",
       "        vertical-align: middle;\n",
       "    }\n",
       "\n",
       "    .dataframe tbody tr th {\n",
       "        vertical-align: top;\n",
       "    }\n",
       "\n",
       "    .dataframe thead th {\n",
       "        text-align: right;\n",
       "    }\n",
       "</style>\n",
       "<table border=\"1\" class=\"dataframe\">\n",
       "  <thead>\n",
       "    <tr style=\"text-align: right;\">\n",
       "      <th></th>\n",
       "      <th>speech</th>\n",
       "      <th>date</th>\n",
       "    </tr>\n",
       "  </thead>\n",
       "  <tbody>\n",
       "    <tr>\n",
       "      <th>0</th>\n",
       "      <td>Fellow-Citizens of the Senate and House of Rep...</td>\n",
       "      <td>1790-01-08</td>\n",
       "    </tr>\n",
       "    <tr>\n",
       "      <th>1</th>\n",
       "      <td>Fellow-Citizens of the Senate and House of Rep...</td>\n",
       "      <td>1790-12-08</td>\n",
       "    </tr>\n",
       "    <tr>\n",
       "      <th>2</th>\n",
       "      <td>Fellow-Citizens of the Senate and House of Rep...</td>\n",
       "      <td>1791-10-25</td>\n",
       "    </tr>\n",
       "    <tr>\n",
       "      <th>3</th>\n",
       "      <td>Fellow-Citizens of the Senate and House of Rep...</td>\n",
       "      <td>1792-11-06</td>\n",
       "    </tr>\n",
       "    <tr>\n",
       "      <th>4</th>\n",
       "      <td>Fellow-Citizens of the Senate and House of Rep...</td>\n",
       "      <td>1793-12-03</td>\n",
       "    </tr>\n",
       "    <tr>\n",
       "      <th>...</th>\n",
       "      <td>...</td>\n",
       "      <td>...</td>\n",
       "    </tr>\n",
       "    <tr>\n",
       "      <th>242</th>\n",
       "      <td>Thank you very much. Mr. Speaker, Mr. Vice Pre...</td>\n",
       "      <td>2017-02-28</td>\n",
       "    </tr>\n",
       "    <tr>\n",
       "      <th>243</th>\n",
       "      <td>The President. Mr. Speaker, Mr. Vice President...</td>\n",
       "      <td>2018-01-30</td>\n",
       "    </tr>\n",
       "    <tr>\n",
       "      <th>244</th>\n",
       "      <td>The President. Madam Speaker, Mr. Vice Preside...</td>\n",
       "      <td>2019-02-05</td>\n",
       "    </tr>\n",
       "    <tr>\n",
       "      <th>245</th>\n",
       "      <td>The President. Thank you very much. Thank you....</td>\n",
       "      <td>2020-02-04</td>\n",
       "    </tr>\n",
       "    <tr>\n",
       "      <th>246</th>\n",
       "      <td>The President. Thank you. Thank you. Thank you...</td>\n",
       "      <td>2021-04-28</td>\n",
       "    </tr>\n",
       "  </tbody>\n",
       "</table>\n",
       "<p>247 rows × 2 columns</p>\n",
       "</div>"
      ],
      "text/plain": [
       "                                                speech       date\n",
       "0    Fellow-Citizens of the Senate and House of Rep... 1790-01-08\n",
       "1    Fellow-Citizens of the Senate and House of Rep... 1790-12-08\n",
       "2    Fellow-Citizens of the Senate and House of Rep... 1791-10-25\n",
       "3    Fellow-Citizens of the Senate and House of Rep... 1792-11-06\n",
       "4    Fellow-Citizens of the Senate and House of Rep... 1793-12-03\n",
       "..                                                 ...        ...\n",
       "242  Thank you very much. Mr. Speaker, Mr. Vice Pre... 2017-02-28\n",
       "243  The President. Mr. Speaker, Mr. Vice President... 2018-01-30\n",
       "244  The President. Madam Speaker, Mr. Vice Preside... 2019-02-05\n",
       "245  The President. Thank you very much. Thank you.... 2020-02-04\n",
       "246  The President. Thank you. Thank you. Thank you... 2021-04-28\n",
       "\n",
       "[247 rows x 2 columns]"
      ]
     },
     "execution_count": 2,
     "metadata": {},
     "output_type": "execute_result"
    }
   ],
   "source": [
    "data"
   ]
  },
  {
   "cell_type": "code",
   "execution_count": 9,
   "metadata": {},
   "outputs": [],
   "source": [
    "texts = data.speech.values"
   ]
  },
  {
   "cell_type": "code",
   "execution_count": 18,
   "metadata": {},
   "outputs": [
    {
     "data": {
      "text/plain": [
       "247"
      ]
     },
     "execution_count": 18,
     "metadata": {},
     "output_type": "execute_result"
    }
   ],
   "source": [
    "len(texts)"
   ]
  },
  {
   "cell_type": "code",
   "execution_count": 84,
   "metadata": {},
   "outputs": [],
   "source": [
    "sentences = []\n",
    "for i in texts:\n",
    "    sentences += i.split('. ')"
   ]
  },
  {
   "cell_type": "code",
   "execution_count": 86,
   "metadata": {},
   "outputs": [
    {
     "data": {
      "text/plain": [
       "70430"
      ]
     },
     "execution_count": 86,
     "metadata": {},
     "output_type": "execute_result"
    }
   ],
   "source": [
    "len(sentences)"
   ]
  },
  {
   "cell_type": "markdown",
   "metadata": {},
   "source": [
    "## Topic modeling technique\n",
    "\n",
    "In this notebook for topic modeling will be used BERTopic. This is a topic modeling technique that leverages transformers and c-TF-IDF to create dense clusters allowing for easily interpretable topics whilst keeping important words in the topic descriptions.\n",
    "\n",
    "Full description of the technic could be found at [GitHub](https://github.com/MaartenGr/BERTopic)"
   ]
  },
  {
   "cell_type": "code",
   "execution_count": 87,
   "metadata": {},
   "outputs": [],
   "source": [
    "# %%captur\n",
    "# !pip install bertopic"
   ]
  },
  {
   "cell_type": "markdown",
   "metadata": {},
   "source": [
    "*NOTE: After installing bertopic runtime reset is needed*"
   ]
  },
  {
   "cell_type": "code",
   "execution_count": 88,
   "metadata": {},
   "outputs": [],
   "source": [
    "from bertopic import BERTopic"
   ]
  },
  {
   "cell_type": "code",
   "execution_count": 89,
   "metadata": {},
   "outputs": [
    {
     "name": "stderr",
     "output_type": "stream",
     "text": [
      "Batches: 100%|██████████| 2201/2201 [54:14<00:00,  1.48s/it] \n",
      "2021-12-21 02:27:38,134 - BERTopic - Transformed documents to Embeddings\n",
      "2021-12-21 02:28:38,092 - BERTopic - Reduced dimensionality with UMAP\n"
     ]
    },
    {
     "name": "stdout",
     "output_type": "stream",
     "text": [
      "huggingface/tokenizers: The current process just got forked, after parallelism has already been used. Disabling parallelism to avoid deadlocks...\n",
      "To disable this warning, you can either:\n",
      "\t- Avoid using `tokenizers` before the fork if possible\n",
      "\t- Explicitly set the environment variable TOKENIZERS_PARALLELISM=(true | false)\n",
      "huggingface/tokenizers: The current process just got forked, after parallelism has already been used. Disabling parallelism to avoid deadlocks...\n",
      "To disable this warning, you can either:\n",
      "\t- Avoid using `tokenizers` before the fork if possible\n",
      "\t- Explicitly set the environment variable TOKENIZERS_PARALLELISM=(true | false)\n",
      "huggingface/tokenizers: The current process just got forked, after parallelism has already been used. Disabling parallelism to avoid deadlocks...\n",
      "To disable this warning, you can either:\n",
      "\t- Avoid using `tokenizers` before the fork if possible\n",
      "\t- Explicitly set the environment variable TOKENIZERS_PARALLELISM=(true | false)\n",
      "huggingface/tokenizers: The current process just got forked, after parallelism has already been used. Disabling parallelism to avoid deadlocks...\n",
      "To disable this warning, you can either:\n",
      "\t- Avoid using `tokenizers` before the fork if possible\n",
      "\t- Explicitly set the environment variable TOKENIZERS_PARALLELISM=(true | false)\n",
      "huggingface/tokenizers: The current process just got forked, after parallelism has already been used. Disabling parallelism to avoid deadlocks...\n",
      "To disable this warning, you can either:\n",
      "\t- Avoid using `tokenizers` before the fork if possible\n",
      "\t- Explicitly set the environment variable TOKENIZERS_PARALLELISM=(true | false)\n",
      "huggingface/tokenizers: The current process just got forked, after parallelism has already been used. Disabling parallelism to avoid deadlocks...\n",
      "To disable this warning, you can either:\n",
      "\t- Avoid using `tokenizers` before the fork if possible\n",
      "\t- Explicitly set the environment variable TOKENIZERS_PARALLELISM=(true | false)\n"
     ]
    },
    {
     "name": "stderr",
     "output_type": "stream",
     "text": [
      "2021-12-21 02:57:29,038 - BERTopic - Clustered UMAP embeddings with HDBSCAN\n"
     ]
    }
   ],
   "source": [
    "sentence_transformer = 'all-mpnet-base-v2'\n",
    "model = BERTopic(language=\"english\", \n",
    "                calculate_probabilities=True, \n",
    "                verbose=True, \n",
    "                embedding_model=sentence_transformer,\n",
    "                top_n_words=20,\n",
    "                n_gram_range=(1, 3))\n",
    "topics, probs = model.fit_transform(sentences)"
   ]
  },
  {
   "cell_type": "code",
   "execution_count": 94,
   "metadata": {},
   "outputs": [
    {
     "name": "stderr",
     "output_type": "stream",
     "text": [
      "/home/mikkkael/.local/lib/python3.8/site-packages/scipy/sparse/_index.py:125: SparseEfficiencyWarning:\n",
      "\n",
      "Changing the sparsity structure of a csr_matrix is expensive. lil_matrix is more efficient.\n",
      "\n"
     ]
    }
   ],
   "source": [
    "pickle.dump(model, open('BERTopic_model_speeches.pkl', 'wb'))"
   ]
  },
  {
   "cell_type": "code",
   "execution_count": 91,
   "metadata": {},
   "outputs": [
    {
     "data": {
      "text/html": [
       "<div>\n",
       "<style scoped>\n",
       "    .dataframe tbody tr th:only-of-type {\n",
       "        vertical-align: middle;\n",
       "    }\n",
       "\n",
       "    .dataframe tbody tr th {\n",
       "        vertical-align: top;\n",
       "    }\n",
       "\n",
       "    .dataframe thead th {\n",
       "        text-align: right;\n",
       "    }\n",
       "</style>\n",
       "<table border=\"1\" class=\"dataframe\">\n",
       "  <thead>\n",
       "    <tr style=\"text-align: right;\">\n",
       "      <th></th>\n",
       "      <th>Topic</th>\n",
       "      <th>Count</th>\n",
       "      <th>Name</th>\n",
       "    </tr>\n",
       "  </thead>\n",
       "  <tbody>\n",
       "    <tr>\n",
       "      <th>0</th>\n",
       "      <td>-1</td>\n",
       "      <td>33737</td>\n",
       "      <td>-1_the_of_to_and</td>\n",
       "    </tr>\n",
       "    <tr>\n",
       "      <th>1</th>\n",
       "      <td>0</td>\n",
       "      <td>1609</td>\n",
       "      <td>0_we_do_let_but</td>\n",
       "    </tr>\n",
       "    <tr>\n",
       "      <th>2</th>\n",
       "      <td>1</td>\n",
       "      <td>1181</td>\n",
       "      <td>1_education_schools_school_children</td>\n",
       "    </tr>\n",
       "    <tr>\n",
       "      <th>3</th>\n",
       "      <td>2</td>\n",
       "      <td>994</td>\n",
       "      <td>2_indian_indians_tribes_the indians</td>\n",
       "    </tr>\n",
       "    <tr>\n",
       "      <th>4</th>\n",
       "      <td>3</td>\n",
       "      <td>984</td>\n",
       "      <td>3_farm_agriculture_agricultural_farmers</td>\n",
       "    </tr>\n",
       "    <tr>\n",
       "      <th>...</th>\n",
       "      <td>...</td>\n",
       "      <td>...</td>\n",
       "      <td>...</td>\n",
       "    </tr>\n",
       "    <tr>\n",
       "      <th>518</th>\n",
       "      <td>529</td>\n",
       "      <td>10</td>\n",
       "      <td>529_that we relieve_we relieve_duty_their duty...</td>\n",
       "    </tr>\n",
       "    <tr>\n",
       "      <th>516</th>\n",
       "      <td>527</td>\n",
       "      <td>10</td>\n",
       "      <td>527_realism_reason and_to remove the_the call</td>\n",
       "    </tr>\n",
       "    <tr>\n",
       "      <th>515</th>\n",
       "      <td>526</td>\n",
       "      <td>10</td>\n",
       "      <td>526_of property was_damage_property_property was</td>\n",
       "    </tr>\n",
       "    <tr>\n",
       "      <th>514</th>\n",
       "      <td>530</td>\n",
       "      <td>10</td>\n",
       "      <td>530_judges_salaries_salaries of the_the salari...</td>\n",
       "    </tr>\n",
       "    <tr>\n",
       "      <th>536</th>\n",
       "      <td>535</td>\n",
       "      <td>10</td>\n",
       "      <td>535_hayti_in hayti_of hayti_the haytian</td>\n",
       "    </tr>\n",
       "  </tbody>\n",
       "</table>\n",
       "<p>537 rows × 3 columns</p>\n",
       "</div>"
      ],
      "text/plain": [
       "     Topic  Count                                               Name\n",
       "0       -1  33737                                   -1_the_of_to_and\n",
       "1        0   1609                                    0_we_do_let_but\n",
       "2        1   1181                1_education_schools_school_children\n",
       "3        2    994                2_indian_indians_tribes_the indians\n",
       "4        3    984            3_farm_agriculture_agricultural_farmers\n",
       "..     ...    ...                                                ...\n",
       "518    529     10  529_that we relieve_we relieve_duty_their duty...\n",
       "516    527     10      527_realism_reason and_to remove the_the call\n",
       "515    526     10   526_of property was_damage_property_property was\n",
       "514    530     10  530_judges_salaries_salaries of the_the salari...\n",
       "536    535     10            535_hayti_in hayti_of hayti_the haytian\n",
       "\n",
       "[537 rows x 3 columns]"
      ]
     },
     "execution_count": 91,
     "metadata": {},
     "output_type": "execute_result"
    }
   ],
   "source": [
    "freq = model.get_topic_info()\n",
    "freq"
   ]
  },
  {
   "cell_type": "code",
   "execution_count": 92,
   "metadata": {},
   "outputs": [
    {
     "data": {
      "text/plain": [
       "[('railroads', 0.012072028562003075),\n",
       " ('railroad', 0.00911911060269972),\n",
       " ('interstate', 0.007704605600901679),\n",
       " ('the railroads', 0.007268461329359274),\n",
       " ('railway', 0.007014004680801876),\n",
       " ('railways', 0.00584573131940656),\n",
       " ('interstate commerce', 0.0056788416774564785),\n",
       " ('the interstate', 0.004747955104943944),\n",
       " ('interstate commerce commission', 0.004690655760056495),\n",
       " ('commerce commission', 0.004690655760056495),\n",
       " ('the interstate commerce', 0.004517309708701085),\n",
       " ('the railways', 0.004434601021471044),\n",
       " ('commerce', 0.0035886580863750215),\n",
       " ('commission', 0.0034617805022789513),\n",
       " ('the railroad', 0.0032405997844161824),\n",
       " ('the railway', 0.0029957916953548282),\n",
       " ('of railroad', 0.0028637041498396974),\n",
       " ('employees', 0.002853382704172018),\n",
       " ('of the interstate', 0.002849412539003186),\n",
       " ('public', 0.002543859687277821)]"
      ]
     },
     "execution_count": 92,
     "metadata": {},
     "output_type": "execute_result"
    }
   ],
   "source": [
    "model.get_topic(31)"
   ]
  },
  {
   "cell_type": "code",
   "execution_count": 93,
   "metadata": {},
   "outputs": [
    {
     "data": {
      "application/vnd.plotly.v1+json": {
       "config": {
        "plotlyServerURL": "https://plot.ly"
       },
       "data": [
        {
         "hoverinfo": "text",
         "marker": {
          "color": "rgb(0,116,217)"
         },
         "mode": "lines",
         "type": "scatter",
         "x": [
          0,
          1.1095873640848144,
          1.1095873640848144,
          0
         ],
         "xaxis": "x",
         "y": [
          -15,
          -15,
          -25,
          -25
         ],
         "yaxis": "y"
        },
        {
         "hoverinfo": "text",
         "marker": {
          "color": "rgb(0,116,217)"
         },
         "mode": "lines",
         "type": "scatter",
         "x": [
          0,
          1.3649987282313867,
          1.3649987282313867,
          1.1095873640848144
         ],
         "xaxis": "x",
         "y": [
          -5,
          -5,
          -20,
          -20
         ],
         "yaxis": "y"
        },
        {
         "hoverinfo": "text",
         "marker": {
          "color": "rgb(61,153,112)"
         },
         "mode": "lines",
         "type": "scatter",
         "x": [
          0,
          0.9173388853556527,
          0.9173388853556527,
          0
         ],
         "xaxis": "x",
         "y": [
          -35,
          -35,
          -45,
          -45
         ],
         "yaxis": "y"
        },
        {
         "hoverinfo": "text",
         "marker": {
          "color": "rgb(0,116,217)"
         },
         "mode": "lines",
         "type": "scatter",
         "x": [
          0,
          1.1788488636981995,
          1.1788488636981995,
          0
         ],
         "xaxis": "x",
         "y": [
          -55,
          -55,
          -65,
          -65
         ],
         "yaxis": "y"
        },
        {
         "hoverinfo": "text",
         "marker": {
          "color": "rgb(0,116,217)"
         },
         "mode": "lines",
         "type": "scatter",
         "x": [
          0,
          1.0296734192582544,
          1.0296734192582544,
          0
         ],
         "xaxis": "x",
         "y": [
          -85,
          -85,
          -95,
          -95
         ],
         "yaxis": "y"
        },
        {
         "hoverinfo": "text",
         "marker": {
          "color": "rgb(0,116,217)"
         },
         "mode": "lines",
         "type": "scatter",
         "x": [
          0,
          1.282687319009777,
          1.282687319009777,
          1.0296734192582544
         ],
         "xaxis": "x",
         "y": [
          -75,
          -75,
          -90,
          -90
         ],
         "yaxis": "y"
        },
        {
         "hoverinfo": "text",
         "marker": {
          "color": "rgb(0,116,217)"
         },
         "mode": "lines",
         "type": "scatter",
         "x": [
          1.1788488636981995,
          1.6534445480492144,
          1.6534445480492144,
          1.282687319009777
         ],
         "xaxis": "x",
         "y": [
          -60,
          -60,
          -82.5,
          -82.5
         ],
         "yaxis": "y"
        },
        {
         "hoverinfo": "text",
         "marker": {
          "color": "rgb(0,116,217)"
         },
         "mode": "lines",
         "type": "scatter",
         "x": [
          0.9173388853556527,
          1.7276885165624276,
          1.7276885165624276,
          1.6534445480492144
         ],
         "xaxis": "x",
         "y": [
          -40,
          -40,
          -71.25,
          -71.25
         ],
         "yaxis": "y"
        },
        {
         "hoverinfo": "text",
         "marker": {
          "color": "rgb(0,116,217)"
         },
         "mode": "lines",
         "type": "scatter",
         "x": [
          1.3649987282313867,
          2.2524289924920766,
          2.2524289924920766,
          1.7276885165624276
         ],
         "xaxis": "x",
         "y": [
          -12.5,
          -12.5,
          -55.625,
          -55.625
         ],
         "yaxis": "y"
        },
        {
         "hoverinfo": "text",
         "marker": {
          "color": "rgb(255,65,54)"
         },
         "mode": "lines",
         "type": "scatter",
         "x": [
          0,
          0.7163729887384879,
          0.7163729887384879,
          0
         ],
         "xaxis": "x",
         "y": [
          -115,
          -115,
          -125,
          -125
         ],
         "yaxis": "y"
        },
        {
         "hoverinfo": "text",
         "marker": {
          "color": "rgb(0,116,217)"
         },
         "mode": "lines",
         "type": "scatter",
         "x": [
          0,
          1.0559369148778286,
          1.0559369148778286,
          0.7163729887384879
         ],
         "xaxis": "x",
         "y": [
          -105,
          -105,
          -120,
          -120
         ],
         "yaxis": "y"
        },
        {
         "hoverinfo": "text",
         "marker": {
          "color": "rgb(0,116,217)"
         },
         "mode": "lines",
         "type": "scatter",
         "x": [
          0,
          1.1646699112816299,
          1.1646699112816299,
          0
         ],
         "xaxis": "x",
         "y": [
          -145,
          -145,
          -155,
          -155
         ],
         "yaxis": "y"
        },
        {
         "hoverinfo": "text",
         "marker": {
          "color": "rgb(0,116,217)"
         },
         "mode": "lines",
         "type": "scatter",
         "x": [
          0,
          1.5828393634457294,
          1.5828393634457294,
          1.1646699112816299
         ],
         "xaxis": "x",
         "y": [
          -135,
          -135,
          -150,
          -150
         ],
         "yaxis": "y"
        },
        {
         "hoverinfo": "text",
         "marker": {
          "color": "rgb(0,116,217)"
         },
         "mode": "lines",
         "type": "scatter",
         "x": [
          0,
          1.2754610964670117,
          1.2754610964670117,
          0
         ],
         "xaxis": "x",
         "y": [
          -165,
          -165,
          -175,
          -175
         ],
         "yaxis": "y"
        },
        {
         "hoverinfo": "text",
         "marker": {
          "color": "rgb(0,116,217)"
         },
         "mode": "lines",
         "type": "scatter",
         "x": [
          0,
          1.354417353636325,
          1.354417353636325,
          0
         ],
         "xaxis": "x",
         "y": [
          -185,
          -185,
          -195,
          -195
         ],
         "yaxis": "y"
        },
        {
         "hoverinfo": "text",
         "marker": {
          "color": "rgb(0,116,217)"
         },
         "mode": "lines",
         "type": "scatter",
         "x": [
          1.2754610964670117,
          1.6314720055671195,
          1.6314720055671195,
          1.354417353636325
         ],
         "xaxis": "x",
         "y": [
          -170,
          -170,
          -190,
          -190
         ],
         "yaxis": "y"
        },
        {
         "hoverinfo": "text",
         "marker": {
          "color": "rgb(0,116,217)"
         },
         "mode": "lines",
         "type": "scatter",
         "x": [
          1.5828393634457294,
          1.8375879376933004,
          1.8375879376933004,
          1.6314720055671195
         ],
         "xaxis": "x",
         "y": [
          -142.5,
          -142.5,
          -180,
          -180
         ],
         "yaxis": "y"
        },
        {
         "hoverinfo": "text",
         "marker": {
          "color": "rgb(0,116,217)"
         },
         "mode": "lines",
         "type": "scatter",
         "x": [
          1.0559369148778286,
          2.2629417341176667,
          2.2629417341176667,
          1.8375879376933004
         ],
         "xaxis": "x",
         "y": [
          -112.5,
          -112.5,
          -161.25,
          -161.25
         ],
         "yaxis": "y"
        },
        {
         "hoverinfo": "text",
         "marker": {
          "color": "rgb(0,116,217)"
         },
         "mode": "lines",
         "type": "scatter",
         "x": [
          2.2524289924920766,
          3.0432845666062103,
          3.0432845666062103,
          2.2629417341176667
         ],
         "xaxis": "x",
         "y": [
          -34.0625,
          -34.0625,
          -136.875,
          -136.875
         ],
         "yaxis": "y"
        },
        {
         "hoverinfo": "text",
         "marker": {
          "color": "rgb(0,116,217)"
         },
         "mode": "lines",
         "type": "scatter",
         "x": [
          0,
          1.0732219287787697,
          1.0732219287787697,
          0
         ],
         "xaxis": "x",
         "y": [
          -205,
          -205,
          -215,
          -215
         ],
         "yaxis": "y"
        },
        {
         "hoverinfo": "text",
         "marker": {
          "color": "rgb(0,116,217)"
         },
         "mode": "lines",
         "type": "scatter",
         "x": [
          0,
          1.1115448733155542,
          1.1115448733155542,
          0
         ],
         "xaxis": "x",
         "y": [
          -235,
          -235,
          -245,
          -245
         ],
         "yaxis": "y"
        },
        {
         "hoverinfo": "text",
         "marker": {
          "color": "rgb(0,116,217)"
         },
         "mode": "lines",
         "type": "scatter",
         "x": [
          0,
          1.2706900807236532,
          1.2706900807236532,
          1.1115448733155542
         ],
         "xaxis": "x",
         "y": [
          -225,
          -225,
          -240,
          -240
         ],
         "yaxis": "y"
        },
        {
         "hoverinfo": "text",
         "marker": {
          "color": "rgb(0,116,217)"
         },
         "mode": "lines",
         "type": "scatter",
         "x": [
          1.0732219287787697,
          1.7664440057544109,
          1.7664440057544109,
          1.2706900807236532
         ],
         "xaxis": "x",
         "y": [
          -210,
          -210,
          -232.5,
          -232.5
         ],
         "yaxis": "y"
        },
        {
         "hoverinfo": "text",
         "marker": {
          "color": "rgb(0,116,217)"
         },
         "mode": "lines",
         "type": "scatter",
         "x": [
          0,
          1.1208242542603357,
          1.1208242542603357,
          0
         ],
         "xaxis": "x",
         "y": [
          -255,
          -255,
          -265,
          -265
         ],
         "yaxis": "y"
        },
        {
         "hoverinfo": "text",
         "marker": {
          "color": "rgb(0,116,217)"
         },
         "mode": "lines",
         "type": "scatter",
         "x": [
          0,
          1.1118962297071036,
          1.1118962297071036,
          0
         ],
         "xaxis": "x",
         "y": [
          -295,
          -295,
          -305,
          -305
         ],
         "yaxis": "y"
        },
        {
         "hoverinfo": "text",
         "marker": {
          "color": "rgb(0,116,217)"
         },
         "mode": "lines",
         "type": "scatter",
         "x": [
          0,
          1.4336417707936915,
          1.4336417707936915,
          1.1118962297071036
         ],
         "xaxis": "x",
         "y": [
          -285,
          -285,
          -300,
          -300
         ],
         "yaxis": "y"
        },
        {
         "hoverinfo": "text",
         "marker": {
          "color": "rgb(0,116,217)"
         },
         "mode": "lines",
         "type": "scatter",
         "x": [
          0,
          1.5966481590164165,
          1.5966481590164165,
          1.4336417707936915
         ],
         "xaxis": "x",
         "y": [
          -275,
          -275,
          -292.5,
          -292.5
         ],
         "yaxis": "y"
        },
        {
         "hoverinfo": "text",
         "marker": {
          "color": "rgb(0,116,217)"
         },
         "mode": "lines",
         "type": "scatter",
         "x": [
          0,
          1.124489298284511,
          1.124489298284511,
          0
         ],
         "xaxis": "x",
         "y": [
          -325,
          -325,
          -335,
          -335
         ],
         "yaxis": "y"
        },
        {
         "hoverinfo": "text",
         "marker": {
          "color": "rgb(0,116,217)"
         },
         "mode": "lines",
         "type": "scatter",
         "x": [
          0,
          1.63009596034751,
          1.63009596034751,
          1.124489298284511
         ],
         "xaxis": "x",
         "y": [
          -315,
          -315,
          -330,
          -330
         ],
         "yaxis": "y"
        },
        {
         "hoverinfo": "text",
         "marker": {
          "color": "rgb(0,116,217)"
         },
         "mode": "lines",
         "type": "scatter",
         "x": [
          1.5966481590164165,
          2.0700505412755748,
          2.0700505412755748,
          1.63009596034751
         ],
         "xaxis": "x",
         "y": [
          -283.75,
          -283.75,
          -322.5,
          -322.5
         ],
         "yaxis": "y"
        },
        {
         "hoverinfo": "text",
         "marker": {
          "color": "rgb(0,116,217)"
         },
         "mode": "lines",
         "type": "scatter",
         "x": [
          1.1208242542603357,
          2.2415537578860687,
          2.2415537578860687,
          2.0700505412755748
         ],
         "xaxis": "x",
         "y": [
          -260,
          -260,
          -303.125,
          -303.125
         ],
         "yaxis": "y"
        },
        {
         "hoverinfo": "text",
         "marker": {
          "color": "rgb(0,116,217)"
         },
         "mode": "lines",
         "type": "scatter",
         "x": [
          1.7664440057544109,
          2.595218142365731,
          2.595218142365731,
          2.2415537578860687
         ],
         "xaxis": "x",
         "y": [
          -221.25,
          -221.25,
          -281.5625,
          -281.5625
         ],
         "yaxis": "y"
        },
        {
         "hoverinfo": "text",
         "marker": {
          "color": "rgb(0,116,217)"
         },
         "mode": "lines",
         "type": "scatter",
         "x": [
          0,
          1.1377809664086094,
          1.1377809664086094,
          0
         ],
         "xaxis": "x",
         "y": [
          -365,
          -365,
          -375,
          -375
         ],
         "yaxis": "y"
        },
        {
         "hoverinfo": "text",
         "marker": {
          "color": "rgb(0,116,217)"
         },
         "mode": "lines",
         "type": "scatter",
         "x": [
          0,
          1.2436109354894982,
          1.2436109354894982,
          1.1377809664086094
         ],
         "xaxis": "x",
         "y": [
          -355,
          -355,
          -370,
          -370
         ],
         "yaxis": "y"
        },
        {
         "hoverinfo": "text",
         "marker": {
          "color": "rgb(0,116,217)"
         },
         "mode": "lines",
         "type": "scatter",
         "x": [
          0,
          1.523034308998951,
          1.523034308998951,
          1.2436109354894982
         ],
         "xaxis": "x",
         "y": [
          -345,
          -345,
          -362.5,
          -362.5
         ],
         "yaxis": "y"
        },
        {
         "hoverinfo": "text",
         "marker": {
          "color": "rgb(0,116,217)"
         },
         "mode": "lines",
         "type": "scatter",
         "x": [
          0,
          1.267312588652115,
          1.267312588652115,
          0
         ],
         "xaxis": "x",
         "y": [
          -385,
          -385,
          -395,
          -395
         ],
         "yaxis": "y"
        },
        {
         "hoverinfo": "text",
         "marker": {
          "color": "rgb(0,116,217)"
         },
         "mode": "lines",
         "type": "scatter",
         "x": [
          0,
          1.0330865960282571,
          1.0330865960282571,
          0
         ],
         "xaxis": "x",
         "y": [
          -415,
          -415,
          -425,
          -425
         ],
         "yaxis": "y"
        },
        {
         "hoverinfo": "text",
         "marker": {
          "color": "rgb(0,116,217)"
         },
         "mode": "lines",
         "type": "scatter",
         "x": [
          0,
          1.3026943002531772,
          1.3026943002531772,
          1.0330865960282571
         ],
         "xaxis": "x",
         "y": [
          -405,
          -405,
          -420,
          -420
         ],
         "yaxis": "y"
        },
        {
         "hoverinfo": "text",
         "marker": {
          "color": "rgb(0,116,217)"
         },
         "mode": "lines",
         "type": "scatter",
         "x": [
          1.267312588652115,
          1.7489631042081302,
          1.7489631042081302,
          1.3026943002531772
         ],
         "xaxis": "x",
         "y": [
          -390,
          -390,
          -412.5,
          -412.5
         ],
         "yaxis": "y"
        },
        {
         "hoverinfo": "text",
         "marker": {
          "color": "rgb(0,116,217)"
         },
         "mode": "lines",
         "type": "scatter",
         "x": [
          1.523034308998951,
          2.689425149373726,
          2.689425149373726,
          1.7489631042081302
         ],
         "xaxis": "x",
         "y": [
          -353.75,
          -353.75,
          -401.25,
          -401.25
         ],
         "yaxis": "y"
        },
        {
         "hoverinfo": "text",
         "marker": {
          "color": "rgb(0,116,217)"
         },
         "mode": "lines",
         "type": "scatter",
         "x": [
          2.595218142365731,
          4.041211191238144,
          4.041211191238144,
          2.689425149373726
         ],
         "xaxis": "x",
         "y": [
          -251.40625,
          -251.40625,
          -377.5,
          -377.5
         ],
         "yaxis": "y"
        },
        {
         "hoverinfo": "text",
         "marker": {
          "color": "rgb(0,116,217)"
         },
         "mode": "lines",
         "type": "scatter",
         "x": [
          3.0432845666062103,
          5.053845442331614,
          5.053845442331614,
          4.041211191238144
         ],
         "xaxis": "x",
         "y": [
          -85.46875,
          -85.46875,
          -314.453125,
          -314.453125
         ],
         "yaxis": "y"
        },
        {
         "hoverinfo": "text",
         "marker": {
          "color": "rgb(0,116,217)"
         },
         "mode": "lines",
         "type": "scatter",
         "x": [
          0,
          1.038768631488193,
          1.038768631488193,
          0
         ],
         "xaxis": "x",
         "y": [
          -455,
          -455,
          -465,
          -465
         ],
         "yaxis": "y"
        },
        {
         "hoverinfo": "text",
         "marker": {
          "color": "rgb(0,116,217)"
         },
         "mode": "lines",
         "type": "scatter",
         "x": [
          0,
          1.325855110430359,
          1.325855110430359,
          1.038768631488193
         ],
         "xaxis": "x",
         "y": [
          -445,
          -445,
          -460,
          -460
         ],
         "yaxis": "y"
        },
        {
         "hoverinfo": "text",
         "marker": {
          "color": "rgb(0,116,217)"
         },
         "mode": "lines",
         "type": "scatter",
         "x": [
          0,
          1.400412712063835,
          1.400412712063835,
          1.325855110430359
         ],
         "xaxis": "x",
         "y": [
          -435,
          -435,
          -452.5,
          -452.5
         ],
         "yaxis": "y"
        },
        {
         "hoverinfo": "text",
         "marker": {
          "color": "rgb(35,205,205)"
         },
         "mode": "lines",
         "type": "scatter",
         "x": [
          0,
          0.7735311788053448,
          0.7735311788053448,
          0
         ],
         "xaxis": "x",
         "y": [
          -475,
          -475,
          -485,
          -485
         ],
         "yaxis": "y"
        },
        {
         "hoverinfo": "text",
         "marker": {
          "color": "rgb(133,20,75)"
         },
         "mode": "lines",
         "type": "scatter",
         "x": [
          0,
          0.9453321979290376,
          0.9453321979290376,
          0
         ],
         "xaxis": "x",
         "y": [
          -495,
          -495,
          -505,
          -505
         ],
         "yaxis": "y"
        },
        {
         "hoverinfo": "text",
         "marker": {
          "color": "rgb(0,116,217)"
         },
         "mode": "lines",
         "type": "scatter",
         "x": [
          0.7735311788053448,
          1.3332748032016455,
          1.3332748032016455,
          0.9453321979290376
         ],
         "xaxis": "x",
         "y": [
          -480,
          -480,
          -500,
          -500
         ],
         "yaxis": "y"
        },
        {
         "hoverinfo": "text",
         "marker": {
          "color": "rgb(0,116,217)"
         },
         "mode": "lines",
         "type": "scatter",
         "x": [
          0,
          1.0256155652450063,
          1.0256155652450063,
          0
         ],
         "xaxis": "x",
         "y": [
          -525,
          -525,
          -535,
          -535
         ],
         "yaxis": "y"
        },
        {
         "hoverinfo": "text",
         "marker": {
          "color": "rgb(0,116,217)"
         },
         "mode": "lines",
         "type": "scatter",
         "x": [
          0,
          1.5437713947499692,
          1.5437713947499692,
          1.0256155652450063
         ],
         "xaxis": "x",
         "y": [
          -515,
          -515,
          -530,
          -530
         ],
         "yaxis": "y"
        },
        {
         "hoverinfo": "text",
         "marker": {
          "color": "rgb(0,116,217)"
         },
         "mode": "lines",
         "type": "scatter",
         "x": [
          1.3332748032016455,
          1.7601271213565424,
          1.7601271213565424,
          1.5437713947499692
         ],
         "xaxis": "x",
         "y": [
          -490,
          -490,
          -522.5,
          -522.5
         ],
         "yaxis": "y"
        },
        {
         "hoverinfo": "text",
         "marker": {
          "color": "rgb(0,116,217)"
         },
         "mode": "lines",
         "type": "scatter",
         "x": [
          1.400412712063835,
          2.2476493378361733,
          2.2476493378361733,
          1.7601271213565424
         ],
         "xaxis": "x",
         "y": [
          -443.75,
          -443.75,
          -506.25,
          -506.25
         ],
         "yaxis": "y"
        },
        {
         "hoverinfo": "text",
         "marker": {
          "color": "rgb(255,220,0)"
         },
         "mode": "lines",
         "type": "scatter",
         "x": [
          0,
          0.9742932534557484,
          0.9742932534557484,
          0
         ],
         "xaxis": "x",
         "y": [
          -555,
          -555,
          -565,
          -565
         ],
         "yaxis": "y"
        },
        {
         "hoverinfo": "text",
         "marker": {
          "color": "rgb(0,116,217)"
         },
         "mode": "lines",
         "type": "scatter",
         "x": [
          0,
          1.1336651568581315,
          1.1336651568581315,
          0.9742932534557484
         ],
         "xaxis": "x",
         "y": [
          -545,
          -545,
          -560,
          -560
         ],
         "yaxis": "y"
        },
        {
         "hoverinfo": "text",
         "marker": {
          "color": "rgb(0,116,217)"
         },
         "mode": "lines",
         "type": "scatter",
         "x": [
          0,
          1.1410251126758832,
          1.1410251126758832,
          0
         ],
         "xaxis": "x",
         "y": [
          -575,
          -575,
          -585,
          -585
         ],
         "yaxis": "y"
        },
        {
         "hoverinfo": "text",
         "marker": {
          "color": "rgb(0,116,217)"
         },
         "mode": "lines",
         "type": "scatter",
         "x": [
          1.1336651568581315,
          1.9061286509280402,
          1.9061286509280402,
          1.1410251126758832
         ],
         "xaxis": "x",
         "y": [
          -552.5,
          -552.5,
          -580,
          -580
         ],
         "yaxis": "y"
        },
        {
         "hoverinfo": "text",
         "marker": {
          "color": "rgb(0,116,217)"
         },
         "mode": "lines",
         "type": "scatter",
         "x": [
          0,
          1.1081708970421817,
          1.1081708970421817,
          0
         ],
         "xaxis": "x",
         "y": [
          -595,
          -595,
          -605,
          -605
         ],
         "yaxis": "y"
        },
        {
         "hoverinfo": "text",
         "marker": {
          "color": "rgb(0,116,217)"
         },
         "mode": "lines",
         "type": "scatter",
         "x": [
          0,
          1.4393419619601766,
          1.4393419619601766,
          0
         ],
         "xaxis": "x",
         "y": [
          -625,
          -625,
          -635,
          -635
         ],
         "yaxis": "y"
        },
        {
         "hoverinfo": "text",
         "marker": {
          "color": "rgb(0,116,217)"
         },
         "mode": "lines",
         "type": "scatter",
         "x": [
          0,
          1.5114539181303985,
          1.5114539181303985,
          1.4393419619601766
         ],
         "xaxis": "x",
         "y": [
          -615,
          -615,
          -630,
          -630
         ],
         "yaxis": "y"
        },
        {
         "hoverinfo": "text",
         "marker": {
          "color": "rgb(0,116,217)"
         },
         "mode": "lines",
         "type": "scatter",
         "x": [
          1.1081708970421817,
          2.2535628277791013,
          2.2535628277791013,
          1.5114539181303985
         ],
         "xaxis": "x",
         "y": [
          -600,
          -600,
          -622.5,
          -622.5
         ],
         "yaxis": "y"
        },
        {
         "hoverinfo": "text",
         "marker": {
          "color": "rgb(0,116,217)"
         },
         "mode": "lines",
         "type": "scatter",
         "x": [
          1.9061286509280402,
          2.427001960028405,
          2.427001960028405,
          2.2535628277791013
         ],
         "xaxis": "x",
         "y": [
          -566.25,
          -566.25,
          -611.25,
          -611.25
         ],
         "yaxis": "y"
        },
        {
         "hoverinfo": "text",
         "marker": {
          "color": "rgb(0,116,217)"
         },
         "mode": "lines",
         "type": "scatter",
         "x": [
          2.2476493378361733,
          3.2384029277377127,
          3.2384029277377127,
          2.427001960028405
         ],
         "xaxis": "x",
         "y": [
          -475,
          -475,
          -588.75,
          -588.75
         ],
         "yaxis": "y"
        },
        {
         "hoverinfo": "text",
         "marker": {
          "color": "rgb(0,116,217)"
         },
         "mode": "lines",
         "type": "scatter",
         "x": [
          0,
          1.5448687755452926,
          1.5448687755452926,
          0
         ],
         "xaxis": "x",
         "y": [
          -645,
          -645,
          -655,
          -655
         ],
         "yaxis": "y"
        },
        {
         "hoverinfo": "text",
         "marker": {
          "color": "rgb(0,116,217)"
         },
         "mode": "lines",
         "type": "scatter",
         "x": [
          0,
          1.1757304552081682,
          1.1757304552081682,
          0
         ],
         "xaxis": "x",
         "y": [
          -665,
          -665,
          -675,
          -675
         ],
         "yaxis": "y"
        },
        {
         "hoverinfo": "text",
         "marker": {
          "color": "rgb(0,116,217)"
         },
         "mode": "lines",
         "type": "scatter",
         "x": [
          0,
          1.3358834684112226,
          1.3358834684112226,
          0
         ],
         "xaxis": "x",
         "y": [
          -685,
          -685,
          -695,
          -695
         ],
         "yaxis": "y"
        },
        {
         "hoverinfo": "text",
         "marker": {
          "color": "rgb(0,116,217)"
         },
         "mode": "lines",
         "type": "scatter",
         "x": [
          1.1757304552081682,
          1.7599580671605402,
          1.7599580671605402,
          1.3358834684112226
         ],
         "xaxis": "x",
         "y": [
          -670,
          -670,
          -690,
          -690
         ],
         "yaxis": "y"
        },
        {
         "hoverinfo": "text",
         "marker": {
          "color": "rgb(0,116,217)"
         },
         "mode": "lines",
         "type": "scatter",
         "x": [
          1.5448687755452926,
          1.9591413766383137,
          1.9591413766383137,
          1.7599580671605402
         ],
         "xaxis": "x",
         "y": [
          -650,
          -650,
          -680,
          -680
         ],
         "yaxis": "y"
        },
        {
         "hoverinfo": "text",
         "marker": {
          "color": "rgb(0,116,217)"
         },
         "mode": "lines",
         "type": "scatter",
         "x": [
          0,
          1.1297115131238764,
          1.1297115131238764,
          0
         ],
         "xaxis": "x",
         "y": [
          -705,
          -705,
          -715,
          -715
         ],
         "yaxis": "y"
        },
        {
         "hoverinfo": "text",
         "marker": {
          "color": "rgb(0,116,217)"
         },
         "mode": "lines",
         "type": "scatter",
         "x": [
          0,
          1.2662316059683094,
          1.2662316059683094,
          0
         ],
         "xaxis": "x",
         "y": [
          -735,
          -735,
          -745,
          -745
         ],
         "yaxis": "y"
        },
        {
         "hoverinfo": "text",
         "marker": {
          "color": "rgb(0,116,217)"
         },
         "mode": "lines",
         "type": "scatter",
         "x": [
          0,
          1.8438329542575949,
          1.8438329542575949,
          1.2662316059683094
         ],
         "xaxis": "x",
         "y": [
          -725,
          -725,
          -740,
          -740
         ],
         "yaxis": "y"
        },
        {
         "hoverinfo": "text",
         "marker": {
          "color": "rgb(0,116,217)"
         },
         "mode": "lines",
         "type": "scatter",
         "x": [
          1.1297115131238764,
          2.3768299519487144,
          2.3768299519487144,
          1.8438329542575949
         ],
         "xaxis": "x",
         "y": [
          -710,
          -710,
          -732.5,
          -732.5
         ],
         "yaxis": "y"
        },
        {
         "hoverinfo": "text",
         "marker": {
          "color": "rgb(0,116,217)"
         },
         "mode": "lines",
         "type": "scatter",
         "x": [
          1.9591413766383137,
          3.2279272755345647,
          3.2279272755345647,
          2.3768299519487144
         ],
         "xaxis": "x",
         "y": [
          -665,
          -665,
          -721.25,
          -721.25
         ],
         "yaxis": "y"
        },
        {
         "hoverinfo": "text",
         "marker": {
          "color": "rgb(0,116,217)"
         },
         "mode": "lines",
         "type": "scatter",
         "x": [
          0,
          1.1337026421720067,
          1.1337026421720067,
          0
         ],
         "xaxis": "x",
         "y": [
          -765,
          -765,
          -775,
          -775
         ],
         "yaxis": "y"
        },
        {
         "hoverinfo": "text",
         "marker": {
          "color": "rgb(0,116,217)"
         },
         "mode": "lines",
         "type": "scatter",
         "x": [
          0,
          1.4780314874895624,
          1.4780314874895624,
          1.1337026421720067
         ],
         "xaxis": "x",
         "y": [
          -755,
          -755,
          -770,
          -770
         ],
         "yaxis": "y"
        },
        {
         "hoverinfo": "text",
         "marker": {
          "color": "rgb(0,116,217)"
         },
         "mode": "lines",
         "type": "scatter",
         "x": [
          0,
          1.2507383561974983,
          1.2507383561974983,
          0
         ],
         "xaxis": "x",
         "y": [
          -785,
          -785,
          -795,
          -795
         ],
         "yaxis": "y"
        },
        {
         "hoverinfo": "text",
         "marker": {
          "color": "rgb(0,116,217)"
         },
         "mode": "lines",
         "type": "scatter",
         "x": [
          0,
          1.2709744327172312,
          1.2709744327172312,
          0
         ],
         "xaxis": "x",
         "y": [
          -805,
          -805,
          -815,
          -815
         ],
         "yaxis": "y"
        },
        {
         "hoverinfo": "text",
         "marker": {
          "color": "rgb(0,116,217)"
         },
         "mode": "lines",
         "type": "scatter",
         "x": [
          1.2507383561974983,
          1.8333472238185111,
          1.8333472238185111,
          1.2709744327172312
         ],
         "xaxis": "x",
         "y": [
          -790,
          -790,
          -810,
          -810
         ],
         "yaxis": "y"
        },
        {
         "hoverinfo": "text",
         "marker": {
          "color": "rgb(0,116,217)"
         },
         "mode": "lines",
         "type": "scatter",
         "x": [
          1.4780314874895624,
          1.8899987965245495,
          1.8899987965245495,
          1.8333472238185111
         ],
         "xaxis": "x",
         "y": [
          -762.5,
          -762.5,
          -800,
          -800
         ],
         "yaxis": "y"
        },
        {
         "hoverinfo": "text",
         "marker": {
          "color": "rgb(0,116,217)"
         },
         "mode": "lines",
         "type": "scatter",
         "x": [
          0,
          1.3367278156049787,
          1.3367278156049787,
          0
         ],
         "xaxis": "x",
         "y": [
          -835,
          -835,
          -845,
          -845
         ],
         "yaxis": "y"
        },
        {
         "hoverinfo": "text",
         "marker": {
          "color": "rgb(0,116,217)"
         },
         "mode": "lines",
         "type": "scatter",
         "x": [
          0,
          1.6882175887113031,
          1.6882175887113031,
          1.3367278156049787
         ],
         "xaxis": "x",
         "y": [
          -825,
          -825,
          -840,
          -840
         ],
         "yaxis": "y"
        },
        {
         "hoverinfo": "text",
         "marker": {
          "color": "rgb(0,116,217)"
         },
         "mode": "lines",
         "type": "scatter",
         "x": [
          0,
          1.256623201104729,
          1.256623201104729,
          0
         ],
         "xaxis": "x",
         "y": [
          -855,
          -855,
          -865,
          -865
         ],
         "yaxis": "y"
        },
        {
         "hoverinfo": "text",
         "marker": {
          "color": "rgb(0,116,217)"
         },
         "mode": "lines",
         "type": "scatter",
         "x": [
          0,
          1.4859273176297538,
          1.4859273176297538,
          0
         ],
         "xaxis": "x",
         "y": [
          -875,
          -875,
          -885,
          -885
         ],
         "yaxis": "y"
        },
        {
         "hoverinfo": "text",
         "marker": {
          "color": "rgb(0,116,217)"
         },
         "mode": "lines",
         "type": "scatter",
         "x": [
          1.256623201104729,
          2.042472354462516,
          2.042472354462516,
          1.4859273176297538
         ],
         "xaxis": "x",
         "y": [
          -860,
          -860,
          -880,
          -880
         ],
         "yaxis": "y"
        },
        {
         "hoverinfo": "text",
         "marker": {
          "color": "rgb(0,116,217)"
         },
         "mode": "lines",
         "type": "scatter",
         "x": [
          1.6882175887113031,
          2.420104858225213,
          2.420104858225213,
          2.042472354462516
         ],
         "xaxis": "x",
         "y": [
          -832.5,
          -832.5,
          -870,
          -870
         ],
         "yaxis": "y"
        },
        {
         "hoverinfo": "text",
         "marker": {
          "color": "rgb(0,116,217)"
         },
         "mode": "lines",
         "type": "scatter",
         "x": [
          1.8899987965245495,
          3.3484207101571775,
          3.3484207101571775,
          2.420104858225213
         ],
         "xaxis": "x",
         "y": [
          -781.25,
          -781.25,
          -851.25,
          -851.25
         ],
         "yaxis": "y"
        },
        {
         "hoverinfo": "text",
         "marker": {
          "color": "rgb(0,116,217)"
         },
         "mode": "lines",
         "type": "scatter",
         "x": [
          3.2279272755345647,
          4.811696813860621,
          4.811696813860621,
          3.3484207101571775
         ],
         "xaxis": "x",
         "y": [
          -693.125,
          -693.125,
          -816.25,
          -816.25
         ],
         "yaxis": "y"
        },
        {
         "hoverinfo": "text",
         "marker": {
          "color": "rgb(0,116,217)"
         },
         "mode": "lines",
         "type": "scatter",
         "x": [
          3.2384029277377127,
          5.505137996244066,
          5.505137996244066,
          4.811696813860621
         ],
         "xaxis": "x",
         "y": [
          -531.875,
          -531.875,
          -754.6875,
          -754.6875
         ],
         "yaxis": "y"
        },
        {
         "hoverinfo": "text",
         "marker": {
          "color": "rgb(0,116,217)"
         },
         "mode": "lines",
         "type": "scatter",
         "x": [
          5.053845442331614,
          8.095168706823861,
          8.095168706823861,
          5.505137996244066
         ],
         "xaxis": "x",
         "y": [
          -199.9609375,
          -199.9609375,
          -643.28125,
          -643.28125
         ],
         "yaxis": "y"
        },
        {
         "hoverinfo": "text",
         "marker": {
          "color": "rgb(0,116,217)"
         },
         "mode": "lines",
         "type": "scatter",
         "x": [
          0,
          1.2193270770175295,
          1.2193270770175295,
          0
         ],
         "xaxis": "x",
         "y": [
          -895,
          -895,
          -905,
          -905
         ],
         "yaxis": "y"
        },
        {
         "hoverinfo": "text",
         "marker": {
          "color": "rgb(0,116,217)"
         },
         "mode": "lines",
         "type": "scatter",
         "x": [
          0,
          1.3374081836547012,
          1.3374081836547012,
          0
         ],
         "xaxis": "x",
         "y": [
          -925,
          -925,
          -935,
          -935
         ],
         "yaxis": "y"
        },
        {
         "hoverinfo": "text",
         "marker": {
          "color": "rgb(0,116,217)"
         },
         "mode": "lines",
         "type": "scatter",
         "x": [
          0,
          1.507526811988655,
          1.507526811988655,
          1.3374081836547012
         ],
         "xaxis": "x",
         "y": [
          -915,
          -915,
          -930,
          -930
         ],
         "yaxis": "y"
        },
        {
         "hoverinfo": "text",
         "marker": {
          "color": "rgb(0,116,217)"
         },
         "mode": "lines",
         "type": "scatter",
         "x": [
          1.2193270770175295,
          2.4274038467302024,
          2.4274038467302024,
          1.507526811988655
         ],
         "xaxis": "x",
         "y": [
          -900,
          -900,
          -922.5,
          -922.5
         ],
         "yaxis": "y"
        },
        {
         "hoverinfo": "text",
         "marker": {
          "color": "rgb(40,35,35)"
         },
         "mode": "lines",
         "type": "scatter",
         "x": [
          0,
          0.8672181368973426,
          0.8672181368973426,
          0
         ],
         "xaxis": "x",
         "y": [
          -945,
          -945,
          -955,
          -955
         ],
         "yaxis": "y"
        },
        {
         "hoverinfo": "text",
         "marker": {
          "color": "rgb(0,116,217)"
         },
         "mode": "lines",
         "type": "scatter",
         "x": [
          0,
          1.2344462461644086,
          1.2344462461644086,
          0
         ],
         "xaxis": "x",
         "y": [
          -975,
          -975,
          -985,
          -985
         ],
         "yaxis": "y"
        },
        {
         "hoverinfo": "text",
         "marker": {
          "color": "rgb(0,116,217)"
         },
         "mode": "lines",
         "type": "scatter",
         "x": [
          0,
          1.5559821378115781,
          1.5559821378115781,
          1.2344462461644086
         ],
         "xaxis": "x",
         "y": [
          -965,
          -965,
          -980,
          -980
         ],
         "yaxis": "y"
        },
        {
         "hoverinfo": "text",
         "marker": {
          "color": "rgb(0,116,217)"
         },
         "mode": "lines",
         "type": "scatter",
         "x": [
          0.8672181368973426,
          1.8347215176432818,
          1.8347215176432818,
          1.5559821378115781
         ],
         "xaxis": "x",
         "y": [
          -950,
          -950,
          -972.5,
          -972.5
         ],
         "yaxis": "y"
        },
        {
         "hoverinfo": "text",
         "marker": {
          "color": "rgb(0,116,217)"
         },
         "mode": "lines",
         "type": "scatter",
         "x": [
          0,
          1.3281934784037603,
          1.3281934784037603,
          0
         ],
         "xaxis": "x",
         "y": [
          -1005,
          -1005,
          -1015,
          -1015
         ],
         "yaxis": "y"
        },
        {
         "hoverinfo": "text",
         "marker": {
          "color": "rgb(0,116,217)"
         },
         "mode": "lines",
         "type": "scatter",
         "x": [
          0,
          1.512238205483002,
          1.512238205483002,
          1.3281934784037603
         ],
         "xaxis": "x",
         "y": [
          -995,
          -995,
          -1010,
          -1010
         ],
         "yaxis": "y"
        },
        {
         "hoverinfo": "text",
         "marker": {
          "color": "rgb(0,116,217)"
         },
         "mode": "lines",
         "type": "scatter",
         "x": [
          0,
          1.514650700588121,
          1.514650700588121,
          0
         ],
         "xaxis": "x",
         "y": [
          -1025,
          -1025,
          -1035,
          -1035
         ],
         "yaxis": "y"
        },
        {
         "hoverinfo": "text",
         "marker": {
          "color": "rgb(0,116,217)"
         },
         "mode": "lines",
         "type": "scatter",
         "x": [
          1.512238205483002,
          1.9097618711366544,
          1.9097618711366544,
          1.514650700588121
         ],
         "xaxis": "x",
         "y": [
          -1002.5,
          -1002.5,
          -1030,
          -1030
         ],
         "yaxis": "y"
        },
        {
         "hoverinfo": "text",
         "marker": {
          "color": "rgb(0,116,217)"
         },
         "mode": "lines",
         "type": "scatter",
         "x": [
          1.8347215176432818,
          2.5421310918371782,
          2.5421310918371782,
          1.9097618711366544
         ],
         "xaxis": "x",
         "y": [
          -961.25,
          -961.25,
          -1016.25,
          -1016.25
         ],
         "yaxis": "y"
        },
        {
         "hoverinfo": "text",
         "marker": {
          "color": "rgb(0,116,217)"
         },
         "mode": "lines",
         "type": "scatter",
         "x": [
          2.4274038467302024,
          3.149722682588953,
          3.149722682588953,
          2.5421310918371782
         ],
         "xaxis": "x",
         "y": [
          -911.25,
          -911.25,
          -988.75,
          -988.75
         ],
         "yaxis": "y"
        },
        {
         "hoverinfo": "text",
         "marker": {
          "color": "rgb(61,153,112)"
         },
         "mode": "lines",
         "type": "scatter",
         "x": [
          0,
          0.8380155777265103,
          0.8380155777265103,
          0
         ],
         "xaxis": "x",
         "y": [
          -1065,
          -1065,
          -1075,
          -1075
         ],
         "yaxis": "y"
        },
        {
         "hoverinfo": "text",
         "marker": {
          "color": "rgb(0,116,217)"
         },
         "mode": "lines",
         "type": "scatter",
         "x": [
          0,
          1.0514332038499434,
          1.0514332038499434,
          0.8380155777265103
         ],
         "xaxis": "x",
         "y": [
          -1055,
          -1055,
          -1070,
          -1070
         ],
         "yaxis": "y"
        },
        {
         "hoverinfo": "text",
         "marker": {
          "color": "rgb(0,116,217)"
         },
         "mode": "lines",
         "type": "scatter",
         "x": [
          0,
          1.3271498600724483,
          1.3271498600724483,
          1.0514332038499434
         ],
         "xaxis": "x",
         "y": [
          -1045,
          -1045,
          -1062.5,
          -1062.5
         ],
         "yaxis": "y"
        },
        {
         "hoverinfo": "text",
         "marker": {
          "color": "rgb(0,116,217)"
         },
         "mode": "lines",
         "type": "scatter",
         "x": [
          0,
          1.2807249153832663,
          1.2807249153832663,
          0
         ],
         "xaxis": "x",
         "y": [
          -1095,
          -1095,
          -1105,
          -1105
         ],
         "yaxis": "y"
        },
        {
         "hoverinfo": "text",
         "marker": {
          "color": "rgb(0,116,217)"
         },
         "mode": "lines",
         "type": "scatter",
         "x": [
          0,
          1.4855916240716904,
          1.4855916240716904,
          1.2807249153832663
         ],
         "xaxis": "x",
         "y": [
          -1085,
          -1085,
          -1100,
          -1100
         ],
         "yaxis": "y"
        },
        {
         "hoverinfo": "text",
         "marker": {
          "color": "rgb(0,116,217)"
         },
         "mode": "lines",
         "type": "scatter",
         "x": [
          1.3271498600724483,
          2.069980246445032,
          2.069980246445032,
          1.4855916240716904
         ],
         "xaxis": "x",
         "y": [
          -1053.75,
          -1053.75,
          -1092.5,
          -1092.5
         ],
         "yaxis": "y"
        },
        {
         "hoverinfo": "text",
         "marker": {
          "color": "rgb(0,116,217)"
         },
         "mode": "lines",
         "type": "scatter",
         "x": [
          0,
          1.3083976727400066,
          1.3083976727400066,
          0
         ],
         "xaxis": "x",
         "y": [
          -1125,
          -1125,
          -1135,
          -1135
         ],
         "yaxis": "y"
        },
        {
         "hoverinfo": "text",
         "marker": {
          "color": "rgb(0,116,217)"
         },
         "mode": "lines",
         "type": "scatter",
         "x": [
          0,
          1.5336296264343692,
          1.5336296264343692,
          1.3083976727400066
         ],
         "xaxis": "x",
         "y": [
          -1115,
          -1115,
          -1130,
          -1130
         ],
         "yaxis": "y"
        },
        {
         "hoverinfo": "text",
         "marker": {
          "color": "rgb(0,116,217)"
         },
         "mode": "lines",
         "type": "scatter",
         "x": [
          0,
          1.3339874336383584,
          1.3339874336383584,
          0
         ],
         "xaxis": "x",
         "y": [
          -1145,
          -1145,
          -1155,
          -1155
         ],
         "yaxis": "y"
        },
        {
         "hoverinfo": "text",
         "marker": {
          "color": "rgb(0,116,217)"
         },
         "mode": "lines",
         "type": "scatter",
         "x": [
          0,
          1.4266767784544725,
          1.4266767784544725,
          0
         ],
         "xaxis": "x",
         "y": [
          -1165,
          -1165,
          -1175,
          -1175
         ],
         "yaxis": "y"
        },
        {
         "hoverinfo": "text",
         "marker": {
          "color": "rgb(0,116,217)"
         },
         "mode": "lines",
         "type": "scatter",
         "x": [
          1.3339874336383584,
          1.6144589071756354,
          1.6144589071756354,
          1.4266767784544725
         ],
         "xaxis": "x",
         "y": [
          -1150,
          -1150,
          -1170,
          -1170
         ],
         "yaxis": "y"
        },
        {
         "hoverinfo": "text",
         "marker": {
          "color": "rgb(0,116,217)"
         },
         "mode": "lines",
         "type": "scatter",
         "x": [
          1.5336296264343692,
          1.9288458409272973,
          1.9288458409272973,
          1.6144589071756354
         ],
         "xaxis": "x",
         "y": [
          -1122.5,
          -1122.5,
          -1160,
          -1160
         ],
         "yaxis": "y"
        },
        {
         "hoverinfo": "text",
         "marker": {
          "color": "rgb(0,116,217)"
         },
         "mode": "lines",
         "type": "scatter",
         "x": [
          0,
          1.1513725660952427,
          1.1513725660952427,
          0
         ],
         "xaxis": "x",
         "y": [
          -1185,
          -1185,
          -1195,
          -1195
         ],
         "yaxis": "y"
        },
        {
         "hoverinfo": "text",
         "marker": {
          "color": "rgb(0,116,217)"
         },
         "mode": "lines",
         "type": "scatter",
         "x": [
          0,
          1.1003931247040282,
          1.1003931247040282,
          0
         ],
         "xaxis": "x",
         "y": [
          -1205,
          -1205,
          -1215,
          -1215
         ],
         "yaxis": "y"
        },
        {
         "hoverinfo": "text",
         "marker": {
          "color": "rgb(0,116,217)"
         },
         "mode": "lines",
         "type": "scatter",
         "x": [
          0,
          1.2429682667238058,
          1.2429682667238058,
          0
         ],
         "xaxis": "x",
         "y": [
          -1235,
          -1235,
          -1245,
          -1245
         ],
         "yaxis": "y"
        },
        {
         "hoverinfo": "text",
         "marker": {
          "color": "rgb(0,116,217)"
         },
         "mode": "lines",
         "type": "scatter",
         "x": [
          0,
          1.5815259957975167,
          1.5815259957975167,
          1.2429682667238058
         ],
         "xaxis": "x",
         "y": [
          -1225,
          -1225,
          -1240,
          -1240
         ],
         "yaxis": "y"
        },
        {
         "hoverinfo": "text",
         "marker": {
          "color": "rgb(0,116,217)"
         },
         "mode": "lines",
         "type": "scatter",
         "x": [
          1.1003931247040282,
          1.9843880992157348,
          1.9843880992157348,
          1.5815259957975167
         ],
         "xaxis": "x",
         "y": [
          -1210,
          -1210,
          -1232.5,
          -1232.5
         ],
         "yaxis": "y"
        },
        {
         "hoverinfo": "text",
         "marker": {
          "color": "rgb(0,116,217)"
         },
         "mode": "lines",
         "type": "scatter",
         "x": [
          1.1513725660952427,
          2.3008969264019163,
          2.3008969264019163,
          1.9843880992157348
         ],
         "xaxis": "x",
         "y": [
          -1190,
          -1190,
          -1221.25,
          -1221.25
         ],
         "yaxis": "y"
        },
        {
         "hoverinfo": "text",
         "marker": {
          "color": "rgb(0,116,217)"
         },
         "mode": "lines",
         "type": "scatter",
         "x": [
          1.9288458409272973,
          2.803864670593893,
          2.803864670593893,
          2.3008969264019163
         ],
         "xaxis": "x",
         "y": [
          -1141.25,
          -1141.25,
          -1205.625,
          -1205.625
         ],
         "yaxis": "y"
        },
        {
         "hoverinfo": "text",
         "marker": {
          "color": "rgb(0,116,217)"
         },
         "mode": "lines",
         "type": "scatter",
         "x": [
          2.069980246445032,
          4.07442067014309,
          4.07442067014309,
          2.803864670593893
         ],
         "xaxis": "x",
         "y": [
          -1073.125,
          -1073.125,
          -1173.4375,
          -1173.4375
         ],
         "yaxis": "y"
        },
        {
         "hoverinfo": "text",
         "marker": {
          "color": "rgb(0,116,217)"
         },
         "mode": "lines",
         "type": "scatter",
         "x": [
          3.149722682588953,
          4.539014017476852,
          4.539014017476852,
          4.07442067014309
         ],
         "xaxis": "x",
         "y": [
          -950,
          -950,
          -1123.28125,
          -1123.28125
         ],
         "yaxis": "y"
        },
        {
         "hoverinfo": "text",
         "marker": {
          "color": "rgb(0,116,217)"
         },
         "mode": "lines",
         "type": "scatter",
         "x": [
          0,
          1.1178735324991982,
          1.1178735324991982,
          0
         ],
         "xaxis": "x",
         "y": [
          -1255,
          -1255,
          -1265,
          -1265
         ],
         "yaxis": "y"
        },
        {
         "hoverinfo": "text",
         "marker": {
          "color": "rgb(0,116,217)"
         },
         "mode": "lines",
         "type": "scatter",
         "x": [
          0,
          1.1891003371605608,
          1.1891003371605608,
          0
         ],
         "xaxis": "x",
         "y": [
          -1275,
          -1275,
          -1285,
          -1285
         ],
         "yaxis": "y"
        },
        {
         "hoverinfo": "text",
         "marker": {
          "color": "rgb(0,116,217)"
         },
         "mode": "lines",
         "type": "scatter",
         "x": [
          1.1178735324991982,
          1.2155734133326712,
          1.2155734133326712,
          1.1891003371605608
         ],
         "xaxis": "x",
         "y": [
          -1260,
          -1260,
          -1280,
          -1280
         ],
         "yaxis": "y"
        },
        {
         "hoverinfo": "text",
         "marker": {
          "color": "rgb(0,116,217)"
         },
         "mode": "lines",
         "type": "scatter",
         "x": [
          0,
          1.071926174738155,
          1.071926174738155,
          0
         ],
         "xaxis": "x",
         "y": [
          -1295,
          -1295,
          -1305,
          -1305
         ],
         "yaxis": "y"
        },
        {
         "hoverinfo": "text",
         "marker": {
          "color": "rgb(0,116,217)"
         },
         "mode": "lines",
         "type": "scatter",
         "x": [
          0,
          1.1024111738991134,
          1.1024111738991134,
          0
         ],
         "xaxis": "x",
         "y": [
          -1325,
          -1325,
          -1335,
          -1335
         ],
         "yaxis": "y"
        },
        {
         "hoverinfo": "text",
         "marker": {
          "color": "rgb(0,116,217)"
         },
         "mode": "lines",
         "type": "scatter",
         "x": [
          0,
          1.330549241872819,
          1.330549241872819,
          1.1024111738991134
         ],
         "xaxis": "x",
         "y": [
          -1315,
          -1315,
          -1330,
          -1330
         ],
         "yaxis": "y"
        },
        {
         "hoverinfo": "text",
         "marker": {
          "color": "rgb(0,116,217)"
         },
         "mode": "lines",
         "type": "scatter",
         "x": [
          1.071926174738155,
          1.70486458541531,
          1.70486458541531,
          1.330549241872819
         ],
         "xaxis": "x",
         "y": [
          -1300,
          -1300,
          -1322.5,
          -1322.5
         ],
         "yaxis": "y"
        },
        {
         "hoverinfo": "text",
         "marker": {
          "color": "rgb(0,116,217)"
         },
         "mode": "lines",
         "type": "scatter",
         "x": [
          1.2155734133326712,
          1.948392785755889,
          1.948392785755889,
          1.70486458541531
         ],
         "xaxis": "x",
         "y": [
          -1270,
          -1270,
          -1311.25,
          -1311.25
         ],
         "yaxis": "y"
        },
        {
         "hoverinfo": "text",
         "marker": {
          "color": "rgb(0,116,217)"
         },
         "mode": "lines",
         "type": "scatter",
         "x": [
          0,
          1.0881217682330235,
          1.0881217682330235,
          0
         ],
         "xaxis": "x",
         "y": [
          -1365,
          -1365,
          -1375,
          -1375
         ],
         "yaxis": "y"
        },
        {
         "hoverinfo": "text",
         "marker": {
          "color": "rgb(0,116,217)"
         },
         "mode": "lines",
         "type": "scatter",
         "x": [
          0,
          1.1686510877650003,
          1.1686510877650003,
          1.0881217682330235
         ],
         "xaxis": "x",
         "y": [
          -1355,
          -1355,
          -1370,
          -1370
         ],
         "yaxis": "y"
        },
        {
         "hoverinfo": "text",
         "marker": {
          "color": "rgb(0,116,217)"
         },
         "mode": "lines",
         "type": "scatter",
         "x": [
          0,
          1.3911469711425777,
          1.3911469711425777,
          1.1686510877650003
         ],
         "xaxis": "x",
         "y": [
          -1345,
          -1345,
          -1362.5,
          -1362.5
         ],
         "yaxis": "y"
        },
        {
         "hoverinfo": "text",
         "marker": {
          "color": "rgb(255,65,54)"
         },
         "mode": "lines",
         "type": "scatter",
         "x": [
          0,
          0.9127713534311553,
          0.9127713534311553,
          0
         ],
         "xaxis": "x",
         "y": [
          -1395,
          -1395,
          -1405,
          -1405
         ],
         "yaxis": "y"
        },
        {
         "hoverinfo": "text",
         "marker": {
          "color": "rgb(0,116,217)"
         },
         "mode": "lines",
         "type": "scatter",
         "x": [
          0,
          1.0882415357492474,
          1.0882415357492474,
          0.9127713534311553
         ],
         "xaxis": "x",
         "y": [
          -1385,
          -1385,
          -1400,
          -1400
         ],
         "yaxis": "y"
        },
        {
         "hoverinfo": "text",
         "marker": {
          "color": "rgb(0,116,217)"
         },
         "mode": "lines",
         "type": "scatter",
         "x": [
          0,
          1.2712758134325932,
          1.2712758134325932,
          0
         ],
         "xaxis": "x",
         "y": [
          -1415,
          -1415,
          -1425,
          -1425
         ],
         "yaxis": "y"
        },
        {
         "hoverinfo": "text",
         "marker": {
          "color": "rgb(0,116,217)"
         },
         "mode": "lines",
         "type": "scatter",
         "x": [
          1.0882415357492474,
          1.9422326033426807,
          1.9422326033426807,
          1.2712758134325932
         ],
         "xaxis": "x",
         "y": [
          -1392.5,
          -1392.5,
          -1420,
          -1420
         ],
         "yaxis": "y"
        },
        {
         "hoverinfo": "text",
         "marker": {
          "color": "rgb(0,116,217)"
         },
         "mode": "lines",
         "type": "scatter",
         "x": [
          1.3911469711425777,
          2.0715700701660866,
          2.0715700701660866,
          1.9422326033426807
         ],
         "xaxis": "x",
         "y": [
          -1353.75,
          -1353.75,
          -1406.25,
          -1406.25
         ],
         "yaxis": "y"
        },
        {
         "hoverinfo": "text",
         "marker": {
          "color": "rgb(0,116,217)"
         },
         "mode": "lines",
         "type": "scatter",
         "x": [
          1.948392785755889,
          2.766939521408203,
          2.766939521408203,
          2.0715700701660866
         ],
         "xaxis": "x",
         "y": [
          -1290.625,
          -1290.625,
          -1380,
          -1380
         ],
         "yaxis": "y"
        },
        {
         "hoverinfo": "text",
         "marker": {
          "color": "rgb(0,116,217)"
         },
         "mode": "lines",
         "type": "scatter",
         "x": [
          0,
          1.2653136461014483,
          1.2653136461014483,
          0
         ],
         "xaxis": "x",
         "y": [
          -1435,
          -1435,
          -1445,
          -1445
         ],
         "yaxis": "y"
        },
        {
         "hoverinfo": "text",
         "marker": {
          "color": "rgb(0,116,217)"
         },
         "mode": "lines",
         "type": "scatter",
         "x": [
          0,
          1.1382664563244655,
          1.1382664563244655,
          0
         ],
         "xaxis": "x",
         "y": [
          -1465,
          -1465,
          -1475,
          -1475
         ],
         "yaxis": "y"
        },
        {
         "hoverinfo": "text",
         "marker": {
          "color": "rgb(0,116,217)"
         },
         "mode": "lines",
         "type": "scatter",
         "x": [
          0,
          1.550178304238262,
          1.550178304238262,
          1.1382664563244655
         ],
         "xaxis": "x",
         "y": [
          -1455,
          -1455,
          -1470,
          -1470
         ],
         "yaxis": "y"
        },
        {
         "hoverinfo": "text",
         "marker": {
          "color": "rgb(0,116,217)"
         },
         "mode": "lines",
         "type": "scatter",
         "x": [
          1.2653136461014483,
          2.0428276321228633,
          2.0428276321228633,
          1.550178304238262
         ],
         "xaxis": "x",
         "y": [
          -1440,
          -1440,
          -1462.5,
          -1462.5
         ],
         "yaxis": "y"
        },
        {
         "hoverinfo": "text",
         "marker": {
          "color": "rgb(0,116,217)"
         },
         "mode": "lines",
         "type": "scatter",
         "x": [
          0,
          1.4802586634928991,
          1.4802586634928991,
          0
         ],
         "xaxis": "x",
         "y": [
          -1485,
          -1485,
          -1495,
          -1495
         ],
         "yaxis": "y"
        },
        {
         "hoverinfo": "text",
         "marker": {
          "color": "rgb(0,116,217)"
         },
         "mode": "lines",
         "type": "scatter",
         "x": [
          0,
          1.1346880879592824,
          1.1346880879592824,
          0
         ],
         "xaxis": "x",
         "y": [
          -1525,
          -1525,
          -1535,
          -1535
         ],
         "yaxis": "y"
        },
        {
         "hoverinfo": "text",
         "marker": {
          "color": "rgb(0,116,217)"
         },
         "mode": "lines",
         "type": "scatter",
         "x": [
          0,
          1.5150168588645556,
          1.5150168588645556,
          1.1346880879592824
         ],
         "xaxis": "x",
         "y": [
          -1515,
          -1515,
          -1530,
          -1530
         ],
         "yaxis": "y"
        },
        {
         "hoverinfo": "text",
         "marker": {
          "color": "rgb(0,116,217)"
         },
         "mode": "lines",
         "type": "scatter",
         "x": [
          0,
          1.5723683456603221,
          1.5723683456603221,
          1.5150168588645556
         ],
         "xaxis": "x",
         "y": [
          -1505,
          -1505,
          -1522.5,
          -1522.5
         ],
         "yaxis": "y"
        },
        {
         "hoverinfo": "text",
         "marker": {
          "color": "rgb(0,116,217)"
         },
         "mode": "lines",
         "type": "scatter",
         "x": [
          1.4802586634928991,
          2.188057747123725,
          2.188057747123725,
          1.5723683456603221
         ],
         "xaxis": "x",
         "y": [
          -1490,
          -1490,
          -1513.75,
          -1513.75
         ],
         "yaxis": "y"
        },
        {
         "hoverinfo": "text",
         "marker": {
          "color": "rgb(0,116,217)"
         },
         "mode": "lines",
         "type": "scatter",
         "x": [
          2.0428276321228633,
          2.7975718978192434,
          2.7975718978192434,
          2.188057747123725
         ],
         "xaxis": "x",
         "y": [
          -1451.25,
          -1451.25,
          -1501.875,
          -1501.875
         ],
         "yaxis": "y"
        },
        {
         "hoverinfo": "text",
         "marker": {
          "color": "rgb(0,116,217)"
         },
         "mode": "lines",
         "type": "scatter",
         "x": [
          0,
          1.0530492916181486,
          1.0530492916181486,
          0
         ],
         "xaxis": "x",
         "y": [
          -1545,
          -1545,
          -1555,
          -1555
         ],
         "yaxis": "y"
        },
        {
         "hoverinfo": "text",
         "marker": {
          "color": "rgb(0,116,217)"
         },
         "mode": "lines",
         "type": "scatter",
         "x": [
          0,
          1.1378605695834194,
          1.1378605695834194,
          0
         ],
         "xaxis": "x",
         "y": [
          -1575,
          -1575,
          -1585,
          -1585
         ],
         "yaxis": "y"
        },
        {
         "hoverinfo": "text",
         "marker": {
          "color": "rgb(0,116,217)"
         },
         "mode": "lines",
         "type": "scatter",
         "x": [
          0,
          1.425402378399719,
          1.425402378399719,
          1.1378605695834194
         ],
         "xaxis": "x",
         "y": [
          -1565,
          -1565,
          -1580,
          -1580
         ],
         "yaxis": "y"
        },
        {
         "hoverinfo": "text",
         "marker": {
          "color": "rgb(0,116,217)"
         },
         "mode": "lines",
         "type": "scatter",
         "x": [
          1.0530492916181486,
          1.7902800955365414,
          1.7902800955365414,
          1.425402378399719
         ],
         "xaxis": "x",
         "y": [
          -1550,
          -1550,
          -1572.5,
          -1572.5
         ],
         "yaxis": "y"
        },
        {
         "hoverinfo": "text",
         "marker": {
          "color": "rgb(0,116,217)"
         },
         "mode": "lines",
         "type": "scatter",
         "x": [
          0,
          1.1924910184513826,
          1.1924910184513826,
          0
         ],
         "xaxis": "x",
         "y": [
          -1595,
          -1595,
          -1605,
          -1605
         ],
         "yaxis": "y"
        },
        {
         "hoverinfo": "text",
         "marker": {
          "color": "rgb(0,116,217)"
         },
         "mode": "lines",
         "type": "scatter",
         "x": [
          0,
          1.2679090011909186,
          1.2679090011909186,
          0
         ],
         "xaxis": "x",
         "y": [
          -1615,
          -1615,
          -1625,
          -1625
         ],
         "yaxis": "y"
        },
        {
         "hoverinfo": "text",
         "marker": {
          "color": "rgb(0,116,217)"
         },
         "mode": "lines",
         "type": "scatter",
         "x": [
          1.1924910184513826,
          1.5498740945676208,
          1.5498740945676208,
          1.2679090011909186
         ],
         "xaxis": "x",
         "y": [
          -1600,
          -1600,
          -1620,
          -1620
         ],
         "yaxis": "y"
        },
        {
         "hoverinfo": "text",
         "marker": {
          "color": "rgb(0,116,217)"
         },
         "mode": "lines",
         "type": "scatter",
         "x": [
          0,
          1.3169232396067228,
          1.3169232396067228,
          0
         ],
         "xaxis": "x",
         "y": [
          -1635,
          -1635,
          -1645,
          -1645
         ],
         "yaxis": "y"
        },
        {
         "hoverinfo": "text",
         "marker": {
          "color": "rgb(0,116,217)"
         },
         "mode": "lines",
         "type": "scatter",
         "x": [
          0,
          1.4993125141544557,
          1.4993125141544557,
          0
         ],
         "xaxis": "x",
         "y": [
          -1655,
          -1655,
          -1665,
          -1665
         ],
         "yaxis": "y"
        },
        {
         "hoverinfo": "text",
         "marker": {
          "color": "rgb(0,116,217)"
         },
         "mode": "lines",
         "type": "scatter",
         "x": [
          1.3169232396067228,
          1.7095735690268736,
          1.7095735690268736,
          1.4993125141544557
         ],
         "xaxis": "x",
         "y": [
          -1640,
          -1640,
          -1660,
          -1660
         ],
         "yaxis": "y"
        },
        {
         "hoverinfo": "text",
         "marker": {
          "color": "rgb(0,116,217)"
         },
         "mode": "lines",
         "type": "scatter",
         "x": [
          1.5498740945676208,
          2.3430157268317164,
          2.3430157268317164,
          1.7095735690268736
         ],
         "xaxis": "x",
         "y": [
          -1610,
          -1610,
          -1650,
          -1650
         ],
         "yaxis": "y"
        },
        {
         "hoverinfo": "text",
         "marker": {
          "color": "rgb(0,116,217)"
         },
         "mode": "lines",
         "type": "scatter",
         "x": [
          1.7902800955365414,
          2.9654876463135484,
          2.9654876463135484,
          2.3430157268317164
         ],
         "xaxis": "x",
         "y": [
          -1561.25,
          -1561.25,
          -1630,
          -1630
         ],
         "yaxis": "y"
        },
        {
         "hoverinfo": "text",
         "marker": {
          "color": "rgb(0,116,217)"
         },
         "mode": "lines",
         "type": "scatter",
         "x": [
          2.7975718978192434,
          3.3873511524493396,
          3.3873511524493396,
          2.9654876463135484
         ],
         "xaxis": "x",
         "y": [
          -1476.5625,
          -1476.5625,
          -1595.625,
          -1595.625
         ],
         "yaxis": "y"
        },
        {
         "hoverinfo": "text",
         "marker": {
          "color": "rgb(0,116,217)"
         },
         "mode": "lines",
         "type": "scatter",
         "x": [
          0,
          1.0270567086778066,
          1.0270567086778066,
          0
         ],
         "xaxis": "x",
         "y": [
          -1685,
          -1685,
          -1695,
          -1695
         ],
         "yaxis": "y"
        },
        {
         "hoverinfo": "text",
         "marker": {
          "color": "rgb(0,116,217)"
         },
         "mode": "lines",
         "type": "scatter",
         "x": [
          0,
          1.4337147294449286,
          1.4337147294449286,
          1.0270567086778066
         ],
         "xaxis": "x",
         "y": [
          -1675,
          -1675,
          -1690,
          -1690
         ],
         "yaxis": "y"
        },
        {
         "hoverinfo": "text",
         "marker": {
          "color": "rgb(35,205,205)"
         },
         "mode": "lines",
         "type": "scatter",
         "x": [
          0,
          0.820595976514407,
          0.820595976514407,
          0
         ],
         "xaxis": "x",
         "y": [
          -1705,
          -1705,
          -1715,
          -1715
         ],
         "yaxis": "y"
        },
        {
         "hoverinfo": "text",
         "marker": {
          "color": "rgb(0,116,217)"
         },
         "mode": "lines",
         "type": "scatter",
         "x": [
          0,
          1.2148984026890537,
          1.2148984026890537,
          0
         ],
         "xaxis": "x",
         "y": [
          -1725,
          -1725,
          -1735,
          -1735
         ],
         "yaxis": "y"
        },
        {
         "hoverinfo": "text",
         "marker": {
          "color": "rgb(0,116,217)"
         },
         "mode": "lines",
         "type": "scatter",
         "x": [
          0.820595976514407,
          1.632992091042523,
          1.632992091042523,
          1.2148984026890537
         ],
         "xaxis": "x",
         "y": [
          -1710,
          -1710,
          -1730,
          -1730
         ],
         "yaxis": "y"
        },
        {
         "hoverinfo": "text",
         "marker": {
          "color": "rgb(0,116,217)"
         },
         "mode": "lines",
         "type": "scatter",
         "x": [
          1.4337147294449286,
          2.0722829523326443,
          2.0722829523326443,
          1.632992091042523
         ],
         "xaxis": "x",
         "y": [
          -1682.5,
          -1682.5,
          -1720,
          -1720
         ],
         "yaxis": "y"
        },
        {
         "hoverinfo": "text",
         "marker": {
          "color": "rgb(0,116,217)"
         },
         "mode": "lines",
         "type": "scatter",
         "x": [
          0,
          1.278553084297691,
          1.278553084297691,
          0
         ],
         "xaxis": "x",
         "y": [
          -1765,
          -1765,
          -1775,
          -1775
         ],
         "yaxis": "y"
        },
        {
         "hoverinfo": "text",
         "marker": {
          "color": "rgb(0,116,217)"
         },
         "mode": "lines",
         "type": "scatter",
         "x": [
          0,
          1.5871334242073167,
          1.5871334242073167,
          1.278553084297691
         ],
         "xaxis": "x",
         "y": [
          -1755,
          -1755,
          -1770,
          -1770
         ],
         "yaxis": "y"
        },
        {
         "hoverinfo": "text",
         "marker": {
          "color": "rgb(0,116,217)"
         },
         "mode": "lines",
         "type": "scatter",
         "x": [
          0,
          1.803077492514143,
          1.803077492514143,
          1.5871334242073167
         ],
         "xaxis": "x",
         "y": [
          -1745,
          -1745,
          -1762.5,
          -1762.5
         ],
         "yaxis": "y"
        },
        {
         "hoverinfo": "text",
         "marker": {
          "color": "rgb(0,116,217)"
         },
         "mode": "lines",
         "type": "scatter",
         "x": [
          0,
          1.163715933537725,
          1.163715933537725,
          0
         ],
         "xaxis": "x",
         "y": [
          -1785,
          -1785,
          -1795,
          -1795
         ],
         "yaxis": "y"
        },
        {
         "hoverinfo": "text",
         "marker": {
          "color": "rgb(0,116,217)"
         },
         "mode": "lines",
         "type": "scatter",
         "x": [
          0,
          1.1740758608766146,
          1.1740758608766146,
          0
         ],
         "xaxis": "x",
         "y": [
          -1805,
          -1805,
          -1815,
          -1815
         ],
         "yaxis": "y"
        },
        {
         "hoverinfo": "text",
         "marker": {
          "color": "rgb(0,116,217)"
         },
         "mode": "lines",
         "type": "scatter",
         "x": [
          1.163715933537725,
          1.3830277392536807,
          1.3830277392536807,
          1.1740758608766146
         ],
         "xaxis": "x",
         "y": [
          -1790,
          -1790,
          -1810,
          -1810
         ],
         "yaxis": "y"
        },
        {
         "hoverinfo": "text",
         "marker": {
          "color": "rgb(0,116,217)"
         },
         "mode": "lines",
         "type": "scatter",
         "x": [
          0,
          1.2971258140436221,
          1.2971258140436221,
          0
         ],
         "xaxis": "x",
         "y": [
          -1835,
          -1835,
          -1845,
          -1845
         ],
         "yaxis": "y"
        },
        {
         "hoverinfo": "text",
         "marker": {
          "color": "rgb(0,116,217)"
         },
         "mode": "lines",
         "type": "scatter",
         "x": [
          0,
          1.5977777196501464,
          1.5977777196501464,
          1.2971258140436221
         ],
         "xaxis": "x",
         "y": [
          -1825,
          -1825,
          -1840,
          -1840
         ],
         "yaxis": "y"
        },
        {
         "hoverinfo": "text",
         "marker": {
          "color": "rgb(0,116,217)"
         },
         "mode": "lines",
         "type": "scatter",
         "x": [
          1.3830277392536807,
          2.0078707209012805,
          2.0078707209012805,
          1.5977777196501464
         ],
         "xaxis": "x",
         "y": [
          -1800,
          -1800,
          -1832.5,
          -1832.5
         ],
         "yaxis": "y"
        },
        {
         "hoverinfo": "text",
         "marker": {
          "color": "rgb(0,116,217)"
         },
         "mode": "lines",
         "type": "scatter",
         "x": [
          1.803077492514143,
          2.7614064477967415,
          2.7614064477967415,
          2.0078707209012805
         ],
         "xaxis": "x",
         "y": [
          -1753.75,
          -1753.75,
          -1816.25,
          -1816.25
         ],
         "yaxis": "y"
        },
        {
         "hoverinfo": "text",
         "marker": {
          "color": "rgb(0,116,217)"
         },
         "mode": "lines",
         "type": "scatter",
         "x": [
          2.0722829523326443,
          4.0842033085902125,
          4.0842033085902125,
          2.7614064477967415
         ],
         "xaxis": "x",
         "y": [
          -1701.25,
          -1701.25,
          -1785,
          -1785
         ],
         "yaxis": "y"
        },
        {
         "hoverinfo": "text",
         "marker": {
          "color": "rgb(0,116,217)"
         },
         "mode": "lines",
         "type": "scatter",
         "x": [
          3.3873511524493396,
          5.216172940651511,
          5.216172940651511,
          4.0842033085902125
         ],
         "xaxis": "x",
         "y": [
          -1536.09375,
          -1536.09375,
          -1743.125,
          -1743.125
         ],
         "yaxis": "y"
        },
        {
         "hoverinfo": "text",
         "marker": {
          "color": "rgb(0,116,217)"
         },
         "mode": "lines",
         "type": "scatter",
         "x": [
          2.766939521408203,
          5.9575266688412185,
          5.9575266688412185,
          5.216172940651511
         ],
         "xaxis": "x",
         "y": [
          -1335.3125,
          -1335.3125,
          -1639.609375,
          -1639.609375
         ],
         "yaxis": "y"
        },
        {
         "hoverinfo": "text",
         "marker": {
          "color": "rgb(0,116,217)"
         },
         "mode": "lines",
         "type": "scatter",
         "x": [
          4.539014017476852,
          6.875996481344916,
          6.875996481344916,
          5.9575266688412185
         ],
         "xaxis": "x",
         "y": [
          -1036.640625,
          -1036.640625,
          -1487.4609375,
          -1487.4609375
         ],
         "yaxis": "y"
        },
        {
         "hoverinfo": "text",
         "marker": {
          "color": "rgb(0,116,217)"
         },
         "mode": "lines",
         "type": "scatter",
         "x": [
          0,
          1.1001247708250996,
          1.1001247708250996,
          0
         ],
         "xaxis": "x",
         "y": [
          -1865,
          -1865,
          -1875,
          -1875
         ],
         "yaxis": "y"
        },
        {
         "hoverinfo": "text",
         "marker": {
          "color": "rgb(0,116,217)"
         },
         "mode": "lines",
         "type": "scatter",
         "x": [
          0,
          1.2834921161897161,
          1.2834921161897161,
          1.1001247708250996
         ],
         "xaxis": "x",
         "y": [
          -1855,
          -1855,
          -1870,
          -1870
         ],
         "yaxis": "y"
        },
        {
         "hoverinfo": "text",
         "marker": {
          "color": "rgb(0,116,217)"
         },
         "mode": "lines",
         "type": "scatter",
         "x": [
          0,
          1.3816949975279447,
          1.3816949975279447,
          0
         ],
         "xaxis": "x",
         "y": [
          -1885,
          -1885,
          -1895,
          -1895
         ],
         "yaxis": "y"
        },
        {
         "hoverinfo": "text",
         "marker": {
          "color": "rgb(0,116,217)"
         },
         "mode": "lines",
         "type": "scatter",
         "x": [
          0,
          1.1032645260533407,
          1.1032645260533407,
          0
         ],
         "xaxis": "x",
         "y": [
          -1905,
          -1905,
          -1915,
          -1915
         ],
         "yaxis": "y"
        },
        {
         "hoverinfo": "text",
         "marker": {
          "color": "rgb(0,116,217)"
         },
         "mode": "lines",
         "type": "scatter",
         "x": [
          0,
          1.1347398601891097,
          1.1347398601891097,
          0
         ],
         "xaxis": "x",
         "y": [
          -1935,
          -1935,
          -1945,
          -1945
         ],
         "yaxis": "y"
        },
        {
         "hoverinfo": "text",
         "marker": {
          "color": "rgb(0,116,217)"
         },
         "mode": "lines",
         "type": "scatter",
         "x": [
          0,
          1.4523053465125657,
          1.4523053465125657,
          1.1347398601891097
         ],
         "xaxis": "x",
         "y": [
          -1925,
          -1925,
          -1940,
          -1940
         ],
         "yaxis": "y"
        },
        {
         "hoverinfo": "text",
         "marker": {
          "color": "rgb(0,116,217)"
         },
         "mode": "lines",
         "type": "scatter",
         "x": [
          1.1032645260533407,
          1.5030303448634688,
          1.5030303448634688,
          1.4523053465125657
         ],
         "xaxis": "x",
         "y": [
          -1910,
          -1910,
          -1932.5,
          -1932.5
         ],
         "yaxis": "y"
        },
        {
         "hoverinfo": "text",
         "marker": {
          "color": "rgb(0,116,217)"
         },
         "mode": "lines",
         "type": "scatter",
         "x": [
          1.3816949975279447,
          1.8444647636151372,
          1.8444647636151372,
          1.5030303448634688
         ],
         "xaxis": "x",
         "y": [
          -1890,
          -1890,
          -1921.25,
          -1921.25
         ],
         "yaxis": "y"
        },
        {
         "hoverinfo": "text",
         "marker": {
          "color": "rgb(0,116,217)"
         },
         "mode": "lines",
         "type": "scatter",
         "x": [
          1.2834921161897161,
          2.516058326220485,
          2.516058326220485,
          1.8444647636151372
         ],
         "xaxis": "x",
         "y": [
          -1862.5,
          -1862.5,
          -1905.625,
          -1905.625
         ],
         "yaxis": "y"
        },
        {
         "hoverinfo": "text",
         "marker": {
          "color": "rgb(0,116,217)"
         },
         "mode": "lines",
         "type": "scatter",
         "x": [
          0,
          1.198216225385505,
          1.198216225385505,
          0
         ],
         "xaxis": "x",
         "y": [
          -1955,
          -1955,
          -1965,
          -1965
         ],
         "yaxis": "y"
        },
        {
         "hoverinfo": "text",
         "marker": {
          "color": "rgb(0,116,217)"
         },
         "mode": "lines",
         "type": "scatter",
         "x": [
          0,
          1.1459744612665135,
          1.1459744612665135,
          0
         ],
         "xaxis": "x",
         "y": [
          -1975,
          -1975,
          -1985,
          -1985
         ],
         "yaxis": "y"
        },
        {
         "hoverinfo": "text",
         "marker": {
          "color": "rgb(0,116,217)"
         },
         "mode": "lines",
         "type": "scatter",
         "x": [
          0,
          1.4325357698384091,
          1.4325357698384091,
          0
         ],
         "xaxis": "x",
         "y": [
          -1995,
          -1995,
          -2005,
          -2005
         ],
         "yaxis": "y"
        },
        {
         "hoverinfo": "text",
         "marker": {
          "color": "rgb(0,116,217)"
         },
         "mode": "lines",
         "type": "scatter",
         "x": [
          1.1459744612665135,
          1.4971365426417647,
          1.4971365426417647,
          1.4325357698384091
         ],
         "xaxis": "x",
         "y": [
          -1980,
          -1980,
          -2000,
          -2000
         ],
         "yaxis": "y"
        },
        {
         "hoverinfo": "text",
         "marker": {
          "color": "rgb(0,116,217)"
         },
         "mode": "lines",
         "type": "scatter",
         "x": [
          1.198216225385505,
          1.9087777486685213,
          1.9087777486685213,
          1.4971365426417647
         ],
         "xaxis": "x",
         "y": [
          -1960,
          -1960,
          -1990,
          -1990
         ],
         "yaxis": "y"
        },
        {
         "hoverinfo": "text",
         "marker": {
          "color": "rgb(0,116,217)"
         },
         "mode": "lines",
         "type": "scatter",
         "x": [
          0,
          1.2686198539822688,
          1.2686198539822688,
          0
         ],
         "xaxis": "x",
         "y": [
          -2015,
          -2015,
          -2025,
          -2025
         ],
         "yaxis": "y"
        },
        {
         "hoverinfo": "text",
         "marker": {
          "color": "rgb(0,116,217)"
         },
         "mode": "lines",
         "type": "scatter",
         "x": [
          0,
          1.4631323487547507,
          1.4631323487547507,
          0
         ],
         "xaxis": "x",
         "y": [
          -2045,
          -2045,
          -2055,
          -2055
         ],
         "yaxis": "y"
        },
        {
         "hoverinfo": "text",
         "marker": {
          "color": "rgb(0,116,217)"
         },
         "mode": "lines",
         "type": "scatter",
         "x": [
          0,
          1.5888172687932987,
          1.5888172687932987,
          1.4631323487547507
         ],
         "xaxis": "x",
         "y": [
          -2035,
          -2035,
          -2050,
          -2050
         ],
         "yaxis": "y"
        },
        {
         "hoverinfo": "text",
         "marker": {
          "color": "rgb(0,116,217)"
         },
         "mode": "lines",
         "type": "scatter",
         "x": [
          1.2686198539822688,
          1.7197364991425588,
          1.7197364991425588,
          1.5888172687932987
         ],
         "xaxis": "x",
         "y": [
          -2020,
          -2020,
          -2042.5,
          -2042.5
         ],
         "yaxis": "y"
        },
        {
         "hoverinfo": "text",
         "marker": {
          "color": "rgb(0,116,217)"
         },
         "mode": "lines",
         "type": "scatter",
         "x": [
          0,
          1.0363926283426192,
          1.0363926283426192,
          0
         ],
         "xaxis": "x",
         "y": [
          -2065,
          -2065,
          -2075,
          -2075
         ],
         "yaxis": "y"
        },
        {
         "hoverinfo": "text",
         "marker": {
          "color": "rgb(61,153,112)"
         },
         "mode": "lines",
         "type": "scatter",
         "x": [
          0,
          0.9487605488997916,
          0.9487605488997916,
          0
         ],
         "xaxis": "x",
         "y": [
          -2095,
          -2095,
          -2105,
          -2105
         ],
         "yaxis": "y"
        },
        {
         "hoverinfo": "text",
         "marker": {
          "color": "rgb(0,116,217)"
         },
         "mode": "lines",
         "type": "scatter",
         "x": [
          0,
          1.1269663617560461,
          1.1269663617560461,
          0.9487605488997916
         ],
         "xaxis": "x",
         "y": [
          -2085,
          -2085,
          -2100,
          -2100
         ],
         "yaxis": "y"
        },
        {
         "hoverinfo": "text",
         "marker": {
          "color": "rgb(0,116,217)"
         },
         "mode": "lines",
         "type": "scatter",
         "x": [
          1.0363926283426192,
          1.930677899853348,
          1.930677899853348,
          1.1269663617560461
         ],
         "xaxis": "x",
         "y": [
          -2070,
          -2070,
          -2092.5,
          -2092.5
         ],
         "yaxis": "y"
        },
        {
         "hoverinfo": "text",
         "marker": {
          "color": "rgb(0,116,217)"
         },
         "mode": "lines",
         "type": "scatter",
         "x": [
          1.7197364991425588,
          2.7158500840922315,
          2.7158500840922315,
          1.930677899853348
         ],
         "xaxis": "x",
         "y": [
          -2031.25,
          -2031.25,
          -2081.25,
          -2081.25
         ],
         "yaxis": "y"
        },
        {
         "hoverinfo": "text",
         "marker": {
          "color": "rgb(0,116,217)"
         },
         "mode": "lines",
         "type": "scatter",
         "x": [
          1.9087777486685213,
          3.537469339038581,
          3.537469339038581,
          2.7158500840922315
         ],
         "xaxis": "x",
         "y": [
          -1975,
          -1975,
          -2056.25,
          -2056.25
         ],
         "yaxis": "y"
        },
        {
         "hoverinfo": "text",
         "marker": {
          "color": "rgb(0,116,217)"
         },
         "mode": "lines",
         "type": "scatter",
         "x": [
          2.516058326220485,
          4.170661907644985,
          4.170661907644985,
          3.537469339038581
         ],
         "xaxis": "x",
         "y": [
          -1884.0625,
          -1884.0625,
          -2015.625,
          -2015.625
         ],
         "yaxis": "y"
        },
        {
         "hoverinfo": "text",
         "marker": {
          "color": "rgb(0,116,217)"
         },
         "mode": "lines",
         "type": "scatter",
         "x": [
          0,
          1.049075230566199,
          1.049075230566199,
          0
         ],
         "xaxis": "x",
         "y": [
          -2115,
          -2115,
          -2125,
          -2125
         ],
         "yaxis": "y"
        },
        {
         "hoverinfo": "text",
         "marker": {
          "color": "rgb(255,65,54)"
         },
         "mode": "lines",
         "type": "scatter",
         "x": [
          0,
          0.916659450319482,
          0.916659450319482,
          0
         ],
         "xaxis": "x",
         "y": [
          -2145,
          -2145,
          -2155,
          -2155
         ],
         "yaxis": "y"
        },
        {
         "hoverinfo": "text",
         "marker": {
          "color": "rgb(0,116,217)"
         },
         "mode": "lines",
         "type": "scatter",
         "x": [
          0,
          1.1147342554928807,
          1.1147342554928807,
          0.916659450319482
         ],
         "xaxis": "x",
         "y": [
          -2135,
          -2135,
          -2150,
          -2150
         ],
         "yaxis": "y"
        },
        {
         "hoverinfo": "text",
         "marker": {
          "color": "rgb(0,116,217)"
         },
         "mode": "lines",
         "type": "scatter",
         "x": [
          1.049075230566199,
          1.6279553532060798,
          1.6279553532060798,
          1.1147342554928807
         ],
         "xaxis": "x",
         "y": [
          -2120,
          -2120,
          -2142.5,
          -2142.5
         ],
         "yaxis": "y"
        },
        {
         "hoverinfo": "text",
         "marker": {
          "color": "rgb(0,116,217)"
         },
         "mode": "lines",
         "type": "scatter",
         "x": [
          0,
          1.204945900011896,
          1.204945900011896,
          0
         ],
         "xaxis": "x",
         "y": [
          -2165,
          -2165,
          -2175,
          -2175
         ],
         "yaxis": "y"
        },
        {
         "hoverinfo": "text",
         "marker": {
          "color": "rgb(35,205,205)"
         },
         "mode": "lines",
         "type": "scatter",
         "x": [
          0,
          0.9199415386871669,
          0.9199415386871669,
          0
         ],
         "xaxis": "x",
         "y": [
          -2185,
          -2185,
          -2195,
          -2195
         ],
         "yaxis": "y"
        },
        {
         "hoverinfo": "text",
         "marker": {
          "color": "rgb(0,116,217)"
         },
         "mode": "lines",
         "type": "scatter",
         "x": [
          0,
          1.2053293661796707,
          1.2053293661796707,
          0
         ],
         "xaxis": "x",
         "y": [
          -2215,
          -2215,
          -2225,
          -2225
         ],
         "yaxis": "y"
        },
        {
         "hoverinfo": "text",
         "marker": {
          "color": "rgb(0,116,217)"
         },
         "mode": "lines",
         "type": "scatter",
         "x": [
          0,
          1.3668180862755346,
          1.3668180862755346,
          1.2053293661796707
         ],
         "xaxis": "x",
         "y": [
          -2205,
          -2205,
          -2220,
          -2220
         ],
         "yaxis": "y"
        },
        {
         "hoverinfo": "text",
         "marker": {
          "color": "rgb(0,116,217)"
         },
         "mode": "lines",
         "type": "scatter",
         "x": [
          0.9199415386871669,
          1.7245803394939556,
          1.7245803394939556,
          1.3668180862755346
         ],
         "xaxis": "x",
         "y": [
          -2190,
          -2190,
          -2212.5,
          -2212.5
         ],
         "yaxis": "y"
        },
        {
         "hoverinfo": "text",
         "marker": {
          "color": "rgb(0,116,217)"
         },
         "mode": "lines",
         "type": "scatter",
         "x": [
          1.204945900011896,
          1.9766432725070977,
          1.9766432725070977,
          1.7245803394939556
         ],
         "xaxis": "x",
         "y": [
          -2170,
          -2170,
          -2201.25,
          -2201.25
         ],
         "yaxis": "y"
        },
        {
         "hoverinfo": "text",
         "marker": {
          "color": "rgb(0,116,217)"
         },
         "mode": "lines",
         "type": "scatter",
         "x": [
          1.6279553532060798,
          2.1710513134688734,
          2.1710513134688734,
          1.9766432725070977
         ],
         "xaxis": "x",
         "y": [
          -2131.25,
          -2131.25,
          -2185.625,
          -2185.625
         ],
         "yaxis": "y"
        },
        {
         "hoverinfo": "text",
         "marker": {
          "color": "rgb(0,116,217)"
         },
         "mode": "lines",
         "type": "scatter",
         "x": [
          0,
          1.2139777162630612,
          1.2139777162630612,
          0
         ],
         "xaxis": "x",
         "y": [
          -2235,
          -2235,
          -2245,
          -2245
         ],
         "yaxis": "y"
        },
        {
         "hoverinfo": "text",
         "marker": {
          "color": "rgb(0,116,217)"
         },
         "mode": "lines",
         "type": "scatter",
         "x": [
          0,
          1.2698705452807824,
          1.2698705452807824,
          0
         ],
         "xaxis": "x",
         "y": [
          -2255,
          -2255,
          -2265,
          -2265
         ],
         "yaxis": "y"
        },
        {
         "hoverinfo": "text",
         "marker": {
          "color": "rgb(0,116,217)"
         },
         "mode": "lines",
         "type": "scatter",
         "x": [
          1.2139777162630612,
          1.3764850271212767,
          1.3764850271212767,
          1.2698705452807824
         ],
         "xaxis": "x",
         "y": [
          -2240,
          -2240,
          -2260,
          -2260
         ],
         "yaxis": "y"
        },
        {
         "hoverinfo": "text",
         "marker": {
          "color": "rgb(0,116,217)"
         },
         "mode": "lines",
         "type": "scatter",
         "x": [
          0,
          1.0432107238374622,
          1.0432107238374622,
          0
         ],
         "xaxis": "x",
         "y": [
          -2275,
          -2275,
          -2285,
          -2285
         ],
         "yaxis": "y"
        },
        {
         "hoverinfo": "text",
         "marker": {
          "color": "rgb(0,116,217)"
         },
         "mode": "lines",
         "type": "scatter",
         "x": [
          0,
          1.2451583392280816,
          1.2451583392280816,
          0
         ],
         "xaxis": "x",
         "y": [
          -2295,
          -2295,
          -2305,
          -2305
         ],
         "yaxis": "y"
        },
        {
         "hoverinfo": "text",
         "marker": {
          "color": "rgb(0,116,217)"
         },
         "mode": "lines",
         "type": "scatter",
         "x": [
          1.0432107238374622,
          1.3913409802035412,
          1.3913409802035412,
          1.2451583392280816
         ],
         "xaxis": "x",
         "y": [
          -2280,
          -2280,
          -2300,
          -2300
         ],
         "yaxis": "y"
        },
        {
         "hoverinfo": "text",
         "marker": {
          "color": "rgb(0,116,217)"
         },
         "mode": "lines",
         "type": "scatter",
         "x": [
          1.3764850271212767,
          2.322393620798774,
          2.322393620798774,
          1.3913409802035412
         ],
         "xaxis": "x",
         "y": [
          -2250,
          -2250,
          -2290,
          -2290
         ],
         "yaxis": "y"
        },
        {
         "hoverinfo": "text",
         "marker": {
          "color": "rgb(0,116,217)"
         },
         "mode": "lines",
         "type": "scatter",
         "x": [
          0,
          1.2975789669472546,
          1.2975789669472546,
          0
         ],
         "xaxis": "x",
         "y": [
          -2315,
          -2315,
          -2325,
          -2325
         ],
         "yaxis": "y"
        },
        {
         "hoverinfo": "text",
         "marker": {
          "color": "rgb(0,116,217)"
         },
         "mode": "lines",
         "type": "scatter",
         "x": [
          0,
          1.3041741704094616,
          1.3041741704094616,
          0
         ],
         "xaxis": "x",
         "y": [
          -2345,
          -2345,
          -2355,
          -2355
         ],
         "yaxis": "y"
        },
        {
         "hoverinfo": "text",
         "marker": {
          "color": "rgb(0,116,217)"
         },
         "mode": "lines",
         "type": "scatter",
         "x": [
          0,
          1.4425347626281817,
          1.4425347626281817,
          1.3041741704094616
         ],
         "xaxis": "x",
         "y": [
          -2335,
          -2335,
          -2350,
          -2350
         ],
         "yaxis": "y"
        },
        {
         "hoverinfo": "text",
         "marker": {
          "color": "rgb(0,116,217)"
         },
         "mode": "lines",
         "type": "scatter",
         "x": [
          1.2975789669472546,
          1.9827660661923514,
          1.9827660661923514,
          1.4425347626281817
         ],
         "xaxis": "x",
         "y": [
          -2320,
          -2320,
          -2342.5,
          -2342.5
         ],
         "yaxis": "y"
        },
        {
         "hoverinfo": "text",
         "marker": {
          "color": "rgb(0,116,217)"
         },
         "mode": "lines",
         "type": "scatter",
         "x": [
          0,
          1.2534752745992939,
          1.2534752745992939,
          0
         ],
         "xaxis": "x",
         "y": [
          -2375,
          -2375,
          -2385,
          -2385
         ],
         "yaxis": "y"
        },
        {
         "hoverinfo": "text",
         "marker": {
          "color": "rgb(0,116,217)"
         },
         "mode": "lines",
         "type": "scatter",
         "x": [
          0,
          1.3595011655955862,
          1.3595011655955862,
          1.2534752745992939
         ],
         "xaxis": "x",
         "y": [
          -2365,
          -2365,
          -2380,
          -2380
         ],
         "yaxis": "y"
        },
        {
         "hoverinfo": "text",
         "marker": {
          "color": "rgb(0,116,217)"
         },
         "mode": "lines",
         "type": "scatter",
         "x": [
          0,
          1.284196182705058,
          1.284196182705058,
          0
         ],
         "xaxis": "x",
         "y": [
          -2405,
          -2405,
          -2415,
          -2415
         ],
         "yaxis": "y"
        },
        {
         "hoverinfo": "text",
         "marker": {
          "color": "rgb(0,116,217)"
         },
         "mode": "lines",
         "type": "scatter",
         "x": [
          0,
          1.524441391178809,
          1.524441391178809,
          1.284196182705058
         ],
         "xaxis": "x",
         "y": [
          -2395,
          -2395,
          -2410,
          -2410
         ],
         "yaxis": "y"
        },
        {
         "hoverinfo": "text",
         "marker": {
          "color": "rgb(0,116,217)"
         },
         "mode": "lines",
         "type": "scatter",
         "x": [
          1.3595011655955862,
          2.1088788573424004,
          2.1088788573424004,
          1.524441391178809
         ],
         "xaxis": "x",
         "y": [
          -2372.5,
          -2372.5,
          -2402.5,
          -2402.5
         ],
         "yaxis": "y"
        },
        {
         "hoverinfo": "text",
         "marker": {
          "color": "rgb(0,116,217)"
         },
         "mode": "lines",
         "type": "scatter",
         "x": [
          1.9827660661923514,
          2.9597999725328745,
          2.9597999725328745,
          2.1088788573424004
         ],
         "xaxis": "x",
         "y": [
          -2331.25,
          -2331.25,
          -2387.5,
          -2387.5
         ],
         "yaxis": "y"
        },
        {
         "hoverinfo": "text",
         "marker": {
          "color": "rgb(0,116,217)"
         },
         "mode": "lines",
         "type": "scatter",
         "x": [
          2.322393620798774,
          3.77896832743171,
          3.77896832743171,
          2.9597999725328745
         ],
         "xaxis": "x",
         "y": [
          -2270,
          -2270,
          -2359.375,
          -2359.375
         ],
         "yaxis": "y"
        },
        {
         "hoverinfo": "text",
         "marker": {
          "color": "rgb(0,116,217)"
         },
         "mode": "lines",
         "type": "scatter",
         "x": [
          2.1710513134688734,
          4.644535912781143,
          4.644535912781143,
          3.77896832743171
         ],
         "xaxis": "x",
         "y": [
          -2158.4375,
          -2158.4375,
          -2314.6875,
          -2314.6875
         ],
         "yaxis": "y"
        },
        {
         "hoverinfo": "text",
         "marker": {
          "color": "rgb(0,116,217)"
         },
         "mode": "lines",
         "type": "scatter",
         "x": [
          4.170661907644985,
          7.255827486214962,
          7.255827486214962,
          4.644535912781143
         ],
         "xaxis": "x",
         "y": [
          -1949.84375,
          -1949.84375,
          -2236.5625,
          -2236.5625
         ],
         "yaxis": "y"
        },
        {
         "hoverinfo": "text",
         "marker": {
          "color": "rgb(0,116,217)"
         },
         "mode": "lines",
         "type": "scatter",
         "x": [
          6.875996481344916,
          9.17214527575827,
          9.17214527575827,
          7.255827486214962
         ],
         "xaxis": "x",
         "y": [
          -1262.05078125,
          -1262.05078125,
          -2093.203125,
          -2093.203125
         ],
         "yaxis": "y"
        },
        {
         "hoverinfo": "text",
         "marker": {
          "color": "rgb(0,116,217)"
         },
         "mode": "lines",
         "type": "scatter",
         "x": [
          8.095168706823861,
          11.030902080899887,
          11.030902080899887,
          9.17214527575827
         ],
         "xaxis": "x",
         "y": [
          -421.62109375,
          -421.62109375,
          -1677.626953125,
          -1677.626953125
         ],
         "yaxis": "y"
        },
        {
         "hoverinfo": "text",
         "marker": {
          "color": "rgb(133,20,75)"
         },
         "mode": "lines",
         "type": "scatter",
         "x": [
          0,
          0.16787011527408793,
          0.16787011527408793,
          0
         ],
         "xaxis": "x",
         "y": [
          -2435,
          -2435,
          -2445,
          -2445
         ],
         "yaxis": "y"
        },
        {
         "hoverinfo": "text",
         "marker": {
          "color": "rgb(0,116,217)"
         },
         "mode": "lines",
         "type": "scatter",
         "x": [
          0,
          1.5637045611294047,
          1.5637045611294047,
          0.16787011527408793
         ],
         "xaxis": "x",
         "y": [
          -2425,
          -2425,
          -2440,
          -2440
         ],
         "yaxis": "y"
        },
        {
         "hoverinfo": "text",
         "marker": {
          "color": "rgb(255,220,0)"
         },
         "mode": "lines",
         "type": "scatter",
         "x": [
          0,
          0.9662116119364585,
          0.9662116119364585,
          0
         ],
         "xaxis": "x",
         "y": [
          -2465,
          -2465,
          -2475,
          -2475
         ],
         "yaxis": "y"
        },
        {
         "hoverinfo": "text",
         "marker": {
          "color": "rgb(0,116,217)"
         },
         "mode": "lines",
         "type": "scatter",
         "x": [
          0,
          2.634497069104007,
          2.634497069104007,
          0.9662116119364585
         ],
         "xaxis": "x",
         "y": [
          -2455,
          -2455,
          -2470,
          -2470
         ],
         "yaxis": "y"
        },
        {
         "hoverinfo": "text",
         "marker": {
          "color": "rgb(0,116,217)"
         },
         "mode": "lines",
         "type": "scatter",
         "x": [
          1.5637045611294047,
          3.0703245862084474,
          3.0703245862084474,
          2.634497069104007
         ],
         "xaxis": "x",
         "y": [
          -2432.5,
          -2432.5,
          -2462.5,
          -2462.5
         ],
         "yaxis": "y"
        },
        {
         "hoverinfo": "text",
         "marker": {
          "color": "rgb(40,35,35)"
         },
         "mode": "lines",
         "type": "scatter",
         "x": [
          0,
          0.8704577222403026,
          0.8704577222403026,
          0
         ],
         "xaxis": "x",
         "y": [
          -2495,
          -2495,
          -2505,
          -2505
         ],
         "yaxis": "y"
        },
        {
         "hoverinfo": "text",
         "marker": {
          "color": "rgb(0,116,217)"
         },
         "mode": "lines",
         "type": "scatter",
         "x": [
          0,
          1.2024082742236306,
          1.2024082742236306,
          0.8704577222403026
         ],
         "xaxis": "x",
         "y": [
          -2485,
          -2485,
          -2500,
          -2500
         ],
         "yaxis": "y"
        },
        {
         "hoverinfo": "text",
         "marker": {
          "color": "rgb(0,116,217)"
         },
         "mode": "lines",
         "type": "scatter",
         "x": [
          0,
          1.6422882745147185,
          1.6422882745147185,
          0
         ],
         "xaxis": "x",
         "y": [
          -2515,
          -2515,
          -2525,
          -2525
         ],
         "yaxis": "y"
        },
        {
         "hoverinfo": "text",
         "marker": {
          "color": "rgb(0,116,217)"
         },
         "mode": "lines",
         "type": "scatter",
         "x": [
          1.2024082742236306,
          2.1361810771032474,
          2.1361810771032474,
          1.6422882745147185
         ],
         "xaxis": "x",
         "y": [
          -2492.5,
          -2492.5,
          -2520,
          -2520
         ],
         "yaxis": "y"
        },
        {
         "hoverinfo": "text",
         "marker": {
          "color": "rgb(0,116,217)"
         },
         "mode": "lines",
         "type": "scatter",
         "x": [
          0,
          1.3501595802631219,
          1.3501595802631219,
          0
         ],
         "xaxis": "x",
         "y": [
          -2545,
          -2545,
          -2555,
          -2555
         ],
         "yaxis": "y"
        },
        {
         "hoverinfo": "text",
         "marker": {
          "color": "rgb(0,116,217)"
         },
         "mode": "lines",
         "type": "scatter",
         "x": [
          0,
          2.281500519966803,
          2.281500519966803,
          1.3501595802631219
         ],
         "xaxis": "x",
         "y": [
          -2535,
          -2535,
          -2550,
          -2550
         ],
         "yaxis": "y"
        },
        {
         "hoverinfo": "text",
         "marker": {
          "color": "rgb(61,153,112)"
         },
         "mode": "lines",
         "type": "scatter",
         "x": [
          0,
          0.7997632543075397,
          0.7997632543075397,
          0
         ],
         "xaxis": "x",
         "y": [
          -2595,
          -2595,
          -2605,
          -2605
         ],
         "yaxis": "y"
        },
        {
         "hoverinfo": "text",
         "marker": {
          "color": "rgb(61,153,112)"
         },
         "mode": "lines",
         "type": "scatter",
         "x": [
          0,
          0.9840474435278572,
          0.9840474435278572,
          0.7997632543075397
         ],
         "xaxis": "x",
         "y": [
          -2585,
          -2585,
          -2600,
          -2600
         ],
         "yaxis": "y"
        },
        {
         "hoverinfo": "text",
         "marker": {
          "color": "rgb(0,116,217)"
         },
         "mode": "lines",
         "type": "scatter",
         "x": [
          0,
          1.4338496583881053,
          1.4338496583881053,
          0.9840474435278572
         ],
         "xaxis": "x",
         "y": [
          -2575,
          -2575,
          -2592.5,
          -2592.5
         ],
         "yaxis": "y"
        },
        {
         "hoverinfo": "text",
         "marker": {
          "color": "rgb(0,116,217)"
         },
         "mode": "lines",
         "type": "scatter",
         "x": [
          0,
          1.7533854909267832,
          1.7533854909267832,
          1.4338496583881053
         ],
         "xaxis": "x",
         "y": [
          -2565,
          -2565,
          -2583.75,
          -2583.75
         ],
         "yaxis": "y"
        },
        {
         "hoverinfo": "text",
         "marker": {
          "color": "rgb(0,116,217)"
         },
         "mode": "lines",
         "type": "scatter",
         "x": [
          0,
          1.9203405473057704,
          1.9203405473057704,
          0
         ],
         "xaxis": "x",
         "y": [
          -2615,
          -2615,
          -2625,
          -2625
         ],
         "yaxis": "y"
        },
        {
         "hoverinfo": "text",
         "marker": {
          "color": "rgb(0,116,217)"
         },
         "mode": "lines",
         "type": "scatter",
         "x": [
          0,
          1.7150935071522664,
          1.7150935071522664,
          0
         ],
         "xaxis": "x",
         "y": [
          -2635,
          -2635,
          -2645,
          -2645
         ],
         "yaxis": "y"
        },
        {
         "hoverinfo": "text",
         "marker": {
          "color": "rgb(0,116,217)"
         },
         "mode": "lines",
         "type": "scatter",
         "x": [
          0,
          2.0038351291327725,
          2.0038351291327725,
          0
         ],
         "xaxis": "x",
         "y": [
          -2655,
          -2655,
          -2665,
          -2665
         ],
         "yaxis": "y"
        },
        {
         "hoverinfo": "text",
         "marker": {
          "color": "rgb(0,116,217)"
         },
         "mode": "lines",
         "type": "scatter",
         "x": [
          1.7150935071522664,
          2.4464860621686073,
          2.4464860621686073,
          2.0038351291327725
         ],
         "xaxis": "x",
         "y": [
          -2640,
          -2640,
          -2660,
          -2660
         ],
         "yaxis": "y"
        },
        {
         "hoverinfo": "text",
         "marker": {
          "color": "rgb(255,65,54)"
         },
         "mode": "lines",
         "type": "scatter",
         "x": [
          0,
          4.849061350031612e-8,
          4.849061350031612e-8,
          0
         ],
         "xaxis": "x",
         "y": [
          -2675,
          -2675,
          -2685,
          -2685
         ],
         "yaxis": "y"
        },
        {
         "hoverinfo": "text",
         "marker": {
          "color": "rgb(35,205,205)"
         },
         "mode": "lines",
         "type": "scatter",
         "x": [
          0,
          0.8535547524889893,
          0.8535547524889893,
          0
         ],
         "xaxis": "x",
         "y": [
          -2695,
          -2695,
          -2705,
          -2705
         ],
         "yaxis": "y"
        },
        {
         "hoverinfo": "text",
         "marker": {
          "color": "rgb(0,116,217)"
         },
         "mode": "lines",
         "type": "scatter",
         "x": [
          0,
          1.7378233878543623,
          1.7378233878543623,
          0
         ],
         "xaxis": "x",
         "y": [
          -2715,
          -2715,
          -2725,
          -2725
         ],
         "yaxis": "y"
        },
        {
         "hoverinfo": "text",
         "marker": {
          "color": "rgb(0,116,217)"
         },
         "mode": "lines",
         "type": "scatter",
         "x": [
          0,
          1.4632315456017275,
          1.4632315456017275,
          0
         ],
         "xaxis": "x",
         "y": [
          -2745,
          -2745,
          -2755,
          -2755
         ],
         "yaxis": "y"
        },
        {
         "hoverinfo": "text",
         "marker": {
          "color": "rgb(0,116,217)"
         },
         "mode": "lines",
         "type": "scatter",
         "x": [
          0,
          1.7433770312859094,
          1.7433770312859094,
          1.4632315456017275
         ],
         "xaxis": "x",
         "y": [
          -2735,
          -2735,
          -2750,
          -2750
         ],
         "yaxis": "y"
        },
        {
         "hoverinfo": "text",
         "marker": {
          "color": "rgb(0,116,217)"
         },
         "mode": "lines",
         "type": "scatter",
         "x": [
          1.7378233878543623,
          2.1343966097710085,
          2.1343966097710085,
          1.7433770312859094
         ],
         "xaxis": "x",
         "y": [
          -2720,
          -2720,
          -2742.5,
          -2742.5
         ],
         "yaxis": "y"
        },
        {
         "hoverinfo": "text",
         "marker": {
          "color": "rgb(0,116,217)"
         },
         "mode": "lines",
         "type": "scatter",
         "x": [
          0.8535547524889893,
          2.506496111019142,
          2.506496111019142,
          2.1343966097710085
         ],
         "xaxis": "x",
         "y": [
          -2700,
          -2700,
          -2731.25,
          -2731.25
         ],
         "yaxis": "y"
        },
        {
         "hoverinfo": "text",
         "marker": {
          "color": "rgb(0,116,217)"
         },
         "mode": "lines",
         "type": "scatter",
         "x": [
          4.849061350031612e-8,
          2.7223922260233477,
          2.7223922260233477,
          2.506496111019142
         ],
         "xaxis": "x",
         "y": [
          -2680,
          -2680,
          -2715.625,
          -2715.625
         ],
         "yaxis": "y"
        },
        {
         "hoverinfo": "text",
         "marker": {
          "color": "rgb(0,116,217)"
         },
         "mode": "lines",
         "type": "scatter",
         "x": [
          2.4464860621686073,
          3.0059366384722574,
          3.0059366384722574,
          2.7223922260233477
         ],
         "xaxis": "x",
         "y": [
          -2650,
          -2650,
          -2697.8125,
          -2697.8125
         ],
         "yaxis": "y"
        },
        {
         "hoverinfo": "text",
         "marker": {
          "color": "rgb(0,116,217)"
         },
         "mode": "lines",
         "type": "scatter",
         "x": [
          1.9203405473057704,
          3.5077261534184108,
          3.5077261534184108,
          3.0059366384722574
         ],
         "xaxis": "x",
         "y": [
          -2620,
          -2620,
          -2673.90625,
          -2673.90625
         ],
         "yaxis": "y"
        },
        {
         "hoverinfo": "text",
         "marker": {
          "color": "rgb(0,116,217)"
         },
         "mode": "lines",
         "type": "scatter",
         "x": [
          1.7533854909267832,
          3.8450080975743286,
          3.8450080975743286,
          3.5077261534184108
         ],
         "xaxis": "x",
         "y": [
          -2574.375,
          -2574.375,
          -2646.953125,
          -2646.953125
         ],
         "yaxis": "y"
        },
        {
         "hoverinfo": "text",
         "marker": {
          "color": "rgb(0,116,217)"
         },
         "mode": "lines",
         "type": "scatter",
         "x": [
          2.281500519966803,
          4.092166032086217,
          4.092166032086217,
          3.8450080975743286
         ],
         "xaxis": "x",
         "y": [
          -2542.5,
          -2542.5,
          -2610.6640625,
          -2610.6640625
         ],
         "yaxis": "y"
        },
        {
         "hoverinfo": "text",
         "marker": {
          "color": "rgb(0,116,217)"
         },
         "mode": "lines",
         "type": "scatter",
         "x": [
          2.1361810771032474,
          4.525966781931169,
          4.525966781931169,
          4.092166032086217
         ],
         "xaxis": "x",
         "y": [
          -2506.25,
          -2506.25,
          -2576.58203125,
          -2576.58203125
         ],
         "yaxis": "y"
        },
        {
         "hoverinfo": "text",
         "marker": {
          "color": "rgb(0,116,217)"
         },
         "mode": "lines",
         "type": "scatter",
         "x": [
          3.0703245862084474,
          5.423295123459487,
          5.423295123459487,
          4.525966781931169
         ],
         "xaxis": "x",
         "y": [
          -2447.5,
          -2447.5,
          -2541.416015625,
          -2541.416015625
         ],
         "yaxis": "y"
        },
        {
         "hoverinfo": "text",
         "marker": {
          "color": "rgb(61,153,112)"
         },
         "mode": "lines",
         "type": "scatter",
         "x": [
          0,
          0.7837347714507785,
          0.7837347714507785,
          0
         ],
         "xaxis": "x",
         "y": [
          -2785,
          -2785,
          -2795,
          -2795
         ],
         "yaxis": "y"
        },
        {
         "hoverinfo": "text",
         "marker": {
          "color": "rgb(0,116,217)"
         },
         "mode": "lines",
         "type": "scatter",
         "x": [
          0,
          1.0260256488180053,
          1.0260256488180053,
          0.7837347714507785
         ],
         "xaxis": "x",
         "y": [
          -2775,
          -2775,
          -2790,
          -2790
         ],
         "yaxis": "y"
        },
        {
         "hoverinfo": "text",
         "marker": {
          "color": "rgb(0,116,217)"
         },
         "mode": "lines",
         "type": "scatter",
         "x": [
          0,
          1.540025494879776,
          1.540025494879776,
          1.0260256488180053
         ],
         "xaxis": "x",
         "y": [
          -2765,
          -2765,
          -2782.5,
          -2782.5
         ],
         "yaxis": "y"
        },
        {
         "hoverinfo": "text",
         "marker": {
          "color": "rgb(255,65,54)"
         },
         "mode": "lines",
         "type": "scatter",
         "x": [
          0,
          0.8691889883481281,
          0.8691889883481281,
          0
         ],
         "xaxis": "x",
         "y": [
          -2815,
          -2815,
          -2825,
          -2825
         ],
         "yaxis": "y"
        },
        {
         "hoverinfo": "text",
         "marker": {
          "color": "rgb(0,116,217)"
         },
         "mode": "lines",
         "type": "scatter",
         "x": [
          0,
          1.2020034908038124,
          1.2020034908038124,
          0.8691889883481281
         ],
         "xaxis": "x",
         "y": [
          -2805,
          -2805,
          -2820,
          -2820
         ],
         "yaxis": "y"
        },
        {
         "hoverinfo": "text",
         "marker": {
          "color": "rgb(0,116,217)"
         },
         "mode": "lines",
         "type": "scatter",
         "x": [
          0,
          1.108041621640108,
          1.108041621640108,
          0
         ],
         "xaxis": "x",
         "y": [
          -2835,
          -2835,
          -2845,
          -2845
         ],
         "yaxis": "y"
        },
        {
         "hoverinfo": "text",
         "marker": {
          "color": "rgb(35,205,205)"
         },
         "mode": "lines",
         "type": "scatter",
         "x": [
          0,
          0.9584938292596674,
          0.9584938292596674,
          0
         ],
         "xaxis": "x",
         "y": [
          -2865,
          -2865,
          -2875,
          -2875
         ],
         "yaxis": "y"
        },
        {
         "hoverinfo": "text",
         "marker": {
          "color": "rgb(0,116,217)"
         },
         "mode": "lines",
         "type": "scatter",
         "x": [
          0,
          1.2718090875647194,
          1.2718090875647194,
          0.9584938292596674
         ],
         "xaxis": "x",
         "y": [
          -2855,
          -2855,
          -2870,
          -2870
         ],
         "yaxis": "y"
        },
        {
         "hoverinfo": "text",
         "marker": {
          "color": "rgb(0,116,217)"
         },
         "mode": "lines",
         "type": "scatter",
         "x": [
          1.108041621640108,
          1.5551419521128103,
          1.5551419521128103,
          1.2718090875647194
         ],
         "xaxis": "x",
         "y": [
          -2840,
          -2840,
          -2862.5,
          -2862.5
         ],
         "yaxis": "y"
        },
        {
         "hoverinfo": "text",
         "marker": {
          "color": "rgb(0,116,217)"
         },
         "mode": "lines",
         "type": "scatter",
         "x": [
          1.2020034908038124,
          1.7293213201339577,
          1.7293213201339577,
          1.5551419521128103
         ],
         "xaxis": "x",
         "y": [
          -2812.5,
          -2812.5,
          -2851.25,
          -2851.25
         ],
         "yaxis": "y"
        },
        {
         "hoverinfo": "text",
         "marker": {
          "color": "rgb(0,116,217)"
         },
         "mode": "lines",
         "type": "scatter",
         "x": [
          0,
          1.2702619373255695,
          1.2702619373255695,
          0
         ],
         "xaxis": "x",
         "y": [
          -2885,
          -2885,
          -2895,
          -2895
         ],
         "yaxis": "y"
        },
        {
         "hoverinfo": "text",
         "marker": {
          "color": "rgb(0,116,217)"
         },
         "mode": "lines",
         "type": "scatter",
         "x": [
          0,
          1.3308676522887675,
          1.3308676522887675,
          0
         ],
         "xaxis": "x",
         "y": [
          -2915,
          -2915,
          -2925,
          -2925
         ],
         "yaxis": "y"
        },
        {
         "hoverinfo": "text",
         "marker": {
          "color": "rgb(0,116,217)"
         },
         "mode": "lines",
         "type": "scatter",
         "x": [
          0,
          1.6504508923350443,
          1.6504508923350443,
          1.3308676522887675
         ],
         "xaxis": "x",
         "y": [
          -2905,
          -2905,
          -2920,
          -2920
         ],
         "yaxis": "y"
        },
        {
         "hoverinfo": "text",
         "marker": {
          "color": "rgb(0,116,217)"
         },
         "mode": "lines",
         "type": "scatter",
         "x": [
          1.2702619373255695,
          1.7163161685075146,
          1.7163161685075146,
          1.6504508923350443
         ],
         "xaxis": "x",
         "y": [
          -2890,
          -2890,
          -2912.5,
          -2912.5
         ],
         "yaxis": "y"
        },
        {
         "hoverinfo": "text",
         "marker": {
          "color": "rgb(0,116,217)"
         },
         "mode": "lines",
         "type": "scatter",
         "x": [
          0,
          1.3430413427785433,
          1.3430413427785433,
          0
         ],
         "xaxis": "x",
         "y": [
          -2935,
          -2935,
          -2945,
          -2945
         ],
         "yaxis": "y"
        },
        {
         "hoverinfo": "text",
         "marker": {
          "color": "rgb(133,20,75)"
         },
         "mode": "lines",
         "type": "scatter",
         "x": [
          0,
          0.9999776365803565,
          0.9999776365803565,
          0
         ],
         "xaxis": "x",
         "y": [
          -2985,
          -2985,
          -2995,
          -2995
         ],
         "yaxis": "y"
        },
        {
         "hoverinfo": "text",
         "marker": {
          "color": "rgb(0,116,217)"
         },
         "mode": "lines",
         "type": "scatter",
         "x": [
          0,
          1.184257010070469,
          1.184257010070469,
          0.9999776365803565
         ],
         "xaxis": "x",
         "y": [
          -2975,
          -2975,
          -2990,
          -2990
         ],
         "yaxis": "y"
        },
        {
         "hoverinfo": "text",
         "marker": {
          "color": "rgb(0,116,217)"
         },
         "mode": "lines",
         "type": "scatter",
         "x": [
          0,
          1.298638808710088,
          1.298638808710088,
          1.184257010070469
         ],
         "xaxis": "x",
         "y": [
          -2965,
          -2965,
          -2982.5,
          -2982.5
         ],
         "yaxis": "y"
        },
        {
         "hoverinfo": "text",
         "marker": {
          "color": "rgb(0,116,217)"
         },
         "mode": "lines",
         "type": "scatter",
         "x": [
          0,
          1.3432204446221045,
          1.3432204446221045,
          1.298638808710088
         ],
         "xaxis": "x",
         "y": [
          -2955,
          -2955,
          -2973.75,
          -2973.75
         ],
         "yaxis": "y"
        },
        {
         "hoverinfo": "text",
         "marker": {
          "color": "rgb(0,116,217)"
         },
         "mode": "lines",
         "type": "scatter",
         "x": [
          1.3430413427785433,
          1.6669222612409085,
          1.6669222612409085,
          1.3432204446221045
         ],
         "xaxis": "x",
         "y": [
          -2940,
          -2940,
          -2964.375,
          -2964.375
         ],
         "yaxis": "y"
        },
        {
         "hoverinfo": "text",
         "marker": {
          "color": "rgb(0,116,217)"
         },
         "mode": "lines",
         "type": "scatter",
         "x": [
          0,
          1.0431412879702522,
          1.0431412879702522,
          0
         ],
         "xaxis": "x",
         "y": [
          -3005,
          -3005,
          -3015,
          -3015
         ],
         "yaxis": "y"
        },
        {
         "hoverinfo": "text",
         "marker": {
          "color": "rgb(0,116,217)"
         },
         "mode": "lines",
         "type": "scatter",
         "x": [
          0,
          1.0665342366384971,
          1.0665342366384971,
          0
         ],
         "xaxis": "x",
         "y": [
          -3025,
          -3025,
          -3035,
          -3035
         ],
         "yaxis": "y"
        },
        {
         "hoverinfo": "text",
         "marker": {
          "color": "rgb(0,116,217)"
         },
         "mode": "lines",
         "type": "scatter",
         "x": [
          1.0431412879702522,
          1.6760434442495118,
          1.6760434442495118,
          1.0665342366384971
         ],
         "xaxis": "x",
         "y": [
          -3010,
          -3010,
          -3030,
          -3030
         ],
         "yaxis": "y"
        },
        {
         "hoverinfo": "text",
         "marker": {
          "color": "rgb(0,116,217)"
         },
         "mode": "lines",
         "type": "scatter",
         "x": [
          1.6669222612409085,
          2.4121740924289714,
          2.4121740924289714,
          1.6760434442495118
         ],
         "xaxis": "x",
         "y": [
          -2952.1875,
          -2952.1875,
          -3020,
          -3020
         ],
         "yaxis": "y"
        },
        {
         "hoverinfo": "text",
         "marker": {
          "color": "rgb(0,116,217)"
         },
         "mode": "lines",
         "type": "scatter",
         "x": [
          1.7163161685075146,
          2.6110749713517434,
          2.6110749713517434,
          2.4121740924289714
         ],
         "xaxis": "x",
         "y": [
          -2901.25,
          -2901.25,
          -2986.09375,
          -2986.09375
         ],
         "yaxis": "y"
        },
        {
         "hoverinfo": "text",
         "marker": {
          "color": "rgb(0,116,217)"
         },
         "mode": "lines",
         "type": "scatter",
         "x": [
          1.7293213201339577,
          3.018429262698328,
          3.018429262698328,
          2.6110749713517434
         ],
         "xaxis": "x",
         "y": [
          -2831.875,
          -2831.875,
          -2943.671875,
          -2943.671875
         ],
         "yaxis": "y"
        },
        {
         "hoverinfo": "text",
         "marker": {
          "color": "rgb(0,116,217)"
         },
         "mode": "lines",
         "type": "scatter",
         "x": [
          1.540025494879776,
          3.468872307416151,
          3.468872307416151,
          3.018429262698328
         ],
         "xaxis": "x",
         "y": [
          -2773.75,
          -2773.75,
          -2887.7734375,
          -2887.7734375
         ],
         "yaxis": "y"
        },
        {
         "hoverinfo": "text",
         "marker": {
          "color": "rgb(0,116,217)"
         },
         "mode": "lines",
         "type": "scatter",
         "x": [
          0,
          1.5989977366559913,
          1.5989977366559913,
          0
         ],
         "xaxis": "x",
         "y": [
          -3045,
          -3045,
          -3055,
          -3055
         ],
         "yaxis": "y"
        },
        {
         "hoverinfo": "text",
         "marker": {
          "color": "rgb(255,220,0)"
         },
         "mode": "lines",
         "type": "scatter",
         "x": [
          0,
          0.9938780192502138,
          0.9938780192502138,
          0
         ],
         "xaxis": "x",
         "y": [
          -3075,
          -3075,
          -3085,
          -3085
         ],
         "yaxis": "y"
        },
        {
         "hoverinfo": "text",
         "marker": {
          "color": "rgb(0,116,217)"
         },
         "mode": "lines",
         "type": "scatter",
         "x": [
          0,
          1.063031672823161,
          1.063031672823161,
          0.9938780192502138
         ],
         "xaxis": "x",
         "y": [
          -3065,
          -3065,
          -3080,
          -3080
         ],
         "yaxis": "y"
        },
        {
         "hoverinfo": "text",
         "marker": {
          "color": "rgb(0,116,217)"
         },
         "mode": "lines",
         "type": "scatter",
         "x": [
          0,
          1.089118304574684,
          1.089118304574684,
          0
         ],
         "xaxis": "x",
         "y": [
          -3115,
          -3115,
          -3125,
          -3125
         ],
         "yaxis": "y"
        },
        {
         "hoverinfo": "text",
         "marker": {
          "color": "rgb(0,116,217)"
         },
         "mode": "lines",
         "type": "scatter",
         "x": [
          0,
          1.2155526034253374,
          1.2155526034253374,
          1.089118304574684
         ],
         "xaxis": "x",
         "y": [
          -3105,
          -3105,
          -3120,
          -3120
         ],
         "yaxis": "y"
        },
        {
         "hoverinfo": "text",
         "marker": {
          "color": "rgb(0,116,217)"
         },
         "mode": "lines",
         "type": "scatter",
         "x": [
          0,
          1.624086957886612,
          1.624086957886612,
          1.2155526034253374
         ],
         "xaxis": "x",
         "y": [
          -3095,
          -3095,
          -3112.5,
          -3112.5
         ],
         "yaxis": "y"
        },
        {
         "hoverinfo": "text",
         "marker": {
          "color": "rgb(0,116,217)"
         },
         "mode": "lines",
         "type": "scatter",
         "x": [
          1.063031672823161,
          1.7874079036321173,
          1.7874079036321173,
          1.624086957886612
         ],
         "xaxis": "x",
         "y": [
          -3072.5,
          -3072.5,
          -3103.75,
          -3103.75
         ],
         "yaxis": "y"
        },
        {
         "hoverinfo": "text",
         "marker": {
          "color": "rgb(0,116,217)"
         },
         "mode": "lines",
         "type": "scatter",
         "x": [
          1.5989977366559913,
          2.0312631860631853,
          2.0312631860631853,
          1.7874079036321173
         ],
         "xaxis": "x",
         "y": [
          -3050,
          -3050,
          -3088.125,
          -3088.125
         ],
         "yaxis": "y"
        },
        {
         "hoverinfo": "text",
         "marker": {
          "color": "rgb(0,116,217)"
         },
         "mode": "lines",
         "type": "scatter",
         "x": [
          0,
          1.1089477867893056,
          1.1089477867893056,
          0
         ],
         "xaxis": "x",
         "y": [
          -3135,
          -3135,
          -3145,
          -3145
         ],
         "yaxis": "y"
        },
        {
         "hoverinfo": "text",
         "marker": {
          "color": "rgb(0,116,217)"
         },
         "mode": "lines",
         "type": "scatter",
         "x": [
          0,
          1.1389216820427244,
          1.1389216820427244,
          0
         ],
         "xaxis": "x",
         "y": [
          -3155,
          -3155,
          -3165,
          -3165
         ],
         "yaxis": "y"
        },
        {
         "hoverinfo": "text",
         "marker": {
          "color": "rgb(0,116,217)"
         },
         "mode": "lines",
         "type": "scatter",
         "x": [
          1.1089477867893056,
          1.4937399530008817,
          1.4937399530008817,
          1.1389216820427244
         ],
         "xaxis": "x",
         "y": [
          -3140,
          -3140,
          -3160,
          -3160
         ],
         "yaxis": "y"
        },
        {
         "hoverinfo": "text",
         "marker": {
          "color": "rgb(40,35,35)"
         },
         "mode": "lines",
         "type": "scatter",
         "x": [
          0,
          0.5916782214514601,
          0.5916782214514601,
          0
         ],
         "xaxis": "x",
         "y": [
          -3175,
          -3175,
          -3185,
          -3185
         ],
         "yaxis": "y"
        },
        {
         "hoverinfo": "text",
         "marker": {
          "color": "rgb(61,153,112)"
         },
         "mode": "lines",
         "type": "scatter",
         "x": [
          0,
          0.849806949690646,
          0.849806949690646,
          0
         ],
         "xaxis": "x",
         "y": [
          -3215,
          -3215,
          -3225,
          -3225
         ],
         "yaxis": "y"
        },
        {
         "hoverinfo": "text",
         "marker": {
          "color": "rgb(0,116,217)"
         },
         "mode": "lines",
         "type": "scatter",
         "x": [
          0,
          1.1104045966170324,
          1.1104045966170324,
          0.849806949690646
         ],
         "xaxis": "x",
         "y": [
          -3205,
          -3205,
          -3220,
          -3220
         ],
         "yaxis": "y"
        },
        {
         "hoverinfo": "text",
         "marker": {
          "color": "rgb(0,116,217)"
         },
         "mode": "lines",
         "type": "scatter",
         "x": [
          0,
          1.2078341561266412,
          1.2078341561266412,
          1.1104045966170324
         ],
         "xaxis": "x",
         "y": [
          -3195,
          -3195,
          -3212.5,
          -3212.5
         ],
         "yaxis": "y"
        },
        {
         "hoverinfo": "text",
         "marker": {
          "color": "rgb(0,116,217)"
         },
         "mode": "lines",
         "type": "scatter",
         "x": [
          0.5916782214514601,
          1.7513632693517471,
          1.7513632693517471,
          1.2078341561266412
         ],
         "xaxis": "x",
         "y": [
          -3180,
          -3180,
          -3203.75,
          -3203.75
         ],
         "yaxis": "y"
        },
        {
         "hoverinfo": "text",
         "marker": {
          "color": "rgb(0,116,217)"
         },
         "mode": "lines",
         "type": "scatter",
         "x": [
          1.4937399530008817,
          2.3144977253967594,
          2.3144977253967594,
          1.7513632693517471
         ],
         "xaxis": "x",
         "y": [
          -3150,
          -3150,
          -3191.875,
          -3191.875
         ],
         "yaxis": "y"
        },
        {
         "hoverinfo": "text",
         "marker": {
          "color": "rgb(0,116,217)"
         },
         "mode": "lines",
         "type": "scatter",
         "x": [
          2.0312631860631853,
          2.9913122870040834,
          2.9913122870040834,
          2.3144977253967594
         ],
         "xaxis": "x",
         "y": [
          -3069.0625,
          -3069.0625,
          -3170.9375,
          -3170.9375
         ],
         "yaxis": "y"
        },
        {
         "hoverinfo": "text",
         "marker": {
          "color": "rgb(255,65,54)"
         },
         "mode": "lines",
         "type": "scatter",
         "x": [
          0,
          0.9519513999756711,
          0.9519513999756711,
          0
         ],
         "xaxis": "x",
         "y": [
          -3235,
          -3235,
          -3245,
          -3245
         ],
         "yaxis": "y"
        },
        {
         "hoverinfo": "text",
         "marker": {
          "color": "rgb(35,205,205)"
         },
         "mode": "lines",
         "type": "scatter",
         "x": [
          0,
          0.999477504590611,
          0.999477504590611,
          0
         ],
         "xaxis": "x",
         "y": [
          -3265,
          -3265,
          -3275,
          -3275
         ],
         "yaxis": "y"
        },
        {
         "hoverinfo": "text",
         "marker": {
          "color": "rgb(0,116,217)"
         },
         "mode": "lines",
         "type": "scatter",
         "x": [
          0,
          1.342097650310526,
          1.342097650310526,
          0.999477504590611
         ],
         "xaxis": "x",
         "y": [
          -3255,
          -3255,
          -3270,
          -3270
         ],
         "yaxis": "y"
        },
        {
         "hoverinfo": "text",
         "marker": {
          "color": "rgb(0,116,217)"
         },
         "mode": "lines",
         "type": "scatter",
         "x": [
          0.9519513999756711,
          2.2703983344214222,
          2.2703983344214222,
          1.342097650310526
         ],
         "xaxis": "x",
         "y": [
          -3240,
          -3240,
          -3262.5,
          -3262.5
         ],
         "yaxis": "y"
        },
        {
         "hoverinfo": "text",
         "marker": {
          "color": "rgb(61,153,112)"
         },
         "mode": "lines",
         "type": "scatter",
         "x": [
          0,
          0.7822634243542929,
          0.7822634243542929,
          0
         ],
         "xaxis": "x",
         "y": [
          -3305,
          -3305,
          -3315,
          -3315
         ],
         "yaxis": "y"
        },
        {
         "hoverinfo": "text",
         "marker": {
          "color": "rgb(0,116,217)"
         },
         "mode": "lines",
         "type": "scatter",
         "x": [
          0,
          1.3000350891852808,
          1.3000350891852808,
          0.7822634243542929
         ],
         "xaxis": "x",
         "y": [
          -3295,
          -3295,
          -3310,
          -3310
         ],
         "yaxis": "y"
        },
        {
         "hoverinfo": "text",
         "marker": {
          "color": "rgb(0,116,217)"
         },
         "mode": "lines",
         "type": "scatter",
         "x": [
          0,
          1.40388535899274,
          1.40388535899274,
          1.3000350891852808
         ],
         "xaxis": "x",
         "y": [
          -3285,
          -3285,
          -3302.5,
          -3302.5
         ],
         "yaxis": "y"
        },
        {
         "hoverinfo": "text",
         "marker": {
          "color": "rgb(255,65,54)"
         },
         "mode": "lines",
         "type": "scatter",
         "x": [
          0,
          0.8643343012155557,
          0.8643343012155557,
          0
         ],
         "xaxis": "x",
         "y": [
          -3325,
          -3325,
          -3335,
          -3335
         ],
         "yaxis": "y"
        },
        {
         "hoverinfo": "text",
         "marker": {
          "color": "rgb(0,116,217)"
         },
         "mode": "lines",
         "type": "scatter",
         "x": [
          0,
          1.3945258133400855,
          1.3945258133400855,
          0
         ],
         "xaxis": "x",
         "y": [
          -3345,
          -3345,
          -3355,
          -3355
         ],
         "yaxis": "y"
        },
        {
         "hoverinfo": "text",
         "marker": {
          "color": "rgb(0,116,217)"
         },
         "mode": "lines",
         "type": "scatter",
         "x": [
          0.8643343012155557,
          2.1285999083937517,
          2.1285999083937517,
          1.3945258133400855
         ],
         "xaxis": "x",
         "y": [
          -3330,
          -3330,
          -3350,
          -3350
         ],
         "yaxis": "y"
        },
        {
         "hoverinfo": "text",
         "marker": {
          "color": "rgb(0,116,217)"
         },
         "mode": "lines",
         "type": "scatter",
         "x": [
          1.40388535899274,
          2.726016371113829,
          2.726016371113829,
          2.1285999083937517
         ],
         "xaxis": "x",
         "y": [
          -3293.75,
          -3293.75,
          -3340,
          -3340
         ],
         "yaxis": "y"
        },
        {
         "hoverinfo": "text",
         "marker": {
          "color": "rgb(0,116,217)"
         },
         "mode": "lines",
         "type": "scatter",
         "x": [
          2.2703983344214222,
          3.4360355009984107,
          3.4360355009984107,
          2.726016371113829
         ],
         "xaxis": "x",
         "y": [
          -3251.25,
          -3251.25,
          -3316.875,
          -3316.875
         ],
         "yaxis": "y"
        },
        {
         "hoverinfo": "text",
         "marker": {
          "color": "rgb(0,116,217)"
         },
         "mode": "lines",
         "type": "scatter",
         "x": [
          2.9913122870040834,
          5.4673855921111265,
          5.4673855921111265,
          3.4360355009984107
         ],
         "xaxis": "x",
         "y": [
          -3120,
          -3120,
          -3284.0625,
          -3284.0625
         ],
         "yaxis": "y"
        },
        {
         "hoverinfo": "text",
         "marker": {
          "color": "rgb(0,116,217)"
         },
         "mode": "lines",
         "type": "scatter",
         "x": [
          3.468872307416151,
          6.503450627205772,
          6.503450627205772,
          5.4673855921111265
         ],
         "xaxis": "x",
         "y": [
          -2830.76171875,
          -2830.76171875,
          -3202.03125,
          -3202.03125
         ],
         "yaxis": "y"
        },
        {
         "hoverinfo": "text",
         "marker": {
          "color": "rgb(0,116,217)"
         },
         "mode": "lines",
         "type": "scatter",
         "x": [
          0,
          1.0499365097223283,
          1.0499365097223283,
          0
         ],
         "xaxis": "x",
         "y": [
          -3385,
          -3385,
          -3395,
          -3395
         ],
         "yaxis": "y"
        },
        {
         "hoverinfo": "text",
         "marker": {
          "color": "rgb(0,116,217)"
         },
         "mode": "lines",
         "type": "scatter",
         "x": [
          0,
          1.6378735964661706,
          1.6378735964661706,
          1.0499365097223283
         ],
         "xaxis": "x",
         "y": [
          -3375,
          -3375,
          -3390,
          -3390
         ],
         "yaxis": "y"
        },
        {
         "hoverinfo": "text",
         "marker": {
          "color": "rgb(0,116,217)"
         },
         "mode": "lines",
         "type": "scatter",
         "x": [
          0,
          1.7993311712116813,
          1.7993311712116813,
          1.6378735964661706
         ],
         "xaxis": "x",
         "y": [
          -3365,
          -3365,
          -3382.5,
          -3382.5
         ],
         "yaxis": "y"
        },
        {
         "hoverinfo": "text",
         "marker": {
          "color": "rgb(0,116,217)"
         },
         "mode": "lines",
         "type": "scatter",
         "x": [
          0,
          1.2924249265756549,
          1.2924249265756549,
          0
         ],
         "xaxis": "x",
         "y": [
          -3415,
          -3415,
          -3425,
          -3425
         ],
         "yaxis": "y"
        },
        {
         "hoverinfo": "text",
         "marker": {
          "color": "rgb(0,116,217)"
         },
         "mode": "lines",
         "type": "scatter",
         "x": [
          0,
          1.4184625644575886,
          1.4184625644575886,
          1.2924249265756549
         ],
         "xaxis": "x",
         "y": [
          -3405,
          -3405,
          -3420,
          -3420
         ],
         "yaxis": "y"
        },
        {
         "hoverinfo": "text",
         "marker": {
          "color": "rgb(0,116,217)"
         },
         "mode": "lines",
         "type": "scatter",
         "x": [
          0,
          1.2043500130815743,
          1.2043500130815743,
          0
         ],
         "xaxis": "x",
         "y": [
          -3435,
          -3435,
          -3445,
          -3445
         ],
         "yaxis": "y"
        },
        {
         "hoverinfo": "text",
         "marker": {
          "color": "rgb(0,116,217)"
         },
         "mode": "lines",
         "type": "scatter",
         "x": [
          0,
          1.0027959161460303,
          1.0027959161460303,
          0
         ],
         "xaxis": "x",
         "y": [
          -3465,
          -3465,
          -3475,
          -3475
         ],
         "yaxis": "y"
        },
        {
         "hoverinfo": "text",
         "marker": {
          "color": "rgb(0,116,217)"
         },
         "mode": "lines",
         "type": "scatter",
         "x": [
          0,
          1.3285731755031422,
          1.3285731755031422,
          1.0027959161460303
         ],
         "xaxis": "x",
         "y": [
          -3455,
          -3455,
          -3470,
          -3470
         ],
         "yaxis": "y"
        },
        {
         "hoverinfo": "text",
         "marker": {
          "color": "rgb(0,116,217)"
         },
         "mode": "lines",
         "type": "scatter",
         "x": [
          1.2043500130815743,
          1.8578288994504522,
          1.8578288994504522,
          1.3285731755031422
         ],
         "xaxis": "x",
         "y": [
          -3440,
          -3440,
          -3462.5,
          -3462.5
         ],
         "yaxis": "y"
        },
        {
         "hoverinfo": "text",
         "marker": {
          "color": "rgb(0,116,217)"
         },
         "mode": "lines",
         "type": "scatter",
         "x": [
          1.4184625644575886,
          2.2559014214463557,
          2.2559014214463557,
          1.8578288994504522
         ],
         "xaxis": "x",
         "y": [
          -3412.5,
          -3412.5,
          -3451.25,
          -3451.25
         ],
         "yaxis": "y"
        },
        {
         "hoverinfo": "text",
         "marker": {
          "color": "rgb(0,116,217)"
         },
         "mode": "lines",
         "type": "scatter",
         "x": [
          1.7993311712116813,
          3.299435241964615,
          3.299435241964615,
          2.2559014214463557
         ],
         "xaxis": "x",
         "y": [
          -3373.75,
          -3373.75,
          -3431.875,
          -3431.875
         ],
         "yaxis": "y"
        },
        {
         "hoverinfo": "text",
         "marker": {
          "color": "rgb(35,205,205)"
         },
         "mode": "lines",
         "type": "scatter",
         "x": [
          0,
          0.90403271499989,
          0.90403271499989,
          0
         ],
         "xaxis": "x",
         "y": [
          -3485,
          -3485,
          -3495,
          -3495
         ],
         "yaxis": "y"
        },
        {
         "hoverinfo": "text",
         "marker": {
          "color": "rgb(0,116,217)"
         },
         "mode": "lines",
         "type": "scatter",
         "x": [
          0,
          1.2383008969048233,
          1.2383008969048233,
          0
         ],
         "xaxis": "x",
         "y": [
          -3505,
          -3505,
          -3515,
          -3515
         ],
         "yaxis": "y"
        },
        {
         "hoverinfo": "text",
         "marker": {
          "color": "rgb(0,116,217)"
         },
         "mode": "lines",
         "type": "scatter",
         "x": [
          0,
          1.214315534369524,
          1.214315534369524,
          0
         ],
         "xaxis": "x",
         "y": [
          -3545,
          -3545,
          -3555,
          -3555
         ],
         "yaxis": "y"
        },
        {
         "hoverinfo": "text",
         "marker": {
          "color": "rgb(0,116,217)"
         },
         "mode": "lines",
         "type": "scatter",
         "x": [
          0,
          1.5734723491847649,
          1.5734723491847649,
          1.214315534369524
         ],
         "xaxis": "x",
         "y": [
          -3535,
          -3535,
          -3550,
          -3550
         ],
         "yaxis": "y"
        },
        {
         "hoverinfo": "text",
         "marker": {
          "color": "rgb(0,116,217)"
         },
         "mode": "lines",
         "type": "scatter",
         "x": [
          0,
          1.6884737695282193,
          1.6884737695282193,
          1.5734723491847649
         ],
         "xaxis": "x",
         "y": [
          -3525,
          -3525,
          -3542.5,
          -3542.5
         ],
         "yaxis": "y"
        },
        {
         "hoverinfo": "text",
         "marker": {
          "color": "rgb(0,116,217)"
         },
         "mode": "lines",
         "type": "scatter",
         "x": [
          1.2383008969048233,
          1.8200029079669224,
          1.8200029079669224,
          1.6884737695282193
         ],
         "xaxis": "x",
         "y": [
          -3510,
          -3510,
          -3533.75,
          -3533.75
         ],
         "yaxis": "y"
        },
        {
         "hoverinfo": "text",
         "marker": {
          "color": "rgb(0,116,217)"
         },
         "mode": "lines",
         "type": "scatter",
         "x": [
          0.90403271499989,
          2.1893594475248253,
          2.1893594475248253,
          1.8200029079669224
         ],
         "xaxis": "x",
         "y": [
          -3490,
          -3490,
          -3521.875,
          -3521.875
         ],
         "yaxis": "y"
        },
        {
         "hoverinfo": "text",
         "marker": {
          "color": "rgb(0,116,217)"
         },
         "mode": "lines",
         "type": "scatter",
         "x": [
          0,
          1.2880520684318968,
          1.2880520684318968,
          0
         ],
         "xaxis": "x",
         "y": [
          -3575,
          -3575,
          -3585,
          -3585
         ],
         "yaxis": "y"
        },
        {
         "hoverinfo": "text",
         "marker": {
          "color": "rgb(0,116,217)"
         },
         "mode": "lines",
         "type": "scatter",
         "x": [
          0,
          1.3313155018551606,
          1.3313155018551606,
          0
         ],
         "xaxis": "x",
         "y": [
          -3595,
          -3595,
          -3605,
          -3605
         ],
         "yaxis": "y"
        },
        {
         "hoverinfo": "text",
         "marker": {
          "color": "rgb(0,116,217)"
         },
         "mode": "lines",
         "type": "scatter",
         "x": [
          1.2880520684318968,
          1.613792435062634,
          1.613792435062634,
          1.3313155018551606
         ],
         "xaxis": "x",
         "y": [
          -3580,
          -3580,
          -3600,
          -3600
         ],
         "yaxis": "y"
        },
        {
         "hoverinfo": "text",
         "marker": {
          "color": "rgb(0,116,217)"
         },
         "mode": "lines",
         "type": "scatter",
         "x": [
          0,
          1.6697799219310332,
          1.6697799219310332,
          1.613792435062634
         ],
         "xaxis": "x",
         "y": [
          -3565,
          -3565,
          -3590,
          -3590
         ],
         "yaxis": "y"
        },
        {
         "hoverinfo": "text",
         "marker": {
          "color": "rgb(0,116,217)"
         },
         "mode": "lines",
         "type": "scatter",
         "x": [
          0,
          1.1720759422189704,
          1.1720759422189704,
          0
         ],
         "xaxis": "x",
         "y": [
          -3625,
          -3625,
          -3635,
          -3635
         ],
         "yaxis": "y"
        },
        {
         "hoverinfo": "text",
         "marker": {
          "color": "rgb(0,116,217)"
         },
         "mode": "lines",
         "type": "scatter",
         "x": [
          0,
          1.2240654653244514,
          1.2240654653244514,
          1.1720759422189704
         ],
         "xaxis": "x",
         "y": [
          -3615,
          -3615,
          -3630,
          -3630
         ],
         "yaxis": "y"
        },
        {
         "hoverinfo": "text",
         "marker": {
          "color": "rgb(0,116,217)"
         },
         "mode": "lines",
         "type": "scatter",
         "x": [
          0,
          1.3472037089869382,
          1.3472037089869382,
          0
         ],
         "xaxis": "x",
         "y": [
          -3645,
          -3645,
          -3655,
          -3655
         ],
         "yaxis": "y"
        },
        {
         "hoverinfo": "text",
         "marker": {
          "color": "rgb(0,116,217)"
         },
         "mode": "lines",
         "type": "scatter",
         "x": [
          1.2240654653244514,
          1.782804764710257,
          1.782804764710257,
          1.3472037089869382
         ],
         "xaxis": "x",
         "y": [
          -3622.5,
          -3622.5,
          -3650,
          -3650
         ],
         "yaxis": "y"
        },
        {
         "hoverinfo": "text",
         "marker": {
          "color": "rgb(0,116,217)"
         },
         "mode": "lines",
         "type": "scatter",
         "x": [
          1.6697799219310332,
          2.186284541280197,
          2.186284541280197,
          1.782804764710257
         ],
         "xaxis": "x",
         "y": [
          -3577.5,
          -3577.5,
          -3636.25,
          -3636.25
         ],
         "yaxis": "y"
        },
        {
         "hoverinfo": "text",
         "marker": {
          "color": "rgb(0,116,217)"
         },
         "mode": "lines",
         "type": "scatter",
         "x": [
          0,
          1.3689721740985188,
          1.3689721740985188,
          0
         ],
         "xaxis": "x",
         "y": [
          -3665,
          -3665,
          -3675,
          -3675
         ],
         "yaxis": "y"
        },
        {
         "hoverinfo": "text",
         "marker": {
          "color": "rgb(0,116,217)"
         },
         "mode": "lines",
         "type": "scatter",
         "x": [
          0,
          1.1440596143396562,
          1.1440596143396562,
          0
         ],
         "xaxis": "x",
         "y": [
          -3695,
          -3695,
          -3705,
          -3705
         ],
         "yaxis": "y"
        },
        {
         "hoverinfo": "text",
         "marker": {
          "color": "rgb(0,116,217)"
         },
         "mode": "lines",
         "type": "scatter",
         "x": [
          0,
          1.5889584166556718,
          1.5889584166556718,
          1.1440596143396562
         ],
         "xaxis": "x",
         "y": [
          -3685,
          -3685,
          -3700,
          -3700
         ],
         "yaxis": "y"
        },
        {
         "hoverinfo": "text",
         "marker": {
          "color": "rgb(0,116,217)"
         },
         "mode": "lines",
         "type": "scatter",
         "x": [
          1.3689721740985188,
          1.9292480338849303,
          1.9292480338849303,
          1.5889584166556718
         ],
         "xaxis": "x",
         "y": [
          -3670,
          -3670,
          -3692.5,
          -3692.5
         ],
         "yaxis": "y"
        },
        {
         "hoverinfo": "text",
         "marker": {
          "color": "rgb(0,116,217)"
         },
         "mode": "lines",
         "type": "scatter",
         "x": [
          0,
          1.1460565321476515,
          1.1460565321476515,
          0
         ],
         "xaxis": "x",
         "y": [
          -3715,
          -3715,
          -3725,
          -3725
         ],
         "yaxis": "y"
        },
        {
         "hoverinfo": "text",
         "marker": {
          "color": "rgb(0,116,217)"
         },
         "mode": "lines",
         "type": "scatter",
         "x": [
          0,
          1.453913289119939,
          1.453913289119939,
          0
         ],
         "xaxis": "x",
         "y": [
          -3735,
          -3735,
          -3745,
          -3745
         ],
         "yaxis": "y"
        },
        {
         "hoverinfo": "text",
         "marker": {
          "color": "rgb(0,116,217)"
         },
         "mode": "lines",
         "type": "scatter",
         "x": [
          0,
          1.4115143243595218,
          1.4115143243595218,
          0
         ],
         "xaxis": "x",
         "y": [
          -3765,
          -3765,
          -3775,
          -3775
         ],
         "yaxis": "y"
        },
        {
         "hoverinfo": "text",
         "marker": {
          "color": "rgb(0,116,217)"
         },
         "mode": "lines",
         "type": "scatter",
         "x": [
          0,
          1.540063032643264,
          1.540063032643264,
          1.4115143243595218
         ],
         "xaxis": "x",
         "y": [
          -3755,
          -3755,
          -3770,
          -3770
         ],
         "yaxis": "y"
        },
        {
         "hoverinfo": "text",
         "marker": {
          "color": "rgb(0,116,217)"
         },
         "mode": "lines",
         "type": "scatter",
         "x": [
          1.453913289119939,
          1.6685717026994482,
          1.6685717026994482,
          1.540063032643264
         ],
         "xaxis": "x",
         "y": [
          -3740,
          -3740,
          -3762.5,
          -3762.5
         ],
         "yaxis": "y"
        },
        {
         "hoverinfo": "text",
         "marker": {
          "color": "rgb(0,116,217)"
         },
         "mode": "lines",
         "type": "scatter",
         "x": [
          1.1460565321476515,
          2.0810179078814257,
          2.0810179078814257,
          1.6685717026994482
         ],
         "xaxis": "x",
         "y": [
          -3720,
          -3720,
          -3751.25,
          -3751.25
         ],
         "yaxis": "y"
        },
        {
         "hoverinfo": "text",
         "marker": {
          "color": "rgb(0,116,217)"
         },
         "mode": "lines",
         "type": "scatter",
         "x": [
          1.9292480338849303,
          2.8926532878374394,
          2.8926532878374394,
          2.0810179078814257
         ],
         "xaxis": "x",
         "y": [
          -3681.25,
          -3681.25,
          -3735.625,
          -3735.625
         ],
         "yaxis": "y"
        },
        {
         "hoverinfo": "text",
         "marker": {
          "color": "rgb(0,116,217)"
         },
         "mode": "lines",
         "type": "scatter",
         "x": [
          2.186284541280197,
          3.879872003360807,
          3.879872003360807,
          2.8926532878374394
         ],
         "xaxis": "x",
         "y": [
          -3606.875,
          -3606.875,
          -3708.4375,
          -3708.4375
         ],
         "yaxis": "y"
        },
        {
         "hoverinfo": "text",
         "marker": {
          "color": "rgb(0,116,217)"
         },
         "mode": "lines",
         "type": "scatter",
         "x": [
          2.1893594475248253,
          4.404207571025443,
          4.404207571025443,
          3.879872003360807
         ],
         "xaxis": "x",
         "y": [
          -3505.9375,
          -3505.9375,
          -3657.65625,
          -3657.65625
         ],
         "yaxis": "y"
        },
        {
         "hoverinfo": "text",
         "marker": {
          "color": "rgb(0,116,217)"
         },
         "mode": "lines",
         "type": "scatter",
         "x": [
          3.299435241964615,
          5.810280026376603,
          5.810280026376603,
          4.404207571025443
         ],
         "xaxis": "x",
         "y": [
          -3402.8125,
          -3402.8125,
          -3581.796875,
          -3581.796875
         ],
         "yaxis": "y"
        },
        {
         "hoverinfo": "text",
         "marker": {
          "color": "rgb(0,116,217)"
         },
         "mode": "lines",
         "type": "scatter",
         "x": [
          0,
          1.368414002256388,
          1.368414002256388,
          0
         ],
         "xaxis": "x",
         "y": [
          -3785,
          -3785,
          -3795,
          -3795
         ],
         "yaxis": "y"
        },
        {
         "hoverinfo": "text",
         "marker": {
          "color": "rgb(0,116,217)"
         },
         "mode": "lines",
         "type": "scatter",
         "x": [
          0,
          1.6764758989820219,
          1.6764758989820219,
          0
         ],
         "xaxis": "x",
         "y": [
          -3805,
          -3805,
          -3815,
          -3815
         ],
         "yaxis": "y"
        },
        {
         "hoverinfo": "text",
         "marker": {
          "color": "rgb(0,116,217)"
         },
         "mode": "lines",
         "type": "scatter",
         "x": [
          1.368414002256388,
          1.7645746973600325,
          1.7645746973600325,
          1.6764758989820219
         ],
         "xaxis": "x",
         "y": [
          -3790,
          -3790,
          -3810,
          -3810
         ],
         "yaxis": "y"
        },
        {
         "hoverinfo": "text",
         "marker": {
          "color": "rgb(0,116,217)"
         },
         "mode": "lines",
         "type": "scatter",
         "x": [
          0,
          1.2378913617777216,
          1.2378913617777216,
          0
         ],
         "xaxis": "x",
         "y": [
          -3835,
          -3835,
          -3845,
          -3845
         ],
         "yaxis": "y"
        },
        {
         "hoverinfo": "text",
         "marker": {
          "color": "rgb(0,116,217)"
         },
         "mode": "lines",
         "type": "scatter",
         "x": [
          0,
          1.935903722680764,
          1.935903722680764,
          1.2378913617777216
         ],
         "xaxis": "x",
         "y": [
          -3825,
          -3825,
          -3840,
          -3840
         ],
         "yaxis": "y"
        },
        {
         "hoverinfo": "text",
         "marker": {
          "color": "rgb(0,116,217)"
         },
         "mode": "lines",
         "type": "scatter",
         "x": [
          1.7645746973600325,
          2.3408502825847837,
          2.3408502825847837,
          1.935903722680764
         ],
         "xaxis": "x",
         "y": [
          -3800,
          -3800,
          -3832.5,
          -3832.5
         ],
         "yaxis": "y"
        },
        {
         "hoverinfo": "text",
         "marker": {
          "color": "rgb(0,116,217)"
         },
         "mode": "lines",
         "type": "scatter",
         "x": [
          0,
          1.240601273231073,
          1.240601273231073,
          0
         ],
         "xaxis": "x",
         "y": [
          -3855,
          -3855,
          -3865,
          -3865
         ],
         "yaxis": "y"
        },
        {
         "hoverinfo": "text",
         "marker": {
          "color": "rgb(0,116,217)"
         },
         "mode": "lines",
         "type": "scatter",
         "x": [
          0,
          1.3427212300631668,
          1.3427212300631668,
          0
         ],
         "xaxis": "x",
         "y": [
          -3875,
          -3875,
          -3885,
          -3885
         ],
         "yaxis": "y"
        },
        {
         "hoverinfo": "text",
         "marker": {
          "color": "rgb(0,116,217)"
         },
         "mode": "lines",
         "type": "scatter",
         "x": [
          1.240601273231073,
          1.6260124247336938,
          1.6260124247336938,
          1.3427212300631668
         ],
         "xaxis": "x",
         "y": [
          -3860,
          -3860,
          -3880,
          -3880
         ],
         "yaxis": "y"
        },
        {
         "hoverinfo": "text",
         "marker": {
          "color": "rgb(0,116,217)"
         },
         "mode": "lines",
         "type": "scatter",
         "x": [
          0,
          1.1799607305822308,
          1.1799607305822308,
          0
         ],
         "xaxis": "x",
         "y": [
          -3895,
          -3895,
          -3905,
          -3905
         ],
         "yaxis": "y"
        },
        {
         "hoverinfo": "text",
         "marker": {
          "color": "rgb(0,116,217)"
         },
         "mode": "lines",
         "type": "scatter",
         "x": [
          0,
          1.3763812080454239,
          1.3763812080454239,
          0
         ],
         "xaxis": "x",
         "y": [
          -3925,
          -3925,
          -3935,
          -3935
         ],
         "yaxis": "y"
        },
        {
         "hoverinfo": "text",
         "marker": {
          "color": "rgb(0,116,217)"
         },
         "mode": "lines",
         "type": "scatter",
         "x": [
          0,
          1.5542138625588395,
          1.5542138625588395,
          1.3763812080454239
         ],
         "xaxis": "x",
         "y": [
          -3915,
          -3915,
          -3930,
          -3930
         ],
         "yaxis": "y"
        },
        {
         "hoverinfo": "text",
         "marker": {
          "color": "rgb(0,116,217)"
         },
         "mode": "lines",
         "type": "scatter",
         "x": [
          1.1799607305822308,
          1.784365675860174,
          1.784365675860174,
          1.5542138625588395
         ],
         "xaxis": "x",
         "y": [
          -3900,
          -3900,
          -3922.5,
          -3922.5
         ],
         "yaxis": "y"
        },
        {
         "hoverinfo": "text",
         "marker": {
          "color": "rgb(0,116,217)"
         },
         "mode": "lines",
         "type": "scatter",
         "x": [
          0,
          1.216077820414839,
          1.216077820414839,
          0
         ],
         "xaxis": "x",
         "y": [
          -3955,
          -3955,
          -3965,
          -3965
         ],
         "yaxis": "y"
        },
        {
         "hoverinfo": "text",
         "marker": {
          "color": "rgb(0,116,217)"
         },
         "mode": "lines",
         "type": "scatter",
         "x": [
          0,
          1.23921244673518,
          1.23921244673518,
          1.216077820414839
         ],
         "xaxis": "x",
         "y": [
          -3945,
          -3945,
          -3960,
          -3960
         ],
         "yaxis": "y"
        },
        {
         "hoverinfo": "text",
         "marker": {
          "color": "rgb(0,116,217)"
         },
         "mode": "lines",
         "type": "scatter",
         "x": [
          0,
          1.4978924069888964,
          1.4978924069888964,
          0
         ],
         "xaxis": "x",
         "y": [
          -3975,
          -3975,
          -3985,
          -3985
         ],
         "yaxis": "y"
        },
        {
         "hoverinfo": "text",
         "marker": {
          "color": "rgb(0,116,217)"
         },
         "mode": "lines",
         "type": "scatter",
         "x": [
          1.23921244673518,
          1.9144407198438476,
          1.9144407198438476,
          1.4978924069888964
         ],
         "xaxis": "x",
         "y": [
          -3952.5,
          -3952.5,
          -3980,
          -3980
         ],
         "yaxis": "y"
        },
        {
         "hoverinfo": "text",
         "marker": {
          "color": "rgb(0,116,217)"
         },
         "mode": "lines",
         "type": "scatter",
         "x": [
          1.784365675860174,
          2.6587696603568296,
          2.6587696603568296,
          1.9144407198438476
         ],
         "xaxis": "x",
         "y": [
          -3911.25,
          -3911.25,
          -3966.25,
          -3966.25
         ],
         "yaxis": "y"
        },
        {
         "hoverinfo": "text",
         "marker": {
          "color": "rgb(0,116,217)"
         },
         "mode": "lines",
         "type": "scatter",
         "x": [
          1.6260124247336938,
          3.0832004344312067,
          3.0832004344312067,
          2.6587696603568296
         ],
         "xaxis": "x",
         "y": [
          -3870,
          -3870,
          -3938.75,
          -3938.75
         ],
         "yaxis": "y"
        },
        {
         "hoverinfo": "text",
         "marker": {
          "color": "rgb(0,116,217)"
         },
         "mode": "lines",
         "type": "scatter",
         "x": [
          2.3408502825847837,
          3.685699449092358,
          3.685699449092358,
          3.0832004344312067
         ],
         "xaxis": "x",
         "y": [
          -3816.25,
          -3816.25,
          -3904.375,
          -3904.375
         ],
         "yaxis": "y"
        },
        {
         "hoverinfo": "text",
         "marker": {
          "color": "rgb(0,116,217)"
         },
         "mode": "lines",
         "type": "scatter",
         "x": [
          0,
          1.1348666457291006,
          1.1348666457291006,
          0
         ],
         "xaxis": "x",
         "y": [
          -3995,
          -3995,
          -4005,
          -4005
         ],
         "yaxis": "y"
        },
        {
         "hoverinfo": "text",
         "marker": {
          "color": "rgb(0,116,217)"
         },
         "mode": "lines",
         "type": "scatter",
         "x": [
          0,
          1.5353934286736144,
          1.5353934286736144,
          0
         ],
         "xaxis": "x",
         "y": [
          -4015,
          -4015,
          -4025,
          -4025
         ],
         "yaxis": "y"
        },
        {
         "hoverinfo": "text",
         "marker": {
          "color": "rgb(0,116,217)"
         },
         "mode": "lines",
         "type": "scatter",
         "x": [
          1.1348666457291006,
          1.8522975095516483,
          1.8522975095516483,
          1.5353934286736144
         ],
         "xaxis": "x",
         "y": [
          -4000,
          -4000,
          -4020,
          -4020
         ],
         "yaxis": "y"
        },
        {
         "hoverinfo": "text",
         "marker": {
          "color": "rgb(0,116,217)"
         },
         "mode": "lines",
         "type": "scatter",
         "x": [
          0,
          1.4314494330448428,
          1.4314494330448428,
          0
         ],
         "xaxis": "x",
         "y": [
          -4035,
          -4035,
          -4045,
          -4045
         ],
         "yaxis": "y"
        },
        {
         "hoverinfo": "text",
         "marker": {
          "color": "rgb(0,116,217)"
         },
         "mode": "lines",
         "type": "scatter",
         "x": [
          0,
          1.5446924408201879,
          1.5446924408201879,
          0
         ],
         "xaxis": "x",
         "y": [
          -4055,
          -4055,
          -4065,
          -4065
         ],
         "yaxis": "y"
        },
        {
         "hoverinfo": "text",
         "marker": {
          "color": "rgb(0,116,217)"
         },
         "mode": "lines",
         "type": "scatter",
         "x": [
          1.4314494330448428,
          1.8647370795244647,
          1.8647370795244647,
          1.5446924408201879
         ],
         "xaxis": "x",
         "y": [
          -4040,
          -4040,
          -4060,
          -4060
         ],
         "yaxis": "y"
        },
        {
         "hoverinfo": "text",
         "marker": {
          "color": "rgb(0,116,217)"
         },
         "mode": "lines",
         "type": "scatter",
         "x": [
          0,
          1.1906013602669379,
          1.1906013602669379,
          0
         ],
         "xaxis": "x",
         "y": [
          -4075,
          -4075,
          -4085,
          -4085
         ],
         "yaxis": "y"
        },
        {
         "hoverinfo": "text",
         "marker": {
          "color": "rgb(0,116,217)"
         },
         "mode": "lines",
         "type": "scatter",
         "x": [
          0,
          1.021719660928071,
          1.021719660928071,
          0
         ],
         "xaxis": "x",
         "y": [
          -4095,
          -4095,
          -4105,
          -4105
         ],
         "yaxis": "y"
        },
        {
         "hoverinfo": "text",
         "marker": {
          "color": "rgb(0,116,217)"
         },
         "mode": "lines",
         "type": "scatter",
         "x": [
          0,
          1.4542118269240485,
          1.4542118269240485,
          0
         ],
         "xaxis": "x",
         "y": [
          -4115,
          -4115,
          -4125,
          -4125
         ],
         "yaxis": "y"
        },
        {
         "hoverinfo": "text",
         "marker": {
          "color": "rgb(0,116,217)"
         },
         "mode": "lines",
         "type": "scatter",
         "x": [
          1.021719660928071,
          1.6718254807907305,
          1.6718254807907305,
          1.4542118269240485
         ],
         "xaxis": "x",
         "y": [
          -4100,
          -4100,
          -4120,
          -4120
         ],
         "yaxis": "y"
        },
        {
         "hoverinfo": "text",
         "marker": {
          "color": "rgb(0,116,217)"
         },
         "mode": "lines",
         "type": "scatter",
         "x": [
          1.1906013602669379,
          2.125788480195206,
          2.125788480195206,
          1.6718254807907305
         ],
         "xaxis": "x",
         "y": [
          -4080,
          -4080,
          -4110,
          -4110
         ],
         "yaxis": "y"
        },
        {
         "hoverinfo": "text",
         "marker": {
          "color": "rgb(0,116,217)"
         },
         "mode": "lines",
         "type": "scatter",
         "x": [
          1.8647370795244647,
          2.603653579462298,
          2.603653579462298,
          2.125788480195206
         ],
         "xaxis": "x",
         "y": [
          -4050,
          -4050,
          -4095,
          -4095
         ],
         "yaxis": "y"
        },
        {
         "hoverinfo": "text",
         "marker": {
          "color": "rgb(0,116,217)"
         },
         "mode": "lines",
         "type": "scatter",
         "x": [
          1.8522975095516483,
          2.9987805914859442,
          2.9987805914859442,
          2.603653579462298
         ],
         "xaxis": "x",
         "y": [
          -4010,
          -4010,
          -4072.5,
          -4072.5
         ],
         "yaxis": "y"
        },
        {
         "hoverinfo": "text",
         "marker": {
          "color": "rgb(0,116,217)"
         },
         "mode": "lines",
         "type": "scatter",
         "x": [
          0,
          1.9508999124936914,
          1.9508999124936914,
          0
         ],
         "xaxis": "x",
         "y": [
          -4135,
          -4135,
          -4145,
          -4145
         ],
         "yaxis": "y"
        },
        {
         "hoverinfo": "text",
         "marker": {
          "color": "rgb(0,116,217)"
         },
         "mode": "lines",
         "type": "scatter",
         "x": [
          0,
          1.8486914902902576,
          1.8486914902902576,
          0
         ],
         "xaxis": "x",
         "y": [
          -4155,
          -4155,
          -4165,
          -4165
         ],
         "yaxis": "y"
        },
        {
         "hoverinfo": "text",
         "marker": {
          "color": "rgb(0,116,217)"
         },
         "mode": "lines",
         "type": "scatter",
         "x": [
          0,
          1.7170958902296043,
          1.7170958902296043,
          0
         ],
         "xaxis": "x",
         "y": [
          -4175,
          -4175,
          -4185,
          -4185
         ],
         "yaxis": "y"
        },
        {
         "hoverinfo": "text",
         "marker": {
          "color": "rgb(0,116,217)"
         },
         "mode": "lines",
         "type": "scatter",
         "x": [
          0,
          1.8227002555608087,
          1.8227002555608087,
          0
         ],
         "xaxis": "x",
         "y": [
          -4195,
          -4195,
          -4205,
          -4205
         ],
         "yaxis": "y"
        },
        {
         "hoverinfo": "text",
         "marker": {
          "color": "rgb(0,116,217)"
         },
         "mode": "lines",
         "type": "scatter",
         "x": [
          1.7170958902296043,
          2.160046704072158,
          2.160046704072158,
          1.8227002555608087
         ],
         "xaxis": "x",
         "y": [
          -4180,
          -4180,
          -4200,
          -4200
         ],
         "yaxis": "y"
        },
        {
         "hoverinfo": "text",
         "marker": {
          "color": "rgb(0,116,217)"
         },
         "mode": "lines",
         "type": "scatter",
         "x": [
          1.8486914902902576,
          2.25237150329676,
          2.25237150329676,
          2.160046704072158
         ],
         "xaxis": "x",
         "y": [
          -4160,
          -4160,
          -4190,
          -4190
         ],
         "yaxis": "y"
        },
        {
         "hoverinfo": "text",
         "marker": {
          "color": "rgb(0,116,217)"
         },
         "mode": "lines",
         "type": "scatter",
         "x": [
          1.9508999124936914,
          2.640220614789073,
          2.640220614789073,
          2.25237150329676
         ],
         "xaxis": "x",
         "y": [
          -4140,
          -4140,
          -4175,
          -4175
         ],
         "yaxis": "y"
        },
        {
         "hoverinfo": "text",
         "marker": {
          "color": "rgb(0,116,217)"
         },
         "mode": "lines",
         "type": "scatter",
         "x": [
          0,
          1.204802417829106,
          1.204802417829106,
          0
         ],
         "xaxis": "x",
         "y": [
          -4225,
          -4225,
          -4235,
          -4235
         ],
         "yaxis": "y"
        },
        {
         "hoverinfo": "text",
         "marker": {
          "color": "rgb(0,116,217)"
         },
         "mode": "lines",
         "type": "scatter",
         "x": [
          0,
          1.516289592948099,
          1.516289592948099,
          1.204802417829106
         ],
         "xaxis": "x",
         "y": [
          -4215,
          -4215,
          -4230,
          -4230
         ],
         "yaxis": "y"
        },
        {
         "hoverinfo": "text",
         "marker": {
          "color": "rgb(0,116,217)"
         },
         "mode": "lines",
         "type": "scatter",
         "x": [
          0,
          1.436024368539527,
          1.436024368539527,
          0
         ],
         "xaxis": "x",
         "y": [
          -4255,
          -4255,
          -4265,
          -4265
         ],
         "yaxis": "y"
        },
        {
         "hoverinfo": "text",
         "marker": {
          "color": "rgb(0,116,217)"
         },
         "mode": "lines",
         "type": "scatter",
         "x": [
          0,
          1.6172770768664468,
          1.6172770768664468,
          1.436024368539527
         ],
         "xaxis": "x",
         "y": [
          -4245,
          -4245,
          -4260,
          -4260
         ],
         "yaxis": "y"
        },
        {
         "hoverinfo": "text",
         "marker": {
          "color": "rgb(0,116,217)"
         },
         "mode": "lines",
         "type": "scatter",
         "x": [
          0,
          1.847300468233379,
          1.847300468233379,
          0
         ],
         "xaxis": "x",
         "y": [
          -4275,
          -4275,
          -4285,
          -4285
         ],
         "yaxis": "y"
        },
        {
         "hoverinfo": "text",
         "marker": {
          "color": "rgb(0,116,217)"
         },
         "mode": "lines",
         "type": "scatter",
         "x": [
          1.6172770768664468,
          2.130799229461352,
          2.130799229461352,
          1.847300468233379
         ],
         "xaxis": "x",
         "y": [
          -4252.5,
          -4252.5,
          -4280,
          -4280
         ],
         "yaxis": "y"
        },
        {
         "hoverinfo": "text",
         "marker": {
          "color": "rgb(0,116,217)"
         },
         "mode": "lines",
         "type": "scatter",
         "x": [
          1.516289592948099,
          2.805857039130032,
          2.805857039130032,
          2.130799229461352
         ],
         "xaxis": "x",
         "y": [
          -4222.5,
          -4222.5,
          -4266.25,
          -4266.25
         ],
         "yaxis": "y"
        },
        {
         "hoverinfo": "text",
         "marker": {
          "color": "rgb(0,116,217)"
         },
         "mode": "lines",
         "type": "scatter",
         "x": [
          2.640220614789073,
          3.283357441027557,
          3.283357441027557,
          2.805857039130032
         ],
         "xaxis": "x",
         "y": [
          -4157.5,
          -4157.5,
          -4244.375,
          -4244.375
         ],
         "yaxis": "y"
        },
        {
         "hoverinfo": "text",
         "marker": {
          "color": "rgb(0,116,217)"
         },
         "mode": "lines",
         "type": "scatter",
         "x": [
          0,
          1.1656120193589765,
          1.1656120193589765,
          0
         ],
         "xaxis": "x",
         "y": [
          -4305,
          -4305,
          -4315,
          -4315
         ],
         "yaxis": "y"
        },
        {
         "hoverinfo": "text",
         "marker": {
          "color": "rgb(0,116,217)"
         },
         "mode": "lines",
         "type": "scatter",
         "x": [
          0,
          1.368059880489751,
          1.368059880489751,
          1.1656120193589765
         ],
         "xaxis": "x",
         "y": [
          -4295,
          -4295,
          -4310,
          -4310
         ],
         "yaxis": "y"
        },
        {
         "hoverinfo": "text",
         "marker": {
          "color": "rgb(0,116,217)"
         },
         "mode": "lines",
         "type": "scatter",
         "x": [
          0,
          1.430473854719856,
          1.430473854719856,
          0
         ],
         "xaxis": "x",
         "y": [
          -4325,
          -4325,
          -4335,
          -4335
         ],
         "yaxis": "y"
        },
        {
         "hoverinfo": "text",
         "marker": {
          "color": "rgb(0,116,217)"
         },
         "mode": "lines",
         "type": "scatter",
         "x": [
          1.368059880489751,
          1.893488292133913,
          1.893488292133913,
          1.430473854719856
         ],
         "xaxis": "x",
         "y": [
          -4302.5,
          -4302.5,
          -4330,
          -4330
         ],
         "yaxis": "y"
        },
        {
         "hoverinfo": "text",
         "marker": {
          "color": "rgb(133,20,75)"
         },
         "mode": "lines",
         "type": "scatter",
         "x": [
          0,
          0.8210576427490298,
          0.8210576427490298,
          0
         ],
         "xaxis": "x",
         "y": [
          -4355,
          -4355,
          -4365,
          -4365
         ],
         "yaxis": "y"
        },
        {
         "hoverinfo": "text",
         "marker": {
          "color": "rgb(0,116,217)"
         },
         "mode": "lines",
         "type": "scatter",
         "x": [
          0,
          1.7474827250750036,
          1.7474827250750036,
          0.8210576427490298
         ],
         "xaxis": "x",
         "y": [
          -4345,
          -4345,
          -4360,
          -4360
         ],
         "yaxis": "y"
        },
        {
         "hoverinfo": "text",
         "marker": {
          "color": "rgb(0,116,217)"
         },
         "mode": "lines",
         "type": "scatter",
         "x": [
          0,
          1.891304161587638,
          1.891304161587638,
          0
         ],
         "xaxis": "x",
         "y": [
          -4375,
          -4375,
          -4385,
          -4385
         ],
         "yaxis": "y"
        },
        {
         "hoverinfo": "text",
         "marker": {
          "color": "rgb(0,116,217)"
         },
         "mode": "lines",
         "type": "scatter",
         "x": [
          0,
          1.396720936502927,
          1.396720936502927,
          0
         ],
         "xaxis": "x",
         "y": [
          -4395,
          -4395,
          -4405,
          -4405
         ],
         "yaxis": "y"
        },
        {
         "hoverinfo": "text",
         "marker": {
          "color": "rgb(0,116,217)"
         },
         "mode": "lines",
         "type": "scatter",
         "x": [
          0,
          1.5748458382718984,
          1.5748458382718984,
          0
         ],
         "xaxis": "x",
         "y": [
          -4415,
          -4415,
          -4425,
          -4425
         ],
         "yaxis": "y"
        },
        {
         "hoverinfo": "text",
         "marker": {
          "color": "rgb(0,116,217)"
         },
         "mode": "lines",
         "type": "scatter",
         "x": [
          1.396720936502927,
          2.0038197124076986,
          2.0038197124076986,
          1.5748458382718984
         ],
         "xaxis": "x",
         "y": [
          -4400,
          -4400,
          -4420,
          -4420
         ],
         "yaxis": "y"
        },
        {
         "hoverinfo": "text",
         "marker": {
          "color": "rgb(0,116,217)"
         },
         "mode": "lines",
         "type": "scatter",
         "x": [
          1.891304161587638,
          2.476823134945969,
          2.476823134945969,
          2.0038197124076986
         ],
         "xaxis": "x",
         "y": [
          -4380,
          -4380,
          -4410,
          -4410
         ],
         "yaxis": "y"
        },
        {
         "hoverinfo": "text",
         "marker": {
          "color": "rgb(0,116,217)"
         },
         "mode": "lines",
         "type": "scatter",
         "x": [
          1.7474827250750036,
          2.809285668128715,
          2.809285668128715,
          2.476823134945969
         ],
         "xaxis": "x",
         "y": [
          -4352.5,
          -4352.5,
          -4395,
          -4395
         ],
         "yaxis": "y"
        },
        {
         "hoverinfo": "text",
         "marker": {
          "color": "rgb(0,116,217)"
         },
         "mode": "lines",
         "type": "scatter",
         "x": [
          0,
          1.3348001481981466,
          1.3348001481981466,
          0
         ],
         "xaxis": "x",
         "y": [
          -4435,
          -4435,
          -4445,
          -4445
         ],
         "yaxis": "y"
        },
        {
         "hoverinfo": "text",
         "marker": {
          "color": "rgb(0,116,217)"
         },
         "mode": "lines",
         "type": "scatter",
         "x": [
          0,
          1.3397773460326832,
          1.3397773460326832,
          0
         ],
         "xaxis": "x",
         "y": [
          -4455,
          -4455,
          -4465,
          -4465
         ],
         "yaxis": "y"
        },
        {
         "hoverinfo": "text",
         "marker": {
          "color": "rgb(0,116,217)"
         },
         "mode": "lines",
         "type": "scatter",
         "x": [
          1.3348001481981466,
          1.8044234538832122,
          1.8044234538832122,
          1.3397773460326832
         ],
         "xaxis": "x",
         "y": [
          -4440,
          -4440,
          -4460,
          -4460
         ],
         "yaxis": "y"
        },
        {
         "hoverinfo": "text",
         "marker": {
          "color": "rgb(0,116,217)"
         },
         "mode": "lines",
         "type": "scatter",
         "x": [
          0,
          1.6073749384647946,
          1.6073749384647946,
          0
         ],
         "xaxis": "x",
         "y": [
          -4485,
          -4485,
          -4495,
          -4495
         ],
         "yaxis": "y"
        },
        {
         "hoverinfo": "text",
         "marker": {
          "color": "rgb(0,116,217)"
         },
         "mode": "lines",
         "type": "scatter",
         "x": [
          0,
          1.6631929867981627,
          1.6631929867981627,
          1.6073749384647946
         ],
         "xaxis": "x",
         "y": [
          -4475,
          -4475,
          -4490,
          -4490
         ],
         "yaxis": "y"
        },
        {
         "hoverinfo": "text",
         "marker": {
          "color": "rgb(0,116,217)"
         },
         "mode": "lines",
         "type": "scatter",
         "x": [
          0,
          1.3251301370469337,
          1.3251301370469337,
          0
         ],
         "xaxis": "x",
         "y": [
          -4515,
          -4515,
          -4525,
          -4525
         ],
         "yaxis": "y"
        },
        {
         "hoverinfo": "text",
         "marker": {
          "color": "rgb(0,116,217)"
         },
         "mode": "lines",
         "type": "scatter",
         "x": [
          0,
          2.0228387677862156,
          2.0228387677862156,
          1.3251301370469337
         ],
         "xaxis": "x",
         "y": [
          -4505,
          -4505,
          -4520,
          -4520
         ],
         "yaxis": "y"
        },
        {
         "hoverinfo": "text",
         "marker": {
          "color": "rgb(0,116,217)"
         },
         "mode": "lines",
         "type": "scatter",
         "x": [
          1.6631929867981627,
          2.36970514974756,
          2.36970514974756,
          2.0228387677862156
         ],
         "xaxis": "x",
         "y": [
          -4482.5,
          -4482.5,
          -4512.5,
          -4512.5
         ],
         "yaxis": "y"
        },
        {
         "hoverinfo": "text",
         "marker": {
          "color": "rgb(0,116,217)"
         },
         "mode": "lines",
         "type": "scatter",
         "x": [
          1.8044234538832122,
          3.177765509619018,
          3.177765509619018,
          2.36970514974756
         ],
         "xaxis": "x",
         "y": [
          -4450,
          -4450,
          -4497.5,
          -4497.5
         ],
         "yaxis": "y"
        },
        {
         "hoverinfo": "text",
         "marker": {
          "color": "rgb(0,116,217)"
         },
         "mode": "lines",
         "type": "scatter",
         "x": [
          2.809285668128715,
          3.5437748614381412,
          3.5437748614381412,
          3.177765509619018
         ],
         "xaxis": "x",
         "y": [
          -4373.75,
          -4373.75,
          -4473.75,
          -4473.75
         ],
         "yaxis": "y"
        },
        {
         "hoverinfo": "text",
         "marker": {
          "color": "rgb(0,116,217)"
         },
         "mode": "lines",
         "type": "scatter",
         "x": [
          1.893488292133913,
          4.759241857527274,
          4.759241857527274,
          3.5437748614381412
         ],
         "xaxis": "x",
         "y": [
          -4316.25,
          -4316.25,
          -4423.75,
          -4423.75
         ],
         "yaxis": "y"
        },
        {
         "hoverinfo": "text",
         "marker": {
          "color": "rgb(0,116,217)"
         },
         "mode": "lines",
         "type": "scatter",
         "x": [
          3.283357441027557,
          6.050335830269044,
          6.050335830269044,
          4.759241857527274
         ],
         "xaxis": "x",
         "y": [
          -4200.9375,
          -4200.9375,
          -4370,
          -4370
         ],
         "yaxis": "y"
        },
        {
         "hoverinfo": "text",
         "marker": {
          "color": "rgb(0,116,217)"
         },
         "mode": "lines",
         "type": "scatter",
         "x": [
          2.9987805914859442,
          6.486643148927454,
          6.486643148927454,
          6.050335830269044
         ],
         "xaxis": "x",
         "y": [
          -4041.25,
          -4041.25,
          -4285.46875,
          -4285.46875
         ],
         "yaxis": "y"
        },
        {
         "hoverinfo": "text",
         "marker": {
          "color": "rgb(0,116,217)"
         },
         "mode": "lines",
         "type": "scatter",
         "x": [
          3.685699449092358,
          8.100285617787248,
          8.100285617787248,
          6.486643148927454
         ],
         "xaxis": "x",
         "y": [
          -3860.3125,
          -3860.3125,
          -4163.359375,
          -4163.359375
         ],
         "yaxis": "y"
        },
        {
         "hoverinfo": "text",
         "marker": {
          "color": "rgb(0,116,217)"
         },
         "mode": "lines",
         "type": "scatter",
         "x": [
          5.810280026376603,
          8.507036736228105,
          8.507036736228105,
          8.100285617787248
         ],
         "xaxis": "x",
         "y": [
          -3492.3046875,
          -3492.3046875,
          -4011.8359375,
          -4011.8359375
         ],
         "yaxis": "y"
        },
        {
         "hoverinfo": "text",
         "marker": {
          "color": "rgb(255,220,0)"
         },
         "mode": "lines",
         "type": "scatter",
         "x": [
          0,
          0.8664267218010845,
          0.8664267218010845,
          0
         ],
         "xaxis": "x",
         "y": [
          -4555,
          -4555,
          -4565,
          -4565
         ],
         "yaxis": "y"
        },
        {
         "hoverinfo": "text",
         "marker": {
          "color": "rgb(255,220,0)"
         },
         "mode": "lines",
         "type": "scatter",
         "x": [
          0,
          0.9995328613768548,
          0.9995328613768548,
          0.8664267218010845
         ],
         "xaxis": "x",
         "y": [
          -4545,
          -4545,
          -4560,
          -4560
         ],
         "yaxis": "y"
        },
        {
         "hoverinfo": "text",
         "marker": {
          "color": "rgb(0,116,217)"
         },
         "mode": "lines",
         "type": "scatter",
         "x": [
          0,
          1.1154769111284846,
          1.1154769111284846,
          0.9995328613768548
         ],
         "xaxis": "x",
         "y": [
          -4535,
          -4535,
          -4552.5,
          -4552.5
         ],
         "yaxis": "y"
        },
        {
         "hoverinfo": "text",
         "marker": {
          "color": "rgb(40,35,35)"
         },
         "mode": "lines",
         "type": "scatter",
         "x": [
          0,
          0.938873405027325,
          0.938873405027325,
          0
         ],
         "xaxis": "x",
         "y": [
          -4585,
          -4585,
          -4595,
          -4595
         ],
         "yaxis": "y"
        },
        {
         "hoverinfo": "text",
         "marker": {
          "color": "rgb(0,116,217)"
         },
         "mode": "lines",
         "type": "scatter",
         "x": [
          0,
          1.3054485777825886,
          1.3054485777825886,
          0.938873405027325
         ],
         "xaxis": "x",
         "y": [
          -4575,
          -4575,
          -4590,
          -4590
         ],
         "yaxis": "y"
        },
        {
         "hoverinfo": "text",
         "marker": {
          "color": "rgb(0,116,217)"
         },
         "mode": "lines",
         "type": "scatter",
         "x": [
          0,
          1.1784455350106098,
          1.1784455350106098,
          0
         ],
         "xaxis": "x",
         "y": [
          -4625,
          -4625,
          -4635,
          -4635
         ],
         "yaxis": "y"
        },
        {
         "hoverinfo": "text",
         "marker": {
          "color": "rgb(0,116,217)"
         },
         "mode": "lines",
         "type": "scatter",
         "x": [
          0,
          1.3412356767401707,
          1.3412356767401707,
          1.1784455350106098
         ],
         "xaxis": "x",
         "y": [
          -4615,
          -4615,
          -4630,
          -4630
         ],
         "yaxis": "y"
        },
        {
         "hoverinfo": "text",
         "marker": {
          "color": "rgb(0,116,217)"
         },
         "mode": "lines",
         "type": "scatter",
         "x": [
          0,
          1.488276208135222,
          1.488276208135222,
          1.3412356767401707
         ],
         "xaxis": "x",
         "y": [
          -4605,
          -4605,
          -4622.5,
          -4622.5
         ],
         "yaxis": "y"
        },
        {
         "hoverinfo": "text",
         "marker": {
          "color": "rgb(61,153,112)"
         },
         "mode": "lines",
         "type": "scatter",
         "x": [
          0,
          0.8911418435538722,
          0.8911418435538722,
          0
         ],
         "xaxis": "x",
         "y": [
          -4645,
          -4645,
          -4655,
          -4655
         ],
         "yaxis": "y"
        },
        {
         "hoverinfo": "text",
         "marker": {
          "color": "rgb(255,65,54)"
         },
         "mode": "lines",
         "type": "scatter",
         "x": [
          0,
          0.857780345963352,
          0.857780345963352,
          0
         ],
         "xaxis": "x",
         "y": [
          -4665,
          -4665,
          -4675,
          -4675
         ],
         "yaxis": "y"
        },
        {
         "hoverinfo": "text",
         "marker": {
          "color": "rgb(0,116,217)"
         },
         "mode": "lines",
         "type": "scatter",
         "x": [
          0,
          1.0022726663440034,
          1.0022726663440034,
          0
         ],
         "xaxis": "x",
         "y": [
          -4685,
          -4685,
          -4695,
          -4695
         ],
         "yaxis": "y"
        },
        {
         "hoverinfo": "text",
         "marker": {
          "color": "rgb(0,116,217)"
         },
         "mode": "lines",
         "type": "scatter",
         "x": [
          0.857780345963352,
          1.3957594694874602,
          1.3957594694874602,
          1.0022726663440034
         ],
         "xaxis": "x",
         "y": [
          -4670,
          -4670,
          -4690,
          -4690
         ],
         "yaxis": "y"
        },
        {
         "hoverinfo": "text",
         "marker": {
          "color": "rgb(0,116,217)"
         },
         "mode": "lines",
         "type": "scatter",
         "x": [
          0.8911418435538722,
          2.0168500353502723,
          2.0168500353502723,
          1.3957594694874602
         ],
         "xaxis": "x",
         "y": [
          -4650,
          -4650,
          -4680,
          -4680
         ],
         "yaxis": "y"
        },
        {
         "hoverinfo": "text",
         "marker": {
          "color": "rgb(0,116,217)"
         },
         "mode": "lines",
         "type": "scatter",
         "x": [
          1.488276208135222,
          2.2823171900016317,
          2.2823171900016317,
          2.0168500353502723
         ],
         "xaxis": "x",
         "y": [
          -4613.75,
          -4613.75,
          -4665,
          -4665
         ],
         "yaxis": "y"
        },
        {
         "hoverinfo": "text",
         "marker": {
          "color": "rgb(0,116,217)"
         },
         "mode": "lines",
         "type": "scatter",
         "x": [
          1.3054485777825886,
          2.5212009919191,
          2.5212009919191,
          2.2823171900016317
         ],
         "xaxis": "x",
         "y": [
          -4582.5,
          -4582.5,
          -4639.375,
          -4639.375
         ],
         "yaxis": "y"
        },
        {
         "hoverinfo": "text",
         "marker": {
          "color": "rgb(0,116,217)"
         },
         "mode": "lines",
         "type": "scatter",
         "x": [
          1.1154769111284846,
          3.0295397439709233,
          3.0295397439709233,
          2.5212009919191
         ],
         "xaxis": "x",
         "y": [
          -4543.75,
          -4543.75,
          -4610.9375,
          -4610.9375
         ],
         "yaxis": "y"
        },
        {
         "hoverinfo": "text",
         "marker": {
          "color": "rgb(0,116,217)"
         },
         "mode": "lines",
         "type": "scatter",
         "x": [
          0,
          1.030103568064366,
          1.030103568064366,
          0
         ],
         "xaxis": "x",
         "y": [
          -4715,
          -4715,
          -4725,
          -4725
         ],
         "yaxis": "y"
        },
        {
         "hoverinfo": "text",
         "marker": {
          "color": "rgb(0,116,217)"
         },
         "mode": "lines",
         "type": "scatter",
         "x": [
          0,
          1.3646234292994404,
          1.3646234292994404,
          1.030103568064366
         ],
         "xaxis": "x",
         "y": [
          -4705,
          -4705,
          -4720,
          -4720
         ],
         "yaxis": "y"
        },
        {
         "hoverinfo": "text",
         "marker": {
          "color": "rgb(0,116,217)"
         },
         "mode": "lines",
         "type": "scatter",
         "x": [
          0,
          1.3275267756280489,
          1.3275267756280489,
          0
         ],
         "xaxis": "x",
         "y": [
          -4755,
          -4755,
          -4765,
          -4765
         ],
         "yaxis": "y"
        },
        {
         "hoverinfo": "text",
         "marker": {
          "color": "rgb(0,116,217)"
         },
         "mode": "lines",
         "type": "scatter",
         "x": [
          0,
          1.4231027830760516,
          1.4231027830760516,
          1.3275267756280489
         ],
         "xaxis": "x",
         "y": [
          -4745,
          -4745,
          -4760,
          -4760
         ],
         "yaxis": "y"
        },
        {
         "hoverinfo": "text",
         "marker": {
          "color": "rgb(0,116,217)"
         },
         "mode": "lines",
         "type": "scatter",
         "x": [
          0,
          1.529050111800521,
          1.529050111800521,
          1.4231027830760516
         ],
         "xaxis": "x",
         "y": [
          -4735,
          -4735,
          -4752.5,
          -4752.5
         ],
         "yaxis": "y"
        },
        {
         "hoverinfo": "text",
         "marker": {
          "color": "rgb(0,116,217)"
         },
         "mode": "lines",
         "type": "scatter",
         "x": [
          1.3646234292994404,
          1.9554613722997614,
          1.9554613722997614,
          1.529050111800521
         ],
         "xaxis": "x",
         "y": [
          -4712.5,
          -4712.5,
          -4743.75,
          -4743.75
         ],
         "yaxis": "y"
        },
        {
         "hoverinfo": "text",
         "marker": {
          "color": "rgb(0,116,217)"
         },
         "mode": "lines",
         "type": "scatter",
         "x": [
          0,
          1.250385407899777,
          1.250385407899777,
          0
         ],
         "xaxis": "x",
         "y": [
          -4795,
          -4795,
          -4805,
          -4805
         ],
         "yaxis": "y"
        },
        {
         "hoverinfo": "text",
         "marker": {
          "color": "rgb(0,116,217)"
         },
         "mode": "lines",
         "type": "scatter",
         "x": [
          0,
          1.349692400773359,
          1.349692400773359,
          1.250385407899777
         ],
         "xaxis": "x",
         "y": [
          -4785,
          -4785,
          -4800,
          -4800
         ],
         "yaxis": "y"
        },
        {
         "hoverinfo": "text",
         "marker": {
          "color": "rgb(0,116,217)"
         },
         "mode": "lines",
         "type": "scatter",
         "x": [
          0,
          1.4845479768598453,
          1.4845479768598453,
          1.349692400773359
         ],
         "xaxis": "x",
         "y": [
          -4775,
          -4775,
          -4792.5,
          -4792.5
         ],
         "yaxis": "y"
        },
        {
         "hoverinfo": "text",
         "marker": {
          "color": "rgb(0,116,217)"
         },
         "mode": "lines",
         "type": "scatter",
         "x": [
          0,
          1.0589225550154102,
          1.0589225550154102,
          0
         ],
         "xaxis": "x",
         "y": [
          -4825,
          -4825,
          -4835,
          -4835
         ],
         "yaxis": "y"
        },
        {
         "hoverinfo": "text",
         "marker": {
          "color": "rgb(0,116,217)"
         },
         "mode": "lines",
         "type": "scatter",
         "x": [
          0,
          1.3810844265692348,
          1.3810844265692348,
          1.0589225550154102
         ],
         "xaxis": "x",
         "y": [
          -4815,
          -4815,
          -4830,
          -4830
         ],
         "yaxis": "y"
        },
        {
         "hoverinfo": "text",
         "marker": {
          "color": "rgb(0,116,217)"
         },
         "mode": "lines",
         "type": "scatter",
         "x": [
          0,
          1.2752622783458,
          1.2752622783458,
          0
         ],
         "xaxis": "x",
         "y": [
          -4865,
          -4865,
          -4875,
          -4875
         ],
         "yaxis": "y"
        },
        {
         "hoverinfo": "text",
         "marker": {
          "color": "rgb(0,116,217)"
         },
         "mode": "lines",
         "type": "scatter",
         "x": [
          0,
          1.3870729232020653,
          1.3870729232020653,
          1.2752622783458
         ],
         "xaxis": "x",
         "y": [
          -4855,
          -4855,
          -4870,
          -4870
         ],
         "yaxis": "y"
        },
        {
         "hoverinfo": "text",
         "marker": {
          "color": "rgb(0,116,217)"
         },
         "mode": "lines",
         "type": "scatter",
         "x": [
          0,
          1.4216984745792702,
          1.4216984745792702,
          1.3870729232020653
         ],
         "xaxis": "x",
         "y": [
          -4845,
          -4845,
          -4862.5,
          -4862.5
         ],
         "yaxis": "y"
        },
        {
         "hoverinfo": "text",
         "marker": {
          "color": "rgb(0,116,217)"
         },
         "mode": "lines",
         "type": "scatter",
         "x": [
          1.3810844265692348,
          2.4391100476395855,
          2.4391100476395855,
          1.4216984745792702
         ],
         "xaxis": "x",
         "y": [
          -4822.5,
          -4822.5,
          -4853.75,
          -4853.75
         ],
         "yaxis": "y"
        },
        {
         "hoverinfo": "text",
         "marker": {
          "color": "rgb(0,116,217)"
         },
         "mode": "lines",
         "type": "scatter",
         "x": [
          1.4845479768598453,
          2.683571455796872,
          2.683571455796872,
          2.4391100476395855
         ],
         "xaxis": "x",
         "y": [
          -4783.75,
          -4783.75,
          -4838.125,
          -4838.125
         ],
         "yaxis": "y"
        },
        {
         "hoverinfo": "text",
         "marker": {
          "color": "rgb(0,116,217)"
         },
         "mode": "lines",
         "type": "scatter",
         "x": [
          1.9554613722997614,
          3.4086192667590294,
          3.4086192667590294,
          2.683571455796872
         ],
         "xaxis": "x",
         "y": [
          -4728.125,
          -4728.125,
          -4810.9375,
          -4810.9375
         ],
         "yaxis": "y"
        },
        {
         "hoverinfo": "text",
         "marker": {
          "color": "rgb(0,116,217)"
         },
         "mode": "lines",
         "type": "scatter",
         "x": [
          3.0295397439709233,
          4.167056311613429,
          4.167056311613429,
          3.4086192667590294
         ],
         "xaxis": "x",
         "y": [
          -4577.34375,
          -4577.34375,
          -4769.53125,
          -4769.53125
         ],
         "yaxis": "y"
        },
        {
         "hoverinfo": "text",
         "marker": {
          "color": "rgb(0,116,217)"
         },
         "mode": "lines",
         "type": "scatter",
         "x": [
          0,
          1.1873376952618768,
          1.1873376952618768,
          0
         ],
         "xaxis": "x",
         "y": [
          -4885,
          -4885,
          -4895,
          -4895
         ],
         "yaxis": "y"
        },
        {
         "hoverinfo": "text",
         "marker": {
          "color": "rgb(0,116,217)"
         },
         "mode": "lines",
         "type": "scatter",
         "x": [
          0,
          1.2470617310060923,
          1.2470617310060923,
          0
         ],
         "xaxis": "x",
         "y": [
          -4915,
          -4915,
          -4925,
          -4925
         ],
         "yaxis": "y"
        },
        {
         "hoverinfo": "text",
         "marker": {
          "color": "rgb(0,116,217)"
         },
         "mode": "lines",
         "type": "scatter",
         "x": [
          0,
          1.411470168197525,
          1.411470168197525,
          1.2470617310060923
         ],
         "xaxis": "x",
         "y": [
          -4905,
          -4905,
          -4920,
          -4920
         ],
         "yaxis": "y"
        },
        {
         "hoverinfo": "text",
         "marker": {
          "color": "rgb(0,116,217)"
         },
         "mode": "lines",
         "type": "scatter",
         "x": [
          1.1873376952618768,
          1.6754120164941988,
          1.6754120164941988,
          1.411470168197525
         ],
         "xaxis": "x",
         "y": [
          -4890,
          -4890,
          -4912.5,
          -4912.5
         ],
         "yaxis": "y"
        },
        {
         "hoverinfo": "text",
         "marker": {
          "color": "rgb(0,116,217)"
         },
         "mode": "lines",
         "type": "scatter",
         "x": [
          0,
          1.55114604354852,
          1.55114604354852,
          0
         ],
         "xaxis": "x",
         "y": [
          -4945,
          -4945,
          -4955,
          -4955
         ],
         "yaxis": "y"
        },
        {
         "hoverinfo": "text",
         "marker": {
          "color": "rgb(0,116,217)"
         },
         "mode": "lines",
         "type": "scatter",
         "x": [
          0,
          1.7522157682884614,
          1.7522157682884614,
          1.55114604354852
         ],
         "xaxis": "x",
         "y": [
          -4935,
          -4935,
          -4950,
          -4950
         ],
         "yaxis": "y"
        },
        {
         "hoverinfo": "text",
         "marker": {
          "color": "rgb(0,116,217)"
         },
         "mode": "lines",
         "type": "scatter",
         "x": [
          1.6754120164941988,
          2.1471874638437805,
          2.1471874638437805,
          1.7522157682884614
         ],
         "xaxis": "x",
         "y": [
          -4901.25,
          -4901.25,
          -4942.5,
          -4942.5
         ],
         "yaxis": "y"
        },
        {
         "hoverinfo": "text",
         "marker": {
          "color": "rgb(0,116,217)"
         },
         "mode": "lines",
         "type": "scatter",
         "x": [
          0,
          1.16227288835262,
          1.16227288835262,
          0
         ],
         "xaxis": "x",
         "y": [
          -4975,
          -4975,
          -4985,
          -4985
         ],
         "yaxis": "y"
        },
        {
         "hoverinfo": "text",
         "marker": {
          "color": "rgb(0,116,217)"
         },
         "mode": "lines",
         "type": "scatter",
         "x": [
          0,
          1.298271665763531,
          1.298271665763531,
          1.16227288835262
         ],
         "xaxis": "x",
         "y": [
          -4965,
          -4965,
          -4980,
          -4980
         ],
         "yaxis": "y"
        },
        {
         "hoverinfo": "text",
         "marker": {
          "color": "rgb(0,116,217)"
         },
         "mode": "lines",
         "type": "scatter",
         "x": [
          0,
          1.477767610999635,
          1.477767610999635,
          0
         ],
         "xaxis": "x",
         "y": [
          -4995,
          -4995,
          -5005,
          -5005
         ],
         "yaxis": "y"
        },
        {
         "hoverinfo": "text",
         "marker": {
          "color": "rgb(0,116,217)"
         },
         "mode": "lines",
         "type": "scatter",
         "x": [
          0,
          1.2325441933863155,
          1.2325441933863155,
          0
         ],
         "xaxis": "x",
         "y": [
          -5025,
          -5025,
          -5035,
          -5035
         ],
         "yaxis": "y"
        },
        {
         "hoverinfo": "text",
         "marker": {
          "color": "rgb(0,116,217)"
         },
         "mode": "lines",
         "type": "scatter",
         "x": [
          0,
          1.6739486961988188,
          1.6739486961988188,
          1.2325441933863155
         ],
         "xaxis": "x",
         "y": [
          -5015,
          -5015,
          -5030,
          -5030
         ],
         "yaxis": "y"
        },
        {
         "hoverinfo": "text",
         "marker": {
          "color": "rgb(0,116,217)"
         },
         "mode": "lines",
         "type": "scatter",
         "x": [
          1.477767610999635,
          1.9424409689369424,
          1.9424409689369424,
          1.6739486961988188
         ],
         "xaxis": "x",
         "y": [
          -5000,
          -5000,
          -5022.5,
          -5022.5
         ],
         "yaxis": "y"
        },
        {
         "hoverinfo": "text",
         "marker": {
          "color": "rgb(0,116,217)"
         },
         "mode": "lines",
         "type": "scatter",
         "x": [
          1.298271665763531,
          2.4350397058551905,
          2.4350397058551905,
          1.9424409689369424
         ],
         "xaxis": "x",
         "y": [
          -4972.5,
          -4972.5,
          -5011.25,
          -5011.25
         ],
         "yaxis": "y"
        },
        {
         "hoverinfo": "text",
         "marker": {
          "color": "rgb(0,116,217)"
         },
         "mode": "lines",
         "type": "scatter",
         "x": [
          2.1471874638437805,
          2.7016336837373953,
          2.7016336837373953,
          2.4350397058551905
         ],
         "xaxis": "x",
         "y": [
          -4921.875,
          -4921.875,
          -4991.875,
          -4991.875
         ],
         "yaxis": "y"
        },
        {
         "hoverinfo": "text",
         "marker": {
          "color": "rgb(0,116,217)"
         },
         "mode": "lines",
         "type": "scatter",
         "x": [
          0,
          1.0046607817743258,
          1.0046607817743258,
          0
         ],
         "xaxis": "x",
         "y": [
          -5065,
          -5065,
          -5075,
          -5075
         ],
         "yaxis": "y"
        },
        {
         "hoverinfo": "text",
         "marker": {
          "color": "rgb(0,116,217)"
         },
         "mode": "lines",
         "type": "scatter",
         "x": [
          0,
          1.4553590424263643,
          1.4553590424263643,
          1.0046607817743258
         ],
         "xaxis": "x",
         "y": [
          -5055,
          -5055,
          -5070,
          -5070
         ],
         "yaxis": "y"
        },
        {
         "hoverinfo": "text",
         "marker": {
          "color": "rgb(0,116,217)"
         },
         "mode": "lines",
         "type": "scatter",
         "x": [
          0,
          1.5722936450127385,
          1.5722936450127385,
          1.4553590424263643
         ],
         "xaxis": "x",
         "y": [
          -5045,
          -5045,
          -5062.5,
          -5062.5
         ],
         "yaxis": "y"
        },
        {
         "hoverinfo": "text",
         "marker": {
          "color": "rgb(0,116,217)"
         },
         "mode": "lines",
         "type": "scatter",
         "x": [
          0,
          1.5788116793596698,
          1.5788116793596698,
          0
         ],
         "xaxis": "x",
         "y": [
          -5085,
          -5085,
          -5095,
          -5095
         ],
         "yaxis": "y"
        },
        {
         "hoverinfo": "text",
         "marker": {
          "color": "rgb(0,116,217)"
         },
         "mode": "lines",
         "type": "scatter",
         "x": [
          0,
          1.2113565979692231,
          1.2113565979692231,
          0
         ],
         "xaxis": "x",
         "y": [
          -5115,
          -5115,
          -5125,
          -5125
         ],
         "yaxis": "y"
        },
        {
         "hoverinfo": "text",
         "marker": {
          "color": "rgb(0,116,217)"
         },
         "mode": "lines",
         "type": "scatter",
         "x": [
          0,
          1.4251574871658386,
          1.4251574871658386,
          1.2113565979692231
         ],
         "xaxis": "x",
         "y": [
          -5105,
          -5105,
          -5120,
          -5120
         ],
         "yaxis": "y"
        },
        {
         "hoverinfo": "text",
         "marker": {
          "color": "rgb(0,116,217)"
         },
         "mode": "lines",
         "type": "scatter",
         "x": [
          0,
          1.4923561580118825,
          1.4923561580118825,
          0
         ],
         "xaxis": "x",
         "y": [
          -5135,
          -5135,
          -5145,
          -5145
         ],
         "yaxis": "y"
        },
        {
         "hoverinfo": "text",
         "marker": {
          "color": "rgb(0,116,217)"
         },
         "mode": "lines",
         "type": "scatter",
         "x": [
          1.4251574871658386,
          2.0139421327311156,
          2.0139421327311156,
          1.4923561580118825
         ],
         "xaxis": "x",
         "y": [
          -5112.5,
          -5112.5,
          -5140,
          -5140
         ],
         "yaxis": "y"
        },
        {
         "hoverinfo": "text",
         "marker": {
          "color": "rgb(0,116,217)"
         },
         "mode": "lines",
         "type": "scatter",
         "x": [
          1.5788116793596698,
          2.1662621931744397,
          2.1662621931744397,
          2.0139421327311156
         ],
         "xaxis": "x",
         "y": [
          -5090,
          -5090,
          -5126.25,
          -5126.25
         ],
         "yaxis": "y"
        },
        {
         "hoverinfo": "text",
         "marker": {
          "color": "rgb(0,116,217)"
         },
         "mode": "lines",
         "type": "scatter",
         "x": [
          1.5722936450127385,
          2.827755477990783,
          2.827755477990783,
          2.1662621931744397
         ],
         "xaxis": "x",
         "y": [
          -5053.75,
          -5053.75,
          -5108.125,
          -5108.125
         ],
         "yaxis": "y"
        },
        {
         "hoverinfo": "text",
         "marker": {
          "color": "rgb(0,116,217)"
         },
         "mode": "lines",
         "type": "scatter",
         "x": [
          2.7016336837373953,
          3.159035813142608,
          3.159035813142608,
          2.827755477990783
         ],
         "xaxis": "x",
         "y": [
          -4956.875,
          -4956.875,
          -5080.9375,
          -5080.9375
         ],
         "yaxis": "y"
        },
        {
         "hoverinfo": "text",
         "marker": {
          "color": "rgb(0,116,217)"
         },
         "mode": "lines",
         "type": "scatter",
         "x": [
          0,
          1.330130444017545,
          1.330130444017545,
          0
         ],
         "xaxis": "x",
         "y": [
          -5165,
          -5165,
          -5175,
          -5175
         ],
         "yaxis": "y"
        },
        {
         "hoverinfo": "text",
         "marker": {
          "color": "rgb(0,116,217)"
         },
         "mode": "lines",
         "type": "scatter",
         "x": [
          0,
          1.8821705578569248,
          1.8821705578569248,
          1.330130444017545
         ],
         "xaxis": "x",
         "y": [
          -5155,
          -5155,
          -5170,
          -5170
         ],
         "yaxis": "y"
        },
        {
         "hoverinfo": "text",
         "marker": {
          "color": "rgb(0,116,217)"
         },
         "mode": "lines",
         "type": "scatter",
         "x": [
          0,
          1.1291814512693443,
          1.1291814512693443,
          0
         ],
         "xaxis": "x",
         "y": [
          -5185,
          -5185,
          -5195,
          -5195
         ],
         "yaxis": "y"
        },
        {
         "hoverinfo": "text",
         "marker": {
          "color": "rgb(0,116,217)"
         },
         "mode": "lines",
         "type": "scatter",
         "x": [
          0,
          1.3464354869274946,
          1.3464354869274946,
          0
         ],
         "xaxis": "x",
         "y": [
          -5205,
          -5205,
          -5215,
          -5215
         ],
         "yaxis": "y"
        },
        {
         "hoverinfo": "text",
         "marker": {
          "color": "rgb(0,116,217)"
         },
         "mode": "lines",
         "type": "scatter",
         "x": [
          1.1291814512693443,
          1.81956613125221,
          1.81956613125221,
          1.3464354869274946
         ],
         "xaxis": "x",
         "y": [
          -5190,
          -5190,
          -5210,
          -5210
         ],
         "yaxis": "y"
        },
        {
         "hoverinfo": "text",
         "marker": {
          "color": "rgb(0,116,217)"
         },
         "mode": "lines",
         "type": "scatter",
         "x": [
          0,
          1.4406993507405141,
          1.4406993507405141,
          0
         ],
         "xaxis": "x",
         "y": [
          -5235,
          -5235,
          -5245,
          -5245
         ],
         "yaxis": "y"
        },
        {
         "hoverinfo": "text",
         "marker": {
          "color": "rgb(0,116,217)"
         },
         "mode": "lines",
         "type": "scatter",
         "x": [
          0,
          2.04070016826138,
          2.04070016826138,
          1.4406993507405141
         ],
         "xaxis": "x",
         "y": [
          -5225,
          -5225,
          -5240,
          -5240
         ],
         "yaxis": "y"
        },
        {
         "hoverinfo": "text",
         "marker": {
          "color": "rgb(0,116,217)"
         },
         "mode": "lines",
         "type": "scatter",
         "x": [
          1.81956613125221,
          2.4806288050012872,
          2.4806288050012872,
          2.04070016826138
         ],
         "xaxis": "x",
         "y": [
          -5200,
          -5200,
          -5232.5,
          -5232.5
         ],
         "yaxis": "y"
        },
        {
         "hoverinfo": "text",
         "marker": {
          "color": "rgb(0,116,217)"
         },
         "mode": "lines",
         "type": "scatter",
         "x": [
          1.8821705578569248,
          2.615113421399942,
          2.615113421399942,
          2.4806288050012872
         ],
         "xaxis": "x",
         "y": [
          -5162.5,
          -5162.5,
          -5216.25,
          -5216.25
         ],
         "yaxis": "y"
        },
        {
         "hoverinfo": "text",
         "marker": {
          "color": "rgb(0,116,217)"
         },
         "mode": "lines",
         "type": "scatter",
         "x": [
          0,
          1.332284787909497,
          1.332284787909497,
          0
         ],
         "xaxis": "x",
         "y": [
          -5255,
          -5255,
          -5265,
          -5265
         ],
         "yaxis": "y"
        },
        {
         "hoverinfo": "text",
         "marker": {
          "color": "rgb(0,116,217)"
         },
         "mode": "lines",
         "type": "scatter",
         "x": [
          0,
          1.3829721258527439,
          1.3829721258527439,
          0
         ],
         "xaxis": "x",
         "y": [
          -5275,
          -5275,
          -5285,
          -5285
         ],
         "yaxis": "y"
        },
        {
         "hoverinfo": "text",
         "marker": {
          "color": "rgb(0,116,217)"
         },
         "mode": "lines",
         "type": "scatter",
         "x": [
          1.332284787909497,
          1.5479568483882953,
          1.5479568483882953,
          1.3829721258527439
         ],
         "xaxis": "x",
         "y": [
          -5260,
          -5260,
          -5280,
          -5280
         ],
         "yaxis": "y"
        },
        {
         "hoverinfo": "text",
         "marker": {
          "color": "rgb(0,116,217)"
         },
         "mode": "lines",
         "type": "scatter",
         "x": [
          0,
          1.218085212061604,
          1.218085212061604,
          0
         ],
         "xaxis": "x",
         "y": [
          -5295,
          -5295,
          -5305,
          -5305
         ],
         "yaxis": "y"
        },
        {
         "hoverinfo": "text",
         "marker": {
          "color": "rgb(0,116,217)"
         },
         "mode": "lines",
         "type": "scatter",
         "x": [
          0,
          1.2330253826311077,
          1.2330253826311077,
          0
         ],
         "xaxis": "x",
         "y": [
          -5315,
          -5315,
          -5325,
          -5325
         ],
         "yaxis": "y"
        },
        {
         "hoverinfo": "text",
         "marker": {
          "color": "rgb(0,116,217)"
         },
         "mode": "lines",
         "type": "scatter",
         "x": [
          1.218085212061604,
          1.974004011963602,
          1.974004011963602,
          1.2330253826311077
         ],
         "xaxis": "x",
         "y": [
          -5300,
          -5300,
          -5320,
          -5320
         ],
         "yaxis": "y"
        },
        {
         "hoverinfo": "text",
         "marker": {
          "color": "rgb(0,116,217)"
         },
         "mode": "lines",
         "type": "scatter",
         "x": [
          0,
          1.2302387470281284,
          1.2302387470281284,
          0
         ],
         "xaxis": "x",
         "y": [
          -5335,
          -5335,
          -5345,
          -5345
         ],
         "yaxis": "y"
        },
        {
         "hoverinfo": "text",
         "marker": {
          "color": "rgb(0,116,217)"
         },
         "mode": "lines",
         "type": "scatter",
         "x": [
          0,
          1.4817765308891422,
          1.4817765308891422,
          0
         ],
         "xaxis": "x",
         "y": [
          -5355,
          -5355,
          -5365,
          -5365
         ],
         "yaxis": "y"
        },
        {
         "hoverinfo": "text",
         "marker": {
          "color": "rgb(0,116,217)"
         },
         "mode": "lines",
         "type": "scatter",
         "x": [
          1.2302387470281284,
          2.090854282297674,
          2.090854282297674,
          1.4817765308891422
         ],
         "xaxis": "x",
         "y": [
          -5340,
          -5340,
          -5360,
          -5360
         ],
         "yaxis": "y"
        },
        {
         "hoverinfo": "text",
         "marker": {
          "color": "rgb(0,116,217)"
         },
         "mode": "lines",
         "type": "scatter",
         "x": [
          1.974004011963602,
          2.3890746757510253,
          2.3890746757510253,
          2.090854282297674
         ],
         "xaxis": "x",
         "y": [
          -5310,
          -5310,
          -5350,
          -5350
         ],
         "yaxis": "y"
        },
        {
         "hoverinfo": "text",
         "marker": {
          "color": "rgb(0,116,217)"
         },
         "mode": "lines",
         "type": "scatter",
         "x": [
          1.5479568483882953,
          3.188043511499425,
          3.188043511499425,
          2.3890746757510253
         ],
         "xaxis": "x",
         "y": [
          -5270,
          -5270,
          -5330,
          -5330
         ],
         "yaxis": "y"
        },
        {
         "hoverinfo": "text",
         "marker": {
          "color": "rgb(0,116,217)"
         },
         "mode": "lines",
         "type": "scatter",
         "x": [
          2.615113421399942,
          4.373998211119112,
          4.373998211119112,
          3.188043511499425
         ],
         "xaxis": "x",
         "y": [
          -5189.375,
          -5189.375,
          -5300,
          -5300
         ],
         "yaxis": "y"
        },
        {
         "hoverinfo": "text",
         "marker": {
          "color": "rgb(0,116,217)"
         },
         "mode": "lines",
         "type": "scatter",
         "x": [
          3.159035813142608,
          5.246110792606972,
          5.246110792606972,
          4.373998211119112
         ],
         "xaxis": "x",
         "y": [
          -5018.90625,
          -5018.90625,
          -5244.6875,
          -5244.6875
         ],
         "yaxis": "y"
        },
        {
         "hoverinfo": "text",
         "marker": {
          "color": "rgb(0,116,217)"
         },
         "mode": "lines",
         "type": "scatter",
         "x": [
          4.167056311613429,
          8.547600348889477,
          8.547600348889477,
          5.246110792606972
         ],
         "xaxis": "x",
         "y": [
          -4673.4375,
          -4673.4375,
          -5131.796875,
          -5131.796875
         ],
         "yaxis": "y"
        },
        {
         "hoverinfo": "text",
         "marker": {
          "color": "rgb(0,116,217)"
         },
         "mode": "lines",
         "type": "scatter",
         "x": [
          8.507036736228105,
          11.39091907945608,
          11.39091907945608,
          8.547600348889477
         ],
         "xaxis": "x",
         "y": [
          -3752.0703125,
          -3752.0703125,
          -4902.6171875,
          -4902.6171875
         ],
         "yaxis": "y"
        },
        {
         "hoverinfo": "text",
         "marker": {
          "color": "rgb(0,116,217)"
         },
         "mode": "lines",
         "type": "scatter",
         "x": [
          6.503450627205772,
          19.80994196907129,
          19.80994196907129,
          11.39091907945608
         ],
         "xaxis": "x",
         "y": [
          -3016.396484375,
          -3016.396484375,
          -4327.34375,
          -4327.34375
         ],
         "yaxis": "y"
        },
        {
         "hoverinfo": "text",
         "marker": {
          "color": "rgb(0,116,217)"
         },
         "mode": "lines",
         "type": "scatter",
         "x": [
          5.423295123459487,
          22.565560545445646,
          22.565560545445646,
          19.80994196907129
         ],
         "xaxis": "x",
         "y": [
          -2494.4580078125,
          -2494.4580078125,
          -3671.8701171875,
          -3671.8701171875
         ],
         "yaxis": "y"
        },
        {
         "hoverinfo": "text",
         "marker": {
          "color": "rgb(0,116,217)"
         },
         "mode": "lines",
         "type": "scatter",
         "x": [
          11.030902080899887,
          31.06702554180545,
          31.06702554180545,
          22.565560545445646
         ],
         "xaxis": "x",
         "y": [
          -1049.6240234375,
          -1049.6240234375,
          -3083.1640625,
          -3083.1640625
         ],
         "yaxis": "y"
        }
       ],
       "layout": {
        "autosize": false,
        "height": 8255,
        "hoverlabel": {
         "bgcolor": "white",
         "font": {
          "family": "Rockwell",
          "size": 16
         }
        },
        "hovermode": "closest",
        "plot_bgcolor": "#ECEFF1",
        "showlegend": false,
        "template": {
         "data": {
          "bar": [
           {
            "error_x": {
             "color": "#2a3f5f"
            },
            "error_y": {
             "color": "#2a3f5f"
            },
            "marker": {
             "line": {
              "color": "white",
              "width": 0.5
             },
             "pattern": {
              "fillmode": "overlay",
              "size": 10,
              "solidity": 0.2
             }
            },
            "type": "bar"
           }
          ],
          "barpolar": [
           {
            "marker": {
             "line": {
              "color": "white",
              "width": 0.5
             },
             "pattern": {
              "fillmode": "overlay",
              "size": 10,
              "solidity": 0.2
             }
            },
            "type": "barpolar"
           }
          ],
          "carpet": [
           {
            "aaxis": {
             "endlinecolor": "#2a3f5f",
             "gridcolor": "#C8D4E3",
             "linecolor": "#C8D4E3",
             "minorgridcolor": "#C8D4E3",
             "startlinecolor": "#2a3f5f"
            },
            "baxis": {
             "endlinecolor": "#2a3f5f",
             "gridcolor": "#C8D4E3",
             "linecolor": "#C8D4E3",
             "minorgridcolor": "#C8D4E3",
             "startlinecolor": "#2a3f5f"
            },
            "type": "carpet"
           }
          ],
          "choropleth": [
           {
            "colorbar": {
             "outlinewidth": 0,
             "ticks": ""
            },
            "type": "choropleth"
           }
          ],
          "contour": [
           {
            "colorbar": {
             "outlinewidth": 0,
             "ticks": ""
            },
            "colorscale": [
             [
              0,
              "#0d0887"
             ],
             [
              0.1111111111111111,
              "#46039f"
             ],
             [
              0.2222222222222222,
              "#7201a8"
             ],
             [
              0.3333333333333333,
              "#9c179e"
             ],
             [
              0.4444444444444444,
              "#bd3786"
             ],
             [
              0.5555555555555556,
              "#d8576b"
             ],
             [
              0.6666666666666666,
              "#ed7953"
             ],
             [
              0.7777777777777778,
              "#fb9f3a"
             ],
             [
              0.8888888888888888,
              "#fdca26"
             ],
             [
              1,
              "#f0f921"
             ]
            ],
            "type": "contour"
           }
          ],
          "contourcarpet": [
           {
            "colorbar": {
             "outlinewidth": 0,
             "ticks": ""
            },
            "type": "contourcarpet"
           }
          ],
          "heatmap": [
           {
            "colorbar": {
             "outlinewidth": 0,
             "ticks": ""
            },
            "colorscale": [
             [
              0,
              "#0d0887"
             ],
             [
              0.1111111111111111,
              "#46039f"
             ],
             [
              0.2222222222222222,
              "#7201a8"
             ],
             [
              0.3333333333333333,
              "#9c179e"
             ],
             [
              0.4444444444444444,
              "#bd3786"
             ],
             [
              0.5555555555555556,
              "#d8576b"
             ],
             [
              0.6666666666666666,
              "#ed7953"
             ],
             [
              0.7777777777777778,
              "#fb9f3a"
             ],
             [
              0.8888888888888888,
              "#fdca26"
             ],
             [
              1,
              "#f0f921"
             ]
            ],
            "type": "heatmap"
           }
          ],
          "heatmapgl": [
           {
            "colorbar": {
             "outlinewidth": 0,
             "ticks": ""
            },
            "colorscale": [
             [
              0,
              "#0d0887"
             ],
             [
              0.1111111111111111,
              "#46039f"
             ],
             [
              0.2222222222222222,
              "#7201a8"
             ],
             [
              0.3333333333333333,
              "#9c179e"
             ],
             [
              0.4444444444444444,
              "#bd3786"
             ],
             [
              0.5555555555555556,
              "#d8576b"
             ],
             [
              0.6666666666666666,
              "#ed7953"
             ],
             [
              0.7777777777777778,
              "#fb9f3a"
             ],
             [
              0.8888888888888888,
              "#fdca26"
             ],
             [
              1,
              "#f0f921"
             ]
            ],
            "type": "heatmapgl"
           }
          ],
          "histogram": [
           {
            "marker": {
             "pattern": {
              "fillmode": "overlay",
              "size": 10,
              "solidity": 0.2
             }
            },
            "type": "histogram"
           }
          ],
          "histogram2d": [
           {
            "colorbar": {
             "outlinewidth": 0,
             "ticks": ""
            },
            "colorscale": [
             [
              0,
              "#0d0887"
             ],
             [
              0.1111111111111111,
              "#46039f"
             ],
             [
              0.2222222222222222,
              "#7201a8"
             ],
             [
              0.3333333333333333,
              "#9c179e"
             ],
             [
              0.4444444444444444,
              "#bd3786"
             ],
             [
              0.5555555555555556,
              "#d8576b"
             ],
             [
              0.6666666666666666,
              "#ed7953"
             ],
             [
              0.7777777777777778,
              "#fb9f3a"
             ],
             [
              0.8888888888888888,
              "#fdca26"
             ],
             [
              1,
              "#f0f921"
             ]
            ],
            "type": "histogram2d"
           }
          ],
          "histogram2dcontour": [
           {
            "colorbar": {
             "outlinewidth": 0,
             "ticks": ""
            },
            "colorscale": [
             [
              0,
              "#0d0887"
             ],
             [
              0.1111111111111111,
              "#46039f"
             ],
             [
              0.2222222222222222,
              "#7201a8"
             ],
             [
              0.3333333333333333,
              "#9c179e"
             ],
             [
              0.4444444444444444,
              "#bd3786"
             ],
             [
              0.5555555555555556,
              "#d8576b"
             ],
             [
              0.6666666666666666,
              "#ed7953"
             ],
             [
              0.7777777777777778,
              "#fb9f3a"
             ],
             [
              0.8888888888888888,
              "#fdca26"
             ],
             [
              1,
              "#f0f921"
             ]
            ],
            "type": "histogram2dcontour"
           }
          ],
          "mesh3d": [
           {
            "colorbar": {
             "outlinewidth": 0,
             "ticks": ""
            },
            "type": "mesh3d"
           }
          ],
          "parcoords": [
           {
            "line": {
             "colorbar": {
              "outlinewidth": 0,
              "ticks": ""
             }
            },
            "type": "parcoords"
           }
          ],
          "pie": [
           {
            "automargin": true,
            "type": "pie"
           }
          ],
          "scatter": [
           {
            "marker": {
             "colorbar": {
              "outlinewidth": 0,
              "ticks": ""
             }
            },
            "type": "scatter"
           }
          ],
          "scatter3d": [
           {
            "line": {
             "colorbar": {
              "outlinewidth": 0,
              "ticks": ""
             }
            },
            "marker": {
             "colorbar": {
              "outlinewidth": 0,
              "ticks": ""
             }
            },
            "type": "scatter3d"
           }
          ],
          "scattercarpet": [
           {
            "marker": {
             "colorbar": {
              "outlinewidth": 0,
              "ticks": ""
             }
            },
            "type": "scattercarpet"
           }
          ],
          "scattergeo": [
           {
            "marker": {
             "colorbar": {
              "outlinewidth": 0,
              "ticks": ""
             }
            },
            "type": "scattergeo"
           }
          ],
          "scattergl": [
           {
            "marker": {
             "colorbar": {
              "outlinewidth": 0,
              "ticks": ""
             }
            },
            "type": "scattergl"
           }
          ],
          "scattermapbox": [
           {
            "marker": {
             "colorbar": {
              "outlinewidth": 0,
              "ticks": ""
             }
            },
            "type": "scattermapbox"
           }
          ],
          "scatterpolar": [
           {
            "marker": {
             "colorbar": {
              "outlinewidth": 0,
              "ticks": ""
             }
            },
            "type": "scatterpolar"
           }
          ],
          "scatterpolargl": [
           {
            "marker": {
             "colorbar": {
              "outlinewidth": 0,
              "ticks": ""
             }
            },
            "type": "scatterpolargl"
           }
          ],
          "scatterternary": [
           {
            "marker": {
             "colorbar": {
              "outlinewidth": 0,
              "ticks": ""
             }
            },
            "type": "scatterternary"
           }
          ],
          "surface": [
           {
            "colorbar": {
             "outlinewidth": 0,
             "ticks": ""
            },
            "colorscale": [
             [
              0,
              "#0d0887"
             ],
             [
              0.1111111111111111,
              "#46039f"
             ],
             [
              0.2222222222222222,
              "#7201a8"
             ],
             [
              0.3333333333333333,
              "#9c179e"
             ],
             [
              0.4444444444444444,
              "#bd3786"
             ],
             [
              0.5555555555555556,
              "#d8576b"
             ],
             [
              0.6666666666666666,
              "#ed7953"
             ],
             [
              0.7777777777777778,
              "#fb9f3a"
             ],
             [
              0.8888888888888888,
              "#fdca26"
             ],
             [
              1,
              "#f0f921"
             ]
            ],
            "type": "surface"
           }
          ],
          "table": [
           {
            "cells": {
             "fill": {
              "color": "#EBF0F8"
             },
             "line": {
              "color": "white"
             }
            },
            "header": {
             "fill": {
              "color": "#C8D4E3"
             },
             "line": {
              "color": "white"
             }
            },
            "type": "table"
           }
          ]
         },
         "layout": {
          "annotationdefaults": {
           "arrowcolor": "#2a3f5f",
           "arrowhead": 0,
           "arrowwidth": 1
          },
          "autotypenumbers": "strict",
          "coloraxis": {
           "colorbar": {
            "outlinewidth": 0,
            "ticks": ""
           }
          },
          "colorscale": {
           "diverging": [
            [
             0,
             "#8e0152"
            ],
            [
             0.1,
             "#c51b7d"
            ],
            [
             0.2,
             "#de77ae"
            ],
            [
             0.3,
             "#f1b6da"
            ],
            [
             0.4,
             "#fde0ef"
            ],
            [
             0.5,
             "#f7f7f7"
            ],
            [
             0.6,
             "#e6f5d0"
            ],
            [
             0.7,
             "#b8e186"
            ],
            [
             0.8,
             "#7fbc41"
            ],
            [
             0.9,
             "#4d9221"
            ],
            [
             1,
             "#276419"
            ]
           ],
           "sequential": [
            [
             0,
             "#0d0887"
            ],
            [
             0.1111111111111111,
             "#46039f"
            ],
            [
             0.2222222222222222,
             "#7201a8"
            ],
            [
             0.3333333333333333,
             "#9c179e"
            ],
            [
             0.4444444444444444,
             "#bd3786"
            ],
            [
             0.5555555555555556,
             "#d8576b"
            ],
            [
             0.6666666666666666,
             "#ed7953"
            ],
            [
             0.7777777777777778,
             "#fb9f3a"
            ],
            [
             0.8888888888888888,
             "#fdca26"
            ],
            [
             1,
             "#f0f921"
            ]
           ],
           "sequentialminus": [
            [
             0,
             "#0d0887"
            ],
            [
             0.1111111111111111,
             "#46039f"
            ],
            [
             0.2222222222222222,
             "#7201a8"
            ],
            [
             0.3333333333333333,
             "#9c179e"
            ],
            [
             0.4444444444444444,
             "#bd3786"
            ],
            [
             0.5555555555555556,
             "#d8576b"
            ],
            [
             0.6666666666666666,
             "#ed7953"
            ],
            [
             0.7777777777777778,
             "#fb9f3a"
            ],
            [
             0.8888888888888888,
             "#fdca26"
            ],
            [
             1,
             "#f0f921"
            ]
           ]
          },
          "colorway": [
           "#636efa",
           "#EF553B",
           "#00cc96",
           "#ab63fa",
           "#FFA15A",
           "#19d3f3",
           "#FF6692",
           "#B6E880",
           "#FF97FF",
           "#FECB52"
          ],
          "font": {
           "color": "#2a3f5f"
          },
          "geo": {
           "bgcolor": "white",
           "lakecolor": "white",
           "landcolor": "white",
           "showlakes": true,
           "showland": true,
           "subunitcolor": "#C8D4E3"
          },
          "hoverlabel": {
           "align": "left"
          },
          "hovermode": "closest",
          "mapbox": {
           "style": "light"
          },
          "paper_bgcolor": "white",
          "plot_bgcolor": "white",
          "polar": {
           "angularaxis": {
            "gridcolor": "#EBF0F8",
            "linecolor": "#EBF0F8",
            "ticks": ""
           },
           "bgcolor": "white",
           "radialaxis": {
            "gridcolor": "#EBF0F8",
            "linecolor": "#EBF0F8",
            "ticks": ""
           }
          },
          "scene": {
           "xaxis": {
            "backgroundcolor": "white",
            "gridcolor": "#DFE8F3",
            "gridwidth": 2,
            "linecolor": "#EBF0F8",
            "showbackground": true,
            "ticks": "",
            "zerolinecolor": "#EBF0F8"
           },
           "yaxis": {
            "backgroundcolor": "white",
            "gridcolor": "#DFE8F3",
            "gridwidth": 2,
            "linecolor": "#EBF0F8",
            "showbackground": true,
            "ticks": "",
            "zerolinecolor": "#EBF0F8"
           },
           "zaxis": {
            "backgroundcolor": "white",
            "gridcolor": "#DFE8F3",
            "gridwidth": 2,
            "linecolor": "#EBF0F8",
            "showbackground": true,
            "ticks": "",
            "zerolinecolor": "#EBF0F8"
           }
          },
          "shapedefaults": {
           "line": {
            "color": "#2a3f5f"
           }
          },
          "ternary": {
           "aaxis": {
            "gridcolor": "#DFE8F3",
            "linecolor": "#A2B1C6",
            "ticks": ""
           },
           "baxis": {
            "gridcolor": "#DFE8F3",
            "linecolor": "#A2B1C6",
            "ticks": ""
           },
           "bgcolor": "white",
           "caxis": {
            "gridcolor": "#DFE8F3",
            "linecolor": "#A2B1C6",
            "ticks": ""
           }
          },
          "title": {
           "x": 0.05
          },
          "xaxis": {
           "automargin": true,
           "gridcolor": "#EBF0F8",
           "linecolor": "#EBF0F8",
           "ticks": "",
           "title": {
            "standoff": 15
           },
           "zerolinecolor": "#EBF0F8",
           "zerolinewidth": 2
          },
          "yaxis": {
           "automargin": true,
           "gridcolor": "#EBF0F8",
           "linecolor": "#EBF0F8",
           "ticks": "",
           "title": {
            "standoff": 15
           },
           "zerolinecolor": "#EBF0F8",
           "zerolinewidth": 2
          }
         }
        },
        "title": {
         "font": {
          "color": "Black",
          "size": 22
         },
         "text": "<b>Hierarchical Clustering",
         "x": 0.5,
         "xanchor": "center",
         "yanchor": "top"
        },
        "width": 1000,
        "xaxis": {
         "mirror": "allticks",
         "rangemode": "tozero",
         "showgrid": false,
         "showline": true,
         "showticklabels": true,
         "ticks": "outside",
         "type": "linear",
         "zeroline": false
        },
        "yaxis": {
         "mirror": "allticks",
         "range": [
          -5370,
          0
         ],
         "rangemode": "tozero",
         "showgrid": false,
         "showline": true,
         "showticklabels": true,
         "tickmode": "array",
         "ticks": "outside",
         "ticktext": [
          "12_iraq_terrorists_al",
          "68_1945_german_hitler",
          "184_russia_petersburg_emperor",
          "138_nato_europe_alliance",
          "149_allies_alliances_our al...",
          "216_denmark_danish_wines",
          "495_europe_europe is still_...",
          "268_russia_friendly_austria",
          "264_japan_of japan_revision",
          "534_interpreters_japan_japa...",
          "330_intercourse_the two cou...",
          "127_the two_between the two...",
          "304_the two_between the two...",
          "475_spain_of spain_ratifica...",
          "109_of ghent_ghent_treaty o...",
          "197_treaty_the two governme...",
          "115_insurrection_revolution...",
          "449_civil war_civil_civil w...",
          "175_neutrality_european_of ...",
          "388_democratic_latin_free e...",
          "57_slavery_slaves_of slavery",
          "107_kansas_of kansas_slavery",
          "417_the territories_territo...",
          "201_utah_of utah_mormons",
          "517_oregon_in oregon_territ...",
          "24_lands_public lands_the p...",
          "120_acres_acres of_acres were",
          "59_fortifications_coast_def...",
          "501_the hudsons_the hudsons...",
          "87_boundary_line_british",
          "221_border_crossings_illegal",
          "434_lien_pacific_kansas pac...",
          "391_louisiana_of louisiana_...",
          "528_florida_florida and_marys",
          "43_flag_vessels_maritime",
          "321_the slave_the slave tra...",
          "199_fishermen_fishing_fishe...",
          "290_the mediterranean_medit...",
          "318_coal_operators and_oper...",
          "456_steamers_war steamers_i...",
          "195_shipping_ships_foreign",
          "247_vessels_spanish_spanish...",
          "454_vessels_vessels and_dis...",
          "252_constitution_the consti...",
          "11_the senate and_senate an...",
          "128_the constitution_consti...",
          "203_constitution_the consti...",
          "147_congress_session_the ex...",
          "278_congress_this congress_...",
          "41_urge_urge the_congress",
          "100_senate_the senate_to th...",
          "129_elections_lobbyists_con...",
          "60_election_electors_suffrage",
          "382_election_constitution_g...",
          "155_of the treasury_the tre...",
          "95_secretary of war_of war_...",
          "123_of the interior_the int...",
          "270_department of justice_o...",
          "339_judges_judicial_court",
          "419_consuls_consul_consul g...",
          "485_residences_diplomatic s...",
          "355_minister_our minister_o...",
          "409_president_vice presiden...",
          "426_emperor_the emperor_of ...",
          "44_naturalization_citizensh...",
          "210_local_and local_state a...",
          "74_the british_british_the ...",
          "468_canada_of canada_canadi...",
          "142_united nations_the unit...",
          "314_american republics_repu...",
          "126_union_the union_of the ...",
          "190_the state of_of our uni...",
          "211_polygamy_of polygamy_utah",
          "139_census_the census_of th...",
          "504_population_our populati...",
          "230_conference_conferences_...",
          "78_arbitration_court_intern...",
          "316_conference_the conferen...",
          "398_celebration_celebration...",
          "499_memorial_monument_bridge",
          "349_banks_with capital_nati...",
          "358_capital_city_beauty",
          "187_expedition_the expediti...",
          "42_hon_john_william",
          "508_florida_in florida_gene...",
          "58_exposition_exhibition_th...",
          "461_chamber_this chamber_hi...",
          "88_1980_the 1980_1974",
          "192_bicentennial_celebratio...",
          "343_disease_of disease_our ...",
          "406_aids_hiv_hiv aids",
          "2_indian_indians_tribes",
          "39_immigration_immigrants_o...",
          "118_refugees_refugee_displa...",
          "52_environmental_environmen...",
          "66_conservation_resources_n...",
          "102_oil_foreign oil_of oil",
          "114_cattle_inspection_food",
          "460_tobacco_cigarettes_toba...",
          "164_wool_the wool_wools",
          "332_from customs_customs_fr...",
          "520_distilled_distilled spi...",
          "244_slave_slave trade_afric...",
          "379_sugar_international sug...",
          "135_economy_expenditure_eco...",
          "476_free enterprise_enterpr...",
          "27_economic_economy_recession",
          "351_economy_highly complex_...",
          "92_developing_developing na...",
          "112_economy_world_the world",
          "327_economic_international ...",
          "350_employment_full_product...",
          "392_udag_cdbg_udag program",
          "498_industrial_industrial e...",
          "80_cities_infrastructure_ou...",
          "291_zones_empowerment_empow...",
          "117_building_library_firepr...",
          "397_trucking_the trucking_r...",
          "14_trade_markets_agreements",
          "64_exports_imports_value of",
          "237_relief_disasters_disaster",
          "526_of property was_damage_...",
          "72_cable_communication_the ...",
          "151_guns_inch_12 inch",
          "176_gun_guns_brady",
          "383_salvation of our_and al...",
          "524_self defense_self_of se...",
          "186_they_crisis_them",
          "474_tonight we must_forge n...",
          "-1_the_of_to",
          "527_realism_reason and_to r...",
          "525_of this subject_subject...",
          "473_trade_of trade_aloofness",
          "500_many are_are unable_and...",
          "93_providence_blessings_div...",
          "424_of whom_were saved and_...",
          "6_he_she_his",
          "428_tonight_mean to speak_t...",
          "207_your_my_you",
          "132_your_subject_attention",
          "510_satisfactory adjustment...",
          "267_sacrifice_they sacrific...",
          "359_choices_choice_to fork in",
          "86_communist_the communist_...",
          "374_anarchist_the anarchist...",
          "396_law can_law_the law",
          "73_freedom_of freedom_freed...",
          "134_democracy_liberty_democ...",
          "389_change_ago this month_o...",
          "423_march_executive order d...",
          "521_american policy_an amer...",
          "145_leadership_american lea...",
          "131_bipartisan_congress_the...",
          "232_politics_better politic...",
          "218_the death penalty_death...",
          "263_crimes_lawbreaker_the m...",
          "333_lynching_of lynching_cr...",
          "36_crime_police_law enforce...",
          "179_criminal_code_offenses",
          "99_civil rights_civil_rights",
          "285_human rights_human_rights",
          "471_marriage_of marriage_ac...",
          "477_man_raise the ethical_t...",
          "422_conclusions_speculation...",
          "519_answerable_in such case...",
          "337_belligerent rights_of b...",
          "514_corruption_measures to ...",
          "266_ice_gang_ms 13",
          "185_officers and men_and me...",
          "307_men_enlisted_army",
          "47_defense_military_forces",
          "160_armed forces_forces_armed",
          "10_army_the army_officers",
          "188_corps_peace corps_ameri...",
          "387_limitation_limitation o...",
          "245_weapons_production_fire...",
          "124_nuclear_nuclear weapons...",
          "325_salt_salt ii_ii",
          "365_disarmament_agreement_o...",
          "506_weapons_regimes_of mass...",
          "26_war_aggression_the war",
          "312_enemies_our enemies_enemy",
          "76_relations_our relations_...",
          "289_security_threat_the sec...",
          "491_threats_threats and_nob...",
          "217_autocracy_of democracy_...",
          "242_liberty_patriotism_its",
          "490_goal_and independent st...",
          "144_colonies_british_the co...",
          "505_prisoners of war_prison...",
          "7_america_we_americans",
          "28_foreign_foreign policy_n...",
          "103_emigrants_emigration_te...",
          "287_rights_other powers_rep...",
          "496_canada_british_upper ca...",
          "277_human resources_economi...",
          "322_poverty_war on poverty_...",
          "143_prosperity_well being_w...",
          "448_as we_great society_the...",
          "336_poverty_hunger_hunger and",
          "370_resources_fertile_to su...",
          "411_trust_washington_trust by",
          "489_posts_such post_posts at",
          "9_corporations_business_int...",
          "478_within the capacity_pro...",
          "516_the states_moneys to be...",
          "67_government_government th...",
          "121_the people_government_g...",
          "375_organization_municipal_...",
          "98_local_community developm...",
          "493_public works_works_fede...",
          "421_deficit_our trade defic...",
          "484_bonds_surplus_of bonds",
          "408_finances_financial_the ...",
          "219_money_public money_the ...",
          "380_the public debt_public ...",
          "178_post office_post_the po...",
          "235_notes_bonds_issue",
          "180_duties_article_duty",
          "182_revenue_articles_the re...",
          "368_tax_the tax_reduction",
          "222_retirement_social secur...",
          "532_need_on those who_those...",
          "255_offices_the appointing ...",
          "315_my_my purpose_proclamat...",
          "280_the marshal_the inspect...",
          "522_legations_the legations...",
          "529_that we relieve_we reli...",
          "533_my duty_it my duty_it my",
          "96_subject_congress_attenti...",
          "122_appropriation_recommend...",
          "462_consular_reports_consul...",
          "494_charters_intelligence_i...",
          "334_consolidation_consolida...",
          "55_regulatory_regulations_c...",
          "56_reorganization_departmen...",
          "395_to the congress_special...",
          "53_commission_the commissio...",
          "208_report_the report_will ...",
          "360_compensation_salaries_t...",
          "161_competitive_examination...",
          "399_inspection_inspectors_s...",
          "158_speaker mr_mr speaker_s...",
          "85_mr mr_mr mr mr_mr",
          "300_mr mr_mr_mr mr mr",
          "324_shelby__",
          "213_thank you thank_you tha...",
          "246_much thank_very much th...",
          "253_applause_applause thank...",
          "229_thank you_thank_you",
          "453_good night_thank_you for",
          "200_bless_god bless_god",
          "377_thank_for being here_be...",
          "435_eisenhower_eisenhower e...",
          "205_president mr_mr preside...",
          "305_president the president...",
          "369_vi_gen_vi vi",
          "481_iv iv_iv_iv iv iv",
          "384_vii_ix vii_ix",
          "381_iii_iii iii_iii iii iii",
          "403_ii ii_ii ii ii_ii",
          "233_domingo_santo domingo_s...",
          "371_lawrence_lawrence water...",
          "171_atomic_atomic energy_of...",
          "394_combination_combination...",
          "83_programs_program_these p...",
          "502_audience_audience membe...",
          "169___",
          "206___",
          "239_10_you none_24 278 26",
          "317_182_49 whatever the_wha...",
          "357_third third_third_third...",
          "437_dwight_dwight dwight_dw...",
          "225_recommendation_recommen...",
          "293_please_please stand_stand",
          "299_this comment_but also a...",
          "168_iran_of iran_iranian",
          "313_afghanistan_soviet_the ...",
          "156_soviet_the soviet_the s...",
          "189_soviet_the soviet_the s...",
          "157_latin_latin america_sou...",
          "49_chile_peru_of chile",
          "170_honduras_of honduras_ce...",
          "125_africa_african_majority...",
          "249_liberia_of liberia_in l...",
          "363_spain_amistad_the amistad",
          "4_mexico_mexican_texas",
          "130_venezuela_of venezuela_...",
          "338_lebanon_in lebanon_the ...",
          "385_tunis_algiers_morocco",
          "292_mountains_the mountains...",
          "194_the the the_the the_the...",
          "262_japanese_the japanese_sea",
          "236_japan_japanese_the japa...",
          "450_siam_from siam_siamese",
          "108_europe_european_of europe",
          "146_israel_israel and_peace",
          "105_vietnam_in vietnam_sout...",
          "162_korea_north korea_korean",
          "410_asean_asia_southeast",
          "33_french_france_the french",
          "402_belgium_with belgium_be...",
          "400_great britain_britain_w...",
          "511_with france_france_with...",
          "16_china_chinese_the chinese",
          "372_hemisphere_western hemi...",
          "234_brazil_of brazil_empire...",
          "45_spain_of spain_with spain",
          "436_portugal_portuguese_the...",
          "298_italian_italy_the italian",
          "154_austria_of austria_hung...",
          "97_turkey_ottoman_turkish",
          "455_greece_of greece_greeks",
          "46_philippine_islands_the p...",
          "260_samoa_samoan_the samoan",
          "38_islands_the islands_island",
          "110_hawaii_of hawaii_hawaiian",
          "286_rico_porto_porto rico",
          "439_porto rico_porto_rico",
          "174_of panama_panama_isthmus",
          "23_cuba_of cuba_in cuba",
          "119_nicaragua_of nicaragua_...",
          "427_nicaragua_costa_of nica...",
          "75_district_the district_of...",
          "329_washington_city_the city",
          "463_alaska_alaska lands_in ...",
          "150_alaska_of alaska_in ala...",
          "296_new mexico_arizona_of n...",
          "442_road_maysville_the mays...",
          "470_survey_coast_the coast",
          "37_mississippi_the mississi...",
          "295_river_valley_great river",
          "50_canal_the canal_of the c...",
          "248_canal_panama_nicaragua",
          "152_seals_seal_fur",
          "243_pacific_the pacific_coast",
          "503_career education_career...",
          "193_experiment_methods_expe...",
          "61_technology_science_and t...",
          "204_science_scientific_disc...",
          "348_mental health_mental_he...",
          "347_health_prevention_promo...",
          "472_safety_health and safet...",
          "48_drug_drugs_heroin",
          "487_opium_the opium_of the ...",
          "136_quarantine_fever_sanitary",
          "228_cancer_cancer and_medical",
          "273_medical_of doctors_doct...",
          "441_copy_copy of_copy of this",
          "512_copy_copy of_the procla...",
          "407_system_right system_the...",
          "509_plan_this plan_proposal...",
          "288_pledge_pledge to_my part",
          "256_negotiation_the negotia...",
          "415_this invitation_decline...",
          "447_proposals_proposals tha...",
          "326_vaccinated_vaccination_...",
          "209_remedy_such course_the ...",
          "328_need is_the need is_can...",
          "429_they need_help they_the...",
          "445_recovery_recovery we so...",
          "457_quit_quit we_old and true",
          "433_be solved_solved_problem",
          "458_thing to do_right thing...",
          "0_we_do_let",
          "320_laughter_applause_laugh...",
          "342_intelligence_intelligen...",
          "354_peace_peace and well_an...",
          "444_it undermines_undermine...",
          "153_danger_danger is_dangers",
          "416_fear_fear is_is fear",
          "32_peace_of peace_for peace",
          "497_at peace_is at peace_co...",
          "362_evil_protect their post...",
          "535_hayti_in hayti_of hayti",
          "404_differences_our differe...",
          "390_go on fighting_on fight...",
          "483_isolationism_isolation_...",
          "63_forest_timber_forests",
          "310_parks_national parks_na...",
          "198_fisheries_fish_the fish...",
          "438_light houses_houses_light",
          "94_rural_rural development_...",
          "163_roads_road_good roads",
          "393_highway_interstate_high...",
          "79_space_in space_shuttle",
          "425_satellite_satellites_we...",
          "106_missile_missiles_ballis...",
          "202_planes_aircraft_aviation",
          "323_hazardous_hazardous was...",
          "459_nitrates_nitrogen_produ...",
          "367_solar_solar energy_energy",
          "21_energy_clean_of energy",
          "116_nuclear_of nuclear_nucl...",
          "466_coal_the coal_lease",
          "29_water_irrigation_reclama...",
          "220_mineral_the mineral_mines",
          "3_farm_agriculture_agricult...",
          "507_soil_conservation_soil ...",
          "22_courts_court_circuit",
          "530_judges_salaries_salarie...",
          "159_penitentiary_prison_pri...",
          "515_criminal_criminal code_...",
          "340_policy_this policy_poli...",
          "378_agenda_an agenda_agenda...",
          "308_veto_item veto_line item",
          "469_my administration will_...",
          "69_claims_these claims_of c...",
          "215_injunction_injunctions_...",
          "81_legislation_law_enacted",
          "401_legislation_such legisl...",
          "214_rights amendment_equal ...",
          "480_constitution_the consti...",
          "223_extradition_of extradit...",
          "284_monroe_monroe doctrine_...",
          "331_the white house_white h...",
          "464_the smithsonian_smithso...",
          "265_toronto the long_fox of...",
          "452_new covenant_covenant_t...",
          "196_negro_colored_the negro",
          "440_kongo_the kongo_of the ...",
          "531_expires_expires on_expi...",
          "356_by me on_recommended by...",
          "413_august_on august_mr on ...",
          "261_eight_eight hour_hour",
          "181_her_she_with her",
          "319_second second_second se...",
          "271_debate_debates_debate is",
          "432_abortion_unborn_the unb...",
          "30_inflation_of inflation_i...",
          "269_price_prices_controls",
          "420_prices_food prices_food",
          "167_minimum wage_minimum_wage",
          "345_interest rates_rates_in...",
          "276_minority_minority busin...",
          "275_small business_small_bu...",
          "451_small business_small_bu...",
          "301_postal savings_savings_...",
          "373_sinking fund_sinking_th...",
          "34_tariff_the tariff_of the...",
          "482_airline_deregulation_fa...",
          "17_banks_bank_banking",
          "272_monetary_international ...",
          "279_copyright_international...",
          "366_public domain_domain_th...",
          "306_patent_the patent_the p...",
          "353_patents_patent_includin...",
          "140_liability_employers lia...",
          "165_privacy_of privacy_priv...",
          "240_handicapped_disabled_th...",
          "446_earmarks_earmark_of ear...",
          "352_medicaid_children_chap",
          "364_tax credit_credit_child",
          "258_income_tax_family of four",
          "191_tax_inheritance_inherit...",
          "25_tax_taxes_the tax",
          "104_taxation_of taxation_ta...",
          "82_debt_000_000 000",
          "148_debt_indebtedness_debt is",
          "281_debt_national debt_debt...",
          "492_fiscal year_fiscal_was ...",
          "254_receipts into the_recei...",
          "386_money orders_orders_mon...",
          "518_receipts from_the recei...",
          "224_defense_defense budget_...",
          "311_defense_defense spendin...",
          "8_budget_spending_deficit",
          "111_budget_billion_million",
          "54_expenditures_june 30_est...",
          "65_dollars_1947_fiscal year...",
          "84_silver_coinage_of silver",
          "90_gold_of gold_gold reserve",
          "227_silver_of silver_coined",
          "430_in 1925_1925_about bill...",
          "40_currency_the currency_ou...",
          "294_pounds_pork_cattle",
          "513_money of all_all kinds ...",
          "488_baby einstein_einstein_...",
          "486_halfway measures_measur...",
          "257_billion_military_cost",
          "443_times greater than_grea...",
          "431_rates_rate_be just",
          "137_bonds_per cent_cent",
          "226_percent_per_per cent",
          "467_paycheck_paycheck to_fa...",
          "91_jobs_million_new jobs",
          "113_income_wages_percent",
          "282_unemployment_unemployme...",
          "1_education_schools_school",
          "251_internet_the internet_e...",
          "166_humanities_arts_the arts",
          "303_television_public broad...",
          "344_newspapers_advertising_...",
          "20_pension_pensions_the pen...",
          "259_older americans_older_a...",
          "414_middle class_middle_class",
          "465_bureau_public health_he...",
          "18_health_care_health care",
          "183_medicare_seniors_prescr...",
          "89_food_hunger_hunger and",
          "212_food_food stamp_stamp",
          "341_it injures_injures_acti...",
          "77_women_of women_for women",
          "283_child labor_child_labor",
          "335_equal employment_equal ...",
          "141_training_youth_employment",
          "13_labor_of labor_wage",
          "231_jobs_unemployed_jobs just",
          "361_accidents_no fault_auto...",
          "376_disaster_flood_assistance",
          "479_needs were unaddressed_...",
          "51_welfare_welfare reform_w...",
          "71_social security_social_s...",
          "19_housing_home_the housing",
          "346_energy_energy assistanc...",
          "101_consular_consular servi...",
          "70_civil service_civil_the ...",
          "302_national service_nation...",
          "297_the medical_medical_of ...",
          "309_nurses_of nurses_beds",
          "35_veterans_our veterans_va",
          "412_mobilization_mobilizati...",
          "133_merchant marine_merchan...",
          "5_navy_the navy_of the navy",
          "172_engineers_of engineers_...",
          "238_free delivery_post offi...",
          "274_postal_postal union_cou...",
          "15_postmaster_postmaster ge...",
          "173_mail_ocean mail_ocean",
          "405_construction_of constru...",
          "418_buildings_public buildi...",
          "31_railroads_railroad_inter...",
          "62_transportation_transit_m...",
          "241_manufactures_manufactur...",
          "250_auto_auto industry_back",
          "177_miles_routes_mail",
          "523_freight_freight costs_r..."
         ],
         "tickvals": [
          -5,
          -15,
          -25,
          -35,
          -45,
          -55,
          -65,
          -75,
          -85,
          -95,
          -105,
          -115,
          -125,
          -135,
          -145,
          -155,
          -165,
          -175,
          -185,
          -195,
          -205,
          -215,
          -225,
          -235,
          -245,
          -255,
          -265,
          -275,
          -285,
          -295,
          -305,
          -315,
          -325,
          -335,
          -345,
          -355,
          -365,
          -375,
          -385,
          -395,
          -405,
          -415,
          -425,
          -435,
          -445,
          -455,
          -465,
          -475,
          -485,
          -495,
          -505,
          -515,
          -525,
          -535,
          -545,
          -555,
          -565,
          -575,
          -585,
          -595,
          -605,
          -615,
          -625,
          -635,
          -645,
          -655,
          -665,
          -675,
          -685,
          -695,
          -705,
          -715,
          -725,
          -735,
          -745,
          -755,
          -765,
          -775,
          -785,
          -795,
          -805,
          -815,
          -825,
          -835,
          -845,
          -855,
          -865,
          -875,
          -885,
          -895,
          -905,
          -915,
          -925,
          -935,
          -945,
          -955,
          -965,
          -975,
          -985,
          -995,
          -1005,
          -1015,
          -1025,
          -1035,
          -1045,
          -1055,
          -1065,
          -1075,
          -1085,
          -1095,
          -1105,
          -1115,
          -1125,
          -1135,
          -1145,
          -1155,
          -1165,
          -1175,
          -1185,
          -1195,
          -1205,
          -1215,
          -1225,
          -1235,
          -1245,
          -1255,
          -1265,
          -1275,
          -1285,
          -1295,
          -1305,
          -1315,
          -1325,
          -1335,
          -1345,
          -1355,
          -1365,
          -1375,
          -1385,
          -1395,
          -1405,
          -1415,
          -1425,
          -1435,
          -1445,
          -1455,
          -1465,
          -1475,
          -1485,
          -1495,
          -1505,
          -1515,
          -1525,
          -1535,
          -1545,
          -1555,
          -1565,
          -1575,
          -1585,
          -1595,
          -1605,
          -1615,
          -1625,
          -1635,
          -1645,
          -1655,
          -1665,
          -1675,
          -1685,
          -1695,
          -1705,
          -1715,
          -1725,
          -1735,
          -1745,
          -1755,
          -1765,
          -1775,
          -1785,
          -1795,
          -1805,
          -1815,
          -1825,
          -1835,
          -1845,
          -1855,
          -1865,
          -1875,
          -1885,
          -1895,
          -1905,
          -1915,
          -1925,
          -1935,
          -1945,
          -1955,
          -1965,
          -1975,
          -1985,
          -1995,
          -2005,
          -2015,
          -2025,
          -2035,
          -2045,
          -2055,
          -2065,
          -2075,
          -2085,
          -2095,
          -2105,
          -2115,
          -2125,
          -2135,
          -2145,
          -2155,
          -2165,
          -2175,
          -2185,
          -2195,
          -2205,
          -2215,
          -2225,
          -2235,
          -2245,
          -2255,
          -2265,
          -2275,
          -2285,
          -2295,
          -2305,
          -2315,
          -2325,
          -2335,
          -2345,
          -2355,
          -2365,
          -2375,
          -2385,
          -2395,
          -2405,
          -2415,
          -2425,
          -2435,
          -2445,
          -2455,
          -2465,
          -2475,
          -2485,
          -2495,
          -2505,
          -2515,
          -2525,
          -2535,
          -2545,
          -2555,
          -2565,
          -2575,
          -2585,
          -2595,
          -2605,
          -2615,
          -2625,
          -2635,
          -2645,
          -2655,
          -2665,
          -2675,
          -2685,
          -2695,
          -2705,
          -2715,
          -2725,
          -2735,
          -2745,
          -2755,
          -2765,
          -2775,
          -2785,
          -2795,
          -2805,
          -2815,
          -2825,
          -2835,
          -2845,
          -2855,
          -2865,
          -2875,
          -2885,
          -2895,
          -2905,
          -2915,
          -2925,
          -2935,
          -2945,
          -2955,
          -2965,
          -2975,
          -2985,
          -2995,
          -3005,
          -3015,
          -3025,
          -3035,
          -3045,
          -3055,
          -3065,
          -3075,
          -3085,
          -3095,
          -3105,
          -3115,
          -3125,
          -3135,
          -3145,
          -3155,
          -3165,
          -3175,
          -3185,
          -3195,
          -3205,
          -3215,
          -3225,
          -3235,
          -3245,
          -3255,
          -3265,
          -3275,
          -3285,
          -3295,
          -3305,
          -3315,
          -3325,
          -3335,
          -3345,
          -3355,
          -3365,
          -3375,
          -3385,
          -3395,
          -3405,
          -3415,
          -3425,
          -3435,
          -3445,
          -3455,
          -3465,
          -3475,
          -3485,
          -3495,
          -3505,
          -3515,
          -3525,
          -3535,
          -3545,
          -3555,
          -3565,
          -3575,
          -3585,
          -3595,
          -3605,
          -3615,
          -3625,
          -3635,
          -3645,
          -3655,
          -3665,
          -3675,
          -3685,
          -3695,
          -3705,
          -3715,
          -3725,
          -3735,
          -3745,
          -3755,
          -3765,
          -3775,
          -3785,
          -3795,
          -3805,
          -3815,
          -3825,
          -3835,
          -3845,
          -3855,
          -3865,
          -3875,
          -3885,
          -3895,
          -3905,
          -3915,
          -3925,
          -3935,
          -3945,
          -3955,
          -3965,
          -3975,
          -3985,
          -3995,
          -4005,
          -4015,
          -4025,
          -4035,
          -4045,
          -4055,
          -4065,
          -4075,
          -4085,
          -4095,
          -4105,
          -4115,
          -4125,
          -4135,
          -4145,
          -4155,
          -4165,
          -4175,
          -4185,
          -4195,
          -4205,
          -4215,
          -4225,
          -4235,
          -4245,
          -4255,
          -4265,
          -4275,
          -4285,
          -4295,
          -4305,
          -4315,
          -4325,
          -4335,
          -4345,
          -4355,
          -4365,
          -4375,
          -4385,
          -4395,
          -4405,
          -4415,
          -4425,
          -4435,
          -4445,
          -4455,
          -4465,
          -4475,
          -4485,
          -4495,
          -4505,
          -4515,
          -4525,
          -4535,
          -4545,
          -4555,
          -4565,
          -4575,
          -4585,
          -4595,
          -4605,
          -4615,
          -4625,
          -4635,
          -4645,
          -4655,
          -4665,
          -4675,
          -4685,
          -4695,
          -4705,
          -4715,
          -4725,
          -4735,
          -4745,
          -4755,
          -4765,
          -4775,
          -4785,
          -4795,
          -4805,
          -4815,
          -4825,
          -4835,
          -4845,
          -4855,
          -4865,
          -4875,
          -4885,
          -4895,
          -4905,
          -4915,
          -4925,
          -4935,
          -4945,
          -4955,
          -4965,
          -4975,
          -4985,
          -4995,
          -5005,
          -5015,
          -5025,
          -5035,
          -5045,
          -5055,
          -5065,
          -5075,
          -5085,
          -5095,
          -5105,
          -5115,
          -5125,
          -5135,
          -5145,
          -5155,
          -5165,
          -5175,
          -5185,
          -5195,
          -5205,
          -5215,
          -5225,
          -5235,
          -5245,
          -5255,
          -5265,
          -5275,
          -5285,
          -5295,
          -5305,
          -5315,
          -5325,
          -5335,
          -5345,
          -5355,
          -5365
         ],
         "type": "linear",
         "zeroline": false
        }
       }
      }
     },
     "metadata": {},
     "output_type": "display_data"
    }
   ],
   "source": [
    "model.visualize_hierarchy()"
   ]
  },
  {
   "cell_type": "code",
   "execution_count": null,
   "metadata": {},
   "outputs": [],
   "source": []
  },
  {
   "cell_type": "code",
   "execution_count": null,
   "metadata": {},
   "outputs": [],
   "source": []
  },
  {
   "cell_type": "markdown",
   "metadata": {},
   "source": [
    "### Importing Data"
   ]
  },
  {
   "cell_type": "code",
   "execution_count": 1,
   "metadata": {},
   "outputs": [],
   "source": [
    "import pandas as pd\n",
    "data = pd.read_csv('abcnews-date-text.csv', error_bad_lines = False)\n",
    "data_text = data[['headline_text']]\n",
    "data_text['index'] = data_text.index\n",
    "documents = data_text"
   ]
  },
  {
   "cell_type": "markdown",
   "metadata": {},
   "source": [
    "### Looking to a DataFrame"
   ]
  },
  {
   "cell_type": "code",
   "execution_count": 2,
   "metadata": {},
   "outputs": [
    {
     "data": {
      "text/html": [
       "<div>\n",
       "<style scoped>\n",
       "    .dataframe tbody tr th:only-of-type {\n",
       "        vertical-align: middle;\n",
       "    }\n",
       "\n",
       "    .dataframe tbody tr th {\n",
       "        vertical-align: top;\n",
       "    }\n",
       "\n",
       "    .dataframe thead th {\n",
       "        text-align: right;\n",
       "    }\n",
       "</style>\n",
       "<table border=\"1\" class=\"dataframe\">\n",
       "  <thead>\n",
       "    <tr style=\"text-align: right;\">\n",
       "      <th></th>\n",
       "      <th>headline_text</th>\n",
       "      <th>index</th>\n",
       "    </tr>\n",
       "  </thead>\n",
       "  <tbody>\n",
       "    <tr>\n",
       "      <th>0</th>\n",
       "      <td>aba decides against community broadcasting lic...</td>\n",
       "      <td>0</td>\n",
       "    </tr>\n",
       "    <tr>\n",
       "      <th>1</th>\n",
       "      <td>act fire witnesses must be aware of defamation</td>\n",
       "      <td>1</td>\n",
       "    </tr>\n",
       "    <tr>\n",
       "      <th>2</th>\n",
       "      <td>a g calls for infrastructure protection summit</td>\n",
       "      <td>2</td>\n",
       "    </tr>\n",
       "    <tr>\n",
       "      <th>3</th>\n",
       "      <td>air nz staff in aust strike for pay rise</td>\n",
       "      <td>3</td>\n",
       "    </tr>\n",
       "    <tr>\n",
       "      <th>4</th>\n",
       "      <td>air nz strike to affect australian travellers</td>\n",
       "      <td>4</td>\n",
       "    </tr>\n",
       "  </tbody>\n",
       "</table>\n",
       "</div>"
      ],
      "text/plain": [
       "                                       headline_text  index\n",
       "0  aba decides against community broadcasting lic...      0\n",
       "1     act fire witnesses must be aware of defamation      1\n",
       "2     a g calls for infrastructure protection summit      2\n",
       "3           air nz staff in aust strike for pay rise      3\n",
       "4      air nz strike to affect australian travellers      4"
      ]
     },
     "execution_count": 2,
     "metadata": {},
     "output_type": "execute_result"
    }
   ],
   "source": [
    "documents.head()"
   ]
  },
  {
   "cell_type": "code",
   "execution_count": 3,
   "metadata": {},
   "outputs": [
    {
     "data": {
      "text/plain": [
       "(1103663, 2)"
      ]
     },
     "execution_count": 3,
     "metadata": {},
     "output_type": "execute_result"
    }
   ],
   "source": [
    "documents.shape"
   ]
  },
  {
   "cell_type": "markdown",
   "metadata": {},
   "source": [
    "### Loading gensim and nltk libraries"
   ]
  },
  {
   "cell_type": "markdown",
   "metadata": {},
   "source": [
    "Gensim - is billed as a Natural Language Processing package that does ‘Topic Modeling for Humans’. But it is practically much more than that. It is a leading and a state-of-the-art package for processing texts, working with word vector models (such as Word2Vec, FastText etc) and for building topic models.\n",
    "https://www.machinelearningplus.com/nlp/gensim-tutorial/#top"
   ]
  },
  {
   "cell_type": "markdown",
   "metadata": {},
   "source": [
    "nltk - Natural Language Toolkit\n",
    "http://www.nltk.org/"
   ]
  },
  {
   "cell_type": "code",
   "execution_count": 4,
   "metadata": {},
   "outputs": [
    {
     "name": "stdout",
     "output_type": "stream",
     "text": [
      "[nltk_data] Downloading package wordnet to\n",
      "[nltk_data]     C:\\Users\\Михаил\\AppData\\Roaming\\nltk_data...\n",
      "[nltk_data]   Package wordnet is already up-to-date!\n"
     ]
    },
    {
     "data": {
      "text/plain": [
       "True"
      ]
     },
     "execution_count": 4,
     "metadata": {},
     "output_type": "execute_result"
    }
   ],
   "source": [
    "import gensim\n",
    "from gensim.utils import simple_preprocess\n",
    "from gensim.parsing.preprocessing import STOPWORDS\n",
    "from nltk.stem import WordNetLemmatizer, SnowballStemmer\n",
    "from nltk.stem.porter import *\n",
    "import numpy as np\n",
    "np.random.seed(2018)\n",
    "\n",
    "import nltk\n",
    "nltk.download('wordnet')"
   ]
  },
  {
   "cell_type": "markdown",
   "metadata": {},
   "source": [
    "### Functions for lemmatization and stemming"
   ]
  },
  {
   "cell_type": "code",
   "execution_count": 5,
   "metadata": {},
   "outputs": [],
   "source": [
    "stemmer = nltk.stem.snowball.EnglishStemmer()\n",
    "def lemmatize_stemming(text):\n",
    "    return stemmer.stem(WordNetLemmatizer().lemmatize(text, pos = 'v'))\n",
    "def preprocess(text):\n",
    "    result = []\n",
    "    for token in gensim.utils.simple_preprocess(text):\n",
    "        if token not in gensim.parsing.preprocessing.STOPWORDS and len(token) > 3:\n",
    "            result.append(lemmatize_stemming(token))\n",
    "    return result\n",
    "def lemmatize(text):\n",
    "    a= []\n",
    "    for token in gensim.utils.simple_preprocess(text):\n",
    "        a.append(WordNetLemmatizer().lemmatize(token, pos = 'v'))\n",
    "    return a"
   ]
  },
  {
   "cell_type": "markdown",
   "metadata": {},
   "source": [
    "### Selecting a document to preview after preprocessing"
   ]
  },
  {
   "cell_type": "markdown",
   "metadata": {},
   "source": [
    "TODO  = upgrade stemmers and lemmatizers to correct result from 'residents', 'heavy' etc. "
   ]
  },
  {
   "cell_type": "code",
   "execution_count": 6,
   "metadata": {},
   "outputs": [
    {
     "name": "stdout",
     "output_type": "stream",
     "text": [
      "original document: \n",
      "['rain', 'helps', 'dampen', 'bushfires']\n",
      "lemmatized document:\n",
      "['rain', 'help', 'dampen', 'bushfires']\n",
      "tokenized and lemmatized document: \n",
      "['rain', 'help', 'dampen', 'bushfir']\n"
     ]
    }
   ],
   "source": [
    "doc_sample = documents[documents['index'] == 4310].values[0][0]\n",
    "print ('original document: ')\n",
    "words = []\n",
    "for word in doc_sample.split(' '):\n",
    "    words.append(word)\n",
    "print (words)\n",
    "print ('lemmatized document:')\n",
    "print (lemmatize(doc_sample))\n",
    "print ('tokenized and lemmatized document: ')\n",
    "print (preprocess(doc_sample))"
   ]
  },
  {
   "cell_type": "code",
   "execution_count": 7,
   "metadata": {},
   "outputs": [
    {
     "data": {
      "text/plain": [
       "0            [decid, communiti, broadcast, licenc]\n",
       "1                               [wit, awar, defam]\n",
       "2           [call, infrastructur, protect, summit]\n",
       "3                      [staff, aust, strike, rise]\n",
       "4             [strike, affect, australian, travel]\n",
       "5               [ambiti, olsson, win, tripl, jump]\n",
       "6           [antic, delight, record, break, barca]\n",
       "7    [aussi, qualifi, stosur, wast, memphi, match]\n",
       "8            [aust, address, secur, council, iraq]\n",
       "9                         [australia, lock, timet]\n",
       "Name: headline_text, dtype: object"
      ]
     },
     "execution_count": 7,
     "metadata": {},
     "output_type": "execute_result"
    }
   ],
   "source": [
    "processed_docs = documents['headline_text'].map(preprocess)\n",
    "processed_docs.head(10)"
   ]
  },
  {
   "cell_type": "markdown",
   "metadata": {},
   "source": [
    "### Creating a bag of words"
   ]
  },
  {
   "cell_type": "code",
   "execution_count": 8,
   "metadata": {},
   "outputs": [],
   "source": [
    "dictionary = gensim.corpora.Dictionary(processed_docs)"
   ]
  },
  {
   "cell_type": "code",
   "execution_count": 9,
   "metadata": {},
   "outputs": [
    {
     "name": "stdout",
     "output_type": "stream",
     "text": [
      "0 broadcast\n",
      "1 communiti\n",
      "2 decid\n",
      "3 licenc\n",
      "4 awar\n",
      "5 defam\n",
      "6 wit\n",
      "7 call\n",
      "8 infrastructur\n",
      "9 protect\n",
      "10 summit\n"
     ]
    }
   ],
   "source": [
    "count = 0\n",
    "for k, v in dictionary.iteritems():\n",
    "    print (k, v)\n",
    "    count +=1\n",
    "    if count >10:\n",
    "        break"
   ]
  },
  {
   "cell_type": "markdown",
   "metadata": {},
   "source": [
    "### Filtering only the words that apeears in\n",
    "- less then 15 documents OR\n",
    "- more than 0.5 documents (fraction of totalcorpus size, not absolute value)\n",
    "- after the aboce two steps, keep only the first 100 000 most frequent tokens"
   ]
  },
  {
   "cell_type": "code",
   "execution_count": 10,
   "metadata": {},
   "outputs": [],
   "source": [
    "dictionary.filter_extremes(no_below = 15, no_above = 0.5, keep_n = 100000)"
   ]
  },
  {
   "cell_type": "markdown",
   "metadata": {},
   "source": [
    "### Creating dictionary for each doc in corpus"
   ]
  },
  {
   "cell_type": "code",
   "execution_count": 11,
   "metadata": {},
   "outputs": [],
   "source": [
    "bow_corpus = [dictionary.doc2bow(doc) for doc in processed_docs]\n"
   ]
  },
  {
   "cell_type": "code",
   "execution_count": 12,
   "metadata": {},
   "outputs": [
    {
     "data": {
      "text/plain": [
       "[(161, 1), (239, 1), (291, 1), (588, 1), (836, 1), (3549, 1), (3550, 1)]"
      ]
     },
     "execution_count": 12,
     "metadata": {},
     "output_type": "execute_result"
    }
   ],
   "source": [
    "bow_corpus[4310]"
   ]
  },
  {
   "cell_type": "code",
   "execution_count": 14,
   "metadata": {},
   "outputs": [
    {
     "name": "stdout",
     "output_type": "stream",
     "text": [
      "Word 76 (\"bushfir\") appears 1 time.\n",
      "Word 112 (\"help\") appears 1 time.\n",
      "Word 483 (\"rain\") appears 1 time.\n",
      "Word 4014 (\"dampen\") appears 1 time.\n"
     ]
    }
   ],
   "source": [
    "bow_doc_4310 = bow_corpus[4310]\n",
    "for i in range(len(bow_doc_4310)):\n",
    "    print (\"Word {} (\\\"{}\\\") appears {} time.\".format(bow_doc_4310[i][0], dictionary[bow_doc_4310[i][0]], \n",
    "bow_doc_4310[i][1]))"
   ]
  },
  {
   "cell_type": "markdown",
   "metadata": {},
   "source": [
    "### TF-IDF - term frequency-inverse document frequency\n",
    "https://en.wikipedia.org/wiki/Tf%E2%80%93idf"
   ]
  },
  {
   "cell_type": "code",
   "execution_count": 15,
   "metadata": {},
   "outputs": [],
   "source": [
    "from gensim import corpora, models\n",
    "\n",
    "tfidf = models.TfidfModel(bow_corpus)\n",
    "corpus_tfidf = tfidf[bow_corpus]"
   ]
  },
  {
   "cell_type": "code",
   "execution_count": 16,
   "metadata": {},
   "outputs": [
    {
     "name": "stdout",
     "output_type": "stream",
     "text": [
      "[(0, 0.5892908867507543),\n",
      " (1, 0.38929654337861147),\n",
      " (2, 0.4964985175717023),\n",
      " (3, 0.5046520327464028)]\n"
     ]
    }
   ],
   "source": [
    "from pprint import pprint\n",
    "for doc in corpus_tfidf:\n",
    "    pprint(doc)\n",
    "    break"
   ]
  },
  {
   "cell_type": "markdown",
   "metadata": {},
   "source": [
    "### Running LDA using bag of words"
   ]
  },
  {
   "cell_type": "code",
   "execution_count": 17,
   "metadata": {},
   "outputs": [],
   "source": [
    "lda_model2 = gensim.models.LdaMulticore(bow_corpus, num_topics = 10, id2word = dictionary, passes = 2, workers = 2)"
   ]
  },
  {
   "cell_type": "code",
   "execution_count": 19,
   "metadata": {},
   "outputs": [],
   "source": [
    "#lda_model3= gensim.models.LdaMulticore(bow_corpus, num_topics = 10, id2word = dictionary, passes = 2, workers = 3)"
   ]
  },
  {
   "cell_type": "code",
   "execution_count": 207,
   "metadata": {},
   "outputs": [],
   "source": [
    "#lda_model4 = gensim.models.LdaMulticore(bow_corpus, num_topics = 10, id2word = dictionary, passes = 2, workers = 4)"
   ]
  },
  {
   "cell_type": "code",
   "execution_count": 209,
   "metadata": {},
   "outputs": [],
   "source": [
    "#lda_model5 = gensim.models.LdaMulticore(bow_corpus, num_topics = 10, id2word = dictionary, passes = 2, workers = 5)"
   ]
  },
  {
   "cell_type": "markdown",
   "metadata": {},
   "source": [
    "### Saving and loading models for further analisys"
   ]
  },
  {
   "cell_type": "code",
   "execution_count": 225,
   "metadata": {},
   "outputs": [],
   "source": [
    "#lda_model2.save('lda2.model')\n",
    "#lda_model3.save('lda3.model')\n",
    "#lda_model4.save('lda4.model')\n",
    "#lda_model5.save('lda5.model')"
   ]
  },
  {
   "cell_type": "code",
   "execution_count": 231,
   "metadata": {},
   "outputs": [],
   "source": [
    "lda_model2 = models.LdaModel.load('lda2.model')\n",
    "lda_model3 = models.LdaModel.load('lda3.model')\n",
    "lda_model4 = models.LdaModel.load('lda4.model')\n",
    "lda_model5 = models.LdaModel.load('lda5.model')"
   ]
  },
  {
   "cell_type": "markdown",
   "metadata": {},
   "source": [
    "## Visualize WordClouds by topics"
   ]
  },
  {
   "cell_type": "code",
   "execution_count": 210,
   "metadata": {},
   "outputs": [],
   "source": [
    "from matplotlib import pyplot as plt\n",
    "from wordcloud import WordCloud, STOPWORDS\n",
    "import matplotlib.colors as mcolors\n",
    "\n",
    "%matplotlib inline"
   ]
  },
  {
   "cell_type": "code",
   "execution_count": 211,
   "metadata": {},
   "outputs": [],
   "source": [
    "stop_words = gensim.parsing.preprocessing.STOPWORDS\n"
   ]
  },
  {
   "cell_type": "code",
   "execution_count": 216,
   "metadata": {},
   "outputs": [],
   "source": [
    "topics2 = lda_model2.show_topics(formatted = False)\n",
    "topics3 = lda_model3.show_topics(formatted = False)\n",
    "topics4 = lda_model4.show_topics(formatted = False)\n",
    "topics5 = lda_model5.show_topics(formatted = False)\n",
    "\n",
    "def plot_WordCloud(topic):\n",
    "    cols = [color for name, color in mcolors.TABLEAU_COLORS.items()]\n",
    "    cloud = WordCloud(stopwords = stop_words,\n",
    "                      background_color ='black',\n",
    "                      width = 1200,\n",
    "                      height = 900,\n",
    "                      max_words = 25,\n",
    "                      colormap = 'tab10',\n",
    "                      color_func = lambda *args, **kwargs: cols[i],\n",
    "                      prefer_horizontal = 0\n",
    "                    )\n",
    "    \n",
    "    fig, axes = plt.subplots(5, 2, figsize=(30,50), sharex = True, sharey = True)\n",
    "    \n",
    "    for i, ax in enumerate(axes.flatten()):\n",
    "        fig.add_subplot(ax)\n",
    "        topic_words = dict(topic[i][1])\n",
    "        cloud.generate_from_frequencies(topic_words, max_font_size=300)\n",
    "        plt.gca().imshow(cloud)\n",
    "        plt.gca().set_title('Topic ' + str(i), fontdict=dict(size=64))\n",
    "        plt.gca().axis('off')\n",
    "\n",
    "\n",
    "    plt.subplots_adjust(wspace=0, hspace=0)\n",
    "    plt.axis('off')\n",
    "    plt.margins(x=0, y=0)\n",
    "    plt.tight_layout()\n",
    "    plt.show()"
   ]
  },
  {
   "cell_type": "code",
   "execution_count": 217,
   "metadata": {},
   "outputs": [],
   "source": [
    "from collections import Counter\n",
    "Flat_Data = [w for w_list in processed_docs for w in w_list]\n",
    "counter = Counter(Flat_Data)\n",
    "def plot_WordCounts(topics):\n",
    "    out = []\n",
    "    for i, topic in topics:\n",
    "        for word, weight in topic:\n",
    "            out.append([word, i, weight, counter[word]])\n",
    "\n",
    "    df = pd.DataFrame(out, columns = ['word', 'topic_id', 'importance', 'word_count'])\n",
    "\n",
    "    fig, axes = plt.subplots(5, 2, figsize=(30,60), sharey=True, dpi=40)\n",
    "    cols = [color for name, color in mcolors.TABLEAU_COLORS.items()]\n",
    "    for i, ax in enumerate(axes.flatten()):\n",
    "        ax.set_facecolor('black')\n",
    "        ax.bar(x='word', height=\"word_count\", data=df.loc[df.topic_id==i, :], color=cols[i], width=0.5, alpha=0.3, label='Word Count')\n",
    "        ax_twin = ax.twinx()\n",
    "        ax_twin.bar(x='word', height=\"importance\", data=df.loc[df.topic_id==i, :], color=cols[i], width=0.2, label='Weights')\n",
    "        ax.set_ylabel('Word Count', color=cols[i], fontsize = 40)\n",
    "        ax_twin.set_ylim(0, 0.05)\n",
    "        ax.set_ylim(0, 50000)\n",
    "        ax.set_title('Topic: ' + str(i), color=cols[i], fontsize=50)\n",
    "        ax.tick_params(axis='y', left=False)\n",
    "        ax.set_xticklabels(df.loc[df.topic_id==i, 'word'], color=cols[i], rotation=30, horizontalalignment= 'right', fontsize = 40)\n",
    "        ax.legend(loc='upper left', fontsize = 30, facecolor = 'white', edgecolor = 'black')\n",
    "        ax_twin.legend(loc='upper right', fontsize = 30, facecolor = 'white',edgecolor = 'black')\n",
    "        ax.tick_params(axis='y', colors='white', labelsize = 30)\n",
    "        \n",
    "      \n",
    "    fig.set_facecolor('black')    \n",
    "    fig.tight_layout(w_pad=2)    \n",
    "    fig.suptitle('Word Count and Importance of Topic Keywords', fontsize=80, y=1.05, color = 'white')    \n",
    "    plt.show()"
   ]
  },
  {
   "cell_type": "code",
   "execution_count": 232,
   "metadata": {},
   "outputs": [
    {
     "data": {
      "image/png": "[encoded data removed]",
      "text/plain": [
       "<Figure size 1200x2400 with 20 Axes>"
      ]
     },
     "metadata": {},
     "output_type": "display_data"
    }
   ],
   "source": [
    "plot_WordCounts(lda222.show_topics(formatted = False))"
   ]
  },
  {
   "cell_type": "code",
   "execution_count": 221,
   "metadata": {},
   "outputs": [
    {
     "name": "stdout",
     "output_type": "stream",
     "text": [
      "\n",
      "Score: 0.56716388463974\t \n",
      "Topic: 0.022*\"countri\" + 0.019*\"hour\" + 0.018*\"rural\" + 0.016*\"melbourn\" + 0.015*\"farmer\" + 0.014*\"servic\" + 0.013*\"busi\" + 0.012*\"communiti\" + 0.012*\"meet\" + 0.011*\"children\"\n",
      "\n",
      "Score: 0.27274397015571594\t \n",
      "Topic: 0.035*\"australia\" + 0.021*\"world\" + 0.018*\"test\" + 0.017*\"win\" + 0.011*\"beat\" + 0.010*\"turnbul\" + 0.010*\"time\" + 0.009*\"leagu\" + 0.009*\"race\" + 0.009*\"second\"\n",
      "\n",
      "Score: 0.020020021125674248\t \n",
      "Topic: 0.019*\"south\" + 0.017*\"coast\" + 0.016*\"north\" + 0.015*\"market\" + 0.014*\"china\" + 0.014*\"live\" + 0.013*\"australia\" + 0.012*\"west\" + 0.012*\"power\" + 0.012*\"gold\"\n",
      "\n",
      "Score: 0.020011361688375473\t \n",
      "Topic: 0.028*\"report\" + 0.021*\"school\" + 0.012*\"rise\" + 0.011*\"student\" + 0.010*\"game\" + 0.010*\"road\" + 0.010*\"royal\" + 0.010*\"lead\" + 0.009*\"build\" + 0.009*\"action\"\n",
      "\n",
      "Score: 0.02001054212450981\t \n",
      "Topic: 0.029*\"govern\" + 0.027*\"plan\" + 0.023*\"council\" + 0.016*\"water\" + 0.015*\"chang\" + 0.013*\"concern\" + 0.012*\"farm\" + 0.011*\"green\" + 0.009*\"say\" + 0.009*\"polit\"\n",
      "\n",
      "Score: 0.020010344684123993\t \n",
      "Topic: 0.047*\"polic\" + 0.028*\"charg\" + 0.025*\"court\" + 0.019*\"murder\" + 0.017*\"death\" + 0.016*\"woman\" + 0.016*\"face\" + 0.014*\"jail\" + 0.013*\"attack\" + 0.013*\"accus\"\n",
      "\n",
      "Score: 0.02001016028225422\t \n",
      "Topic: 0.025*\"australian\" + 0.018*\"warn\" + 0.015*\"kill\" + 0.015*\"break\" + 0.014*\"open\" + 0.011*\"hill\" + 0.011*\"leav\" + 0.010*\"final\" + 0.009*\"shark\" + 0.008*\"season\"\n",
      "\n",
      "Score: 0.020009934902191162\t \n",
      "Topic: 0.027*\"nation\" + 0.026*\"trump\" + 0.021*\"miss\" + 0.018*\"claim\" + 0.015*\"news\" + 0.013*\"push\" + 0.012*\"bank\" + 0.011*\"union\" + 0.011*\"million\" + 0.010*\"bodi\"\n",
      "\n",
      "Score: 0.02000989392399788\t \n",
      "Topic: 0.027*\"elect\" + 0.026*\"queensland\" + 0.019*\"health\" + 0.014*\"say\" + 0.010*\"donald\" + 0.010*\"minist\" + 0.010*\"labor\" + 0.010*\"tasmanian\" + 0.010*\"announc\" + 0.009*\"victorian\"\n",
      "\n",
      "Score: 0.020009871572256088\t \n",
      "Topic: 0.034*\"interview\" + 0.021*\"hospit\" + 0.018*\"dead\" + 0.011*\"john\" + 0.011*\"premier\" + 0.011*\"speak\" + 0.009*\"injur\" + 0.009*\"tasmania\" + 0.009*\"parliament\" + 0.009*\"emerg\"\n"
     ]
    }
   ],
   "source": [
    "for index, score in sorted(lda_model4[bow_corpus[4310]], key=lambda tup: -1*tup[1]):\n",
    "    print(\"\\nScore: {}\\t \\nTopic: {}\".format(score, lda_model4.print_topic(index, 10)))"
   ]
  },
  {
   "cell_type": "markdown",
   "metadata": {},
   "source": [
    "### Testing model on unseen document"
   ]
  },
  {
   "cell_type": "code",
   "execution_count": 223,
   "metadata": {},
   "outputs": [
    {
     "name": "stdout",
     "output_type": "stream",
     "text": [
      "Score: 0.44231390953063965\t Topic: 0.027*\"elect\" + 0.026*\"queensland\" + 0.019*\"health\" + 0.014*\"say\" + 0.010*\"donald\"\n",
      "Score: 0.2577252686023712\t Topic: 0.028*\"report\" + 0.021*\"school\" + 0.012*\"rise\" + 0.011*\"student\" + 0.010*\"game\"\n",
      "Score: 0.18321764469146729\t Topic: 0.047*\"polic\" + 0.028*\"charg\" + 0.025*\"court\" + 0.019*\"murder\" + 0.017*\"death\"\n",
      "Score: 0.01667976751923561\t Topic: 0.022*\"countri\" + 0.019*\"hour\" + 0.018*\"rural\" + 0.016*\"melbourn\" + 0.015*\"farmer\"\n",
      "Score: 0.01667896844446659\t Topic: 0.019*\"south\" + 0.017*\"coast\" + 0.016*\"north\" + 0.015*\"market\" + 0.014*\"china\"\n",
      "Score: 0.01667860895395279\t Topic: 0.025*\"australian\" + 0.018*\"warn\" + 0.015*\"kill\" + 0.015*\"break\" + 0.014*\"open\"\n",
      "Score: 0.01667669601738453\t Topic: 0.027*\"nation\" + 0.026*\"trump\" + 0.021*\"miss\" + 0.018*\"claim\" + 0.015*\"news\"\n",
      "Score: 0.016676638275384903\t Topic: 0.034*\"interview\" + 0.021*\"hospit\" + 0.018*\"dead\" + 0.011*\"john\" + 0.011*\"premier\"\n",
      "Score: 0.01667637936770916\t Topic: 0.035*\"australia\" + 0.021*\"world\" + 0.018*\"test\" + 0.017*\"win\" + 0.011*\"beat\"\n",
      "Score: 0.016676131635904312\t Topic: 0.029*\"govern\" + 0.027*\"plan\" + 0.023*\"council\" + 0.016*\"water\" + 0.015*\"chang\"\n"
     ]
    }
   ],
   "source": [
    "unseen_document = 'How a Pentagon deal became an identity crisis for Google'\n",
    "bow_vector = dictionary.doc2bow(preprocess(unseen_document))\n",
    "for index, score in sorted(lda_model4[bow_vector], key=lambda tup: -1*tup[1]):\n",
    "    print(\"Score: {}\\t Topic: {}\".format(score, lda_model4.print_topic(index, 5)))"
   ]
  },
  {
   "cell_type": "code",
   "execution_count": null,
   "metadata": {},
   "outputs": [],
   "source": []
  }
 ],
 "metadata": {
  "kernelspec": {
   "display_name": "Python 3",
   "language": "python",
   "name": "python3"
  },
  "language_info": {
   "codemirror_mode": {
    "name": "ipython",
    "version": 3
   },
   "file_extension": ".py",
   "mimetype": "text/x-python",
   "name": "python",
   "nbconvert_exporter": "python",
   "pygments_lexer": "ipython3",
   "version": "3.8.10"
  }
 },
 "nbformat": 4,
 "nbformat_minor": 2
}
